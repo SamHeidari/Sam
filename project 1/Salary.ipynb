{
 "cells": [
  {
   "cell_type": "code",
   "execution_count": 1,
   "id": "d1e0d0c7-6d23-47ff-8b1b-69865e21c578",
   "metadata": {
    "tags": []
   },
   "outputs": [],
   "source": [
    "import pandas as pd\n",
    "pd.set_option(\"display.max_rows\", 120)\n",
    "pd.set_option(\"display.max_columns\", 120)\n",
    "import numpy as np\n",
    "import math\n",
    "import seaborn as sns\n",
    "sns.set(rc={'figure.figsize': (10, 10)})\n",
    "import pandas as pd\n",
    "from statsmodels.formula.api import ols\n",
    "from statsmodels.stats.anova import anova_lm\n",
    "from scipy import stats\n",
    "from scipy.stats import pearsonr\n",
    "from scipy.stats import mannwhitneyu\n",
    "\n",
    "from matplotlib import pyplot as plt\n",
    "\n",
    "%matplotlib inline"
   ]
  },
  {
   "cell_type": "code",
   "execution_count": 2,
   "id": "64bebc7b-102b-4123-ac59-c4ac20e91830",
   "metadata": {
    "tags": []
   },
   "outputs": [],
   "source": [
    "df = pd.read_csv('C:\\\\Users\\\\samhe\\\\OneDrive\\\\Documents\\\\IOD\\\\DATA\\\\Salary_Data.csv')"
   ]
  },
  {
   "cell_type": "code",
   "execution_count": 3,
   "id": "a898fd80-eb9e-42b5-831d-c4b9a6be4362",
   "metadata": {
    "tags": []
   },
   "outputs": [
    {
     "data": {
      "text/html": [
       "<div>\n",
       "<style scoped>\n",
       "    .dataframe tbody tr th:only-of-type {\n",
       "        vertical-align: middle;\n",
       "    }\n",
       "\n",
       "    .dataframe tbody tr th {\n",
       "        vertical-align: top;\n",
       "    }\n",
       "\n",
       "    .dataframe thead th {\n",
       "        text-align: right;\n",
       "    }\n",
       "</style>\n",
       "<table border=\"1\" class=\"dataframe\">\n",
       "  <thead>\n",
       "    <tr style=\"text-align: right;\">\n",
       "      <th></th>\n",
       "      <th>Age</th>\n",
       "      <th>Gender</th>\n",
       "      <th>Education Level</th>\n",
       "      <th>Job Title</th>\n",
       "      <th>Years of Experience</th>\n",
       "      <th>Salary</th>\n",
       "    </tr>\n",
       "  </thead>\n",
       "  <tbody>\n",
       "    <tr>\n",
       "      <th>0</th>\n",
       "      <td>32.0</td>\n",
       "      <td>Male</td>\n",
       "      <td>Bachelor's</td>\n",
       "      <td>Software Engineer</td>\n",
       "      <td>5.0</td>\n",
       "      <td>90000.0</td>\n",
       "    </tr>\n",
       "    <tr>\n",
       "      <th>1</th>\n",
       "      <td>28.0</td>\n",
       "      <td>Female</td>\n",
       "      <td>Master's</td>\n",
       "      <td>Data Analyst</td>\n",
       "      <td>3.0</td>\n",
       "      <td>65000.0</td>\n",
       "    </tr>\n",
       "    <tr>\n",
       "      <th>2</th>\n",
       "      <td>45.0</td>\n",
       "      <td>Male</td>\n",
       "      <td>PhD</td>\n",
       "      <td>Senior Manager</td>\n",
       "      <td>15.0</td>\n",
       "      <td>150000.0</td>\n",
       "    </tr>\n",
       "    <tr>\n",
       "      <th>3</th>\n",
       "      <td>36.0</td>\n",
       "      <td>Female</td>\n",
       "      <td>Bachelor's</td>\n",
       "      <td>Sales Associate</td>\n",
       "      <td>7.0</td>\n",
       "      <td>60000.0</td>\n",
       "    </tr>\n",
       "    <tr>\n",
       "      <th>4</th>\n",
       "      <td>52.0</td>\n",
       "      <td>Male</td>\n",
       "      <td>Master's</td>\n",
       "      <td>Director</td>\n",
       "      <td>20.0</td>\n",
       "      <td>200000.0</td>\n",
       "    </tr>\n",
       "  </tbody>\n",
       "</table>\n",
       "</div>"
      ],
      "text/plain": [
       "    Age  Gender Education Level          Job Title  Years of Experience  \\\n",
       "0  32.0    Male      Bachelor's  Software Engineer                  5.0   \n",
       "1  28.0  Female        Master's       Data Analyst                  3.0   \n",
       "2  45.0    Male             PhD     Senior Manager                 15.0   \n",
       "3  36.0  Female      Bachelor's    Sales Associate                  7.0   \n",
       "4  52.0    Male        Master's           Director                 20.0   \n",
       "\n",
       "     Salary  \n",
       "0   90000.0  \n",
       "1   65000.0  \n",
       "2  150000.0  \n",
       "3   60000.0  \n",
       "4  200000.0  "
      ]
     },
     "execution_count": 3,
     "metadata": {},
     "output_type": "execute_result"
    }
   ],
   "source": [
    "df.head()"
   ]
  },
  {
   "cell_type": "code",
   "execution_count": 4,
   "id": "cbee4c5e-8f1e-44be-a2aa-f2f51db24382",
   "metadata": {
    "tags": []
   },
   "outputs": [],
   "source": [
    "df.columns = df.columns.str.replace(' ','_').str.lower()"
   ]
  },
  {
   "cell_type": "code",
   "execution_count": 5,
   "id": "5449a75b-aad7-41bd-920b-c92b417d0f67",
   "metadata": {
    "tags": []
   },
   "outputs": [
    {
     "data": {
      "text/html": [
       "<div>\n",
       "<style scoped>\n",
       "    .dataframe tbody tr th:only-of-type {\n",
       "        vertical-align: middle;\n",
       "    }\n",
       "\n",
       "    .dataframe tbody tr th {\n",
       "        vertical-align: top;\n",
       "    }\n",
       "\n",
       "    .dataframe thead th {\n",
       "        text-align: right;\n",
       "    }\n",
       "</style>\n",
       "<table border=\"1\" class=\"dataframe\">\n",
       "  <thead>\n",
       "    <tr style=\"text-align: right;\">\n",
       "      <th></th>\n",
       "      <th>age</th>\n",
       "      <th>gender</th>\n",
       "      <th>education_level</th>\n",
       "      <th>job_title</th>\n",
       "      <th>years_of_experience</th>\n",
       "      <th>salary</th>\n",
       "    </tr>\n",
       "  </thead>\n",
       "  <tbody>\n",
       "    <tr>\n",
       "      <th>6699</th>\n",
       "      <td>49.0</td>\n",
       "      <td>Female</td>\n",
       "      <td>PhD</td>\n",
       "      <td>Director of Marketing</td>\n",
       "      <td>20.0</td>\n",
       "      <td>200000.0</td>\n",
       "    </tr>\n",
       "    <tr>\n",
       "      <th>6700</th>\n",
       "      <td>32.0</td>\n",
       "      <td>Male</td>\n",
       "      <td>High School</td>\n",
       "      <td>Sales Associate</td>\n",
       "      <td>3.0</td>\n",
       "      <td>50000.0</td>\n",
       "    </tr>\n",
       "    <tr>\n",
       "      <th>6701</th>\n",
       "      <td>30.0</td>\n",
       "      <td>Female</td>\n",
       "      <td>Bachelor's Degree</td>\n",
       "      <td>Financial Manager</td>\n",
       "      <td>4.0</td>\n",
       "      <td>55000.0</td>\n",
       "    </tr>\n",
       "    <tr>\n",
       "      <th>6702</th>\n",
       "      <td>46.0</td>\n",
       "      <td>Male</td>\n",
       "      <td>Master's Degree</td>\n",
       "      <td>Marketing Manager</td>\n",
       "      <td>14.0</td>\n",
       "      <td>140000.0</td>\n",
       "    </tr>\n",
       "    <tr>\n",
       "      <th>6703</th>\n",
       "      <td>26.0</td>\n",
       "      <td>Female</td>\n",
       "      <td>High School</td>\n",
       "      <td>Sales Executive</td>\n",
       "      <td>1.0</td>\n",
       "      <td>35000.0</td>\n",
       "    </tr>\n",
       "  </tbody>\n",
       "</table>\n",
       "</div>"
      ],
      "text/plain": [
       "       age  gender    education_level              job_title  \\\n",
       "6699  49.0  Female                PhD  Director of Marketing   \n",
       "6700  32.0    Male        High School        Sales Associate   \n",
       "6701  30.0  Female  Bachelor's Degree      Financial Manager   \n",
       "6702  46.0    Male    Master's Degree      Marketing Manager   \n",
       "6703  26.0  Female        High School        Sales Executive   \n",
       "\n",
       "      years_of_experience    salary  \n",
       "6699                 20.0  200000.0  \n",
       "6700                  3.0   50000.0  \n",
       "6701                  4.0   55000.0  \n",
       "6702                 14.0  140000.0  \n",
       "6703                  1.0   35000.0  "
      ]
     },
     "execution_count": 5,
     "metadata": {},
     "output_type": "execute_result"
    }
   ],
   "source": [
    "df.tail()"
   ]
  },
  {
   "cell_type": "code",
   "execution_count": 6,
   "id": "d27cdddf-be46-4c3e-98ef-113c26fd6019",
   "metadata": {
    "tags": []
   },
   "outputs": [
    {
     "name": "stdout",
     "output_type": "stream",
     "text": [
      "<class 'pandas.core.frame.DataFrame'>\n",
      "RangeIndex: 6704 entries, 0 to 6703\n",
      "Data columns (total 6 columns):\n",
      " #   Column               Non-Null Count  Dtype  \n",
      "---  ------               --------------  -----  \n",
      " 0   age                  6702 non-null   float64\n",
      " 1   gender               6702 non-null   object \n",
      " 2   education_level      6701 non-null   object \n",
      " 3   job_title            6702 non-null   object \n",
      " 4   years_of_experience  6701 non-null   float64\n",
      " 5   salary               6699 non-null   float64\n",
      "dtypes: float64(3), object(3)\n",
      "memory usage: 314.4+ KB\n"
     ]
    }
   ],
   "source": [
    "df.info()"
   ]
  },
  {
   "cell_type": "code",
   "execution_count": 7,
   "id": "59c8e8b6-e61b-43b3-8b54-ff870d7c9830",
   "metadata": {
    "tags": []
   },
   "outputs": [],
   "source": [
    "#df['age'].astype('int')"
   ]
  },
  {
   "cell_type": "code",
   "execution_count": 8,
   "id": "18beb56d-b0c4-4f38-bc39-916dd51b7378",
   "metadata": {
    "tags": []
   },
   "outputs": [
    {
     "name": "stdout",
     "output_type": "stream",
     "text": [
      "<class 'pandas.core.frame.DataFrame'>\n",
      "RangeIndex: 6704 entries, 0 to 6703\n",
      "Data columns (total 6 columns):\n",
      " #   Column               Non-Null Count  Dtype  \n",
      "---  ------               --------------  -----  \n",
      " 0   age                  6702 non-null   float64\n",
      " 1   gender               6702 non-null   object \n",
      " 2   education_level      6701 non-null   object \n",
      " 3   job_title            6702 non-null   object \n",
      " 4   years_of_experience  6701 non-null   float64\n",
      " 5   salary               6699 non-null   float64\n",
      "dtypes: float64(3), object(3)\n",
      "memory usage: 314.4+ KB\n"
     ]
    }
   ],
   "source": [
    "df.info()"
   ]
  },
  {
   "cell_type": "code",
   "execution_count": 9,
   "id": "dd355937-efd0-4e09-9f3a-ca76af0a50a7",
   "metadata": {
    "tags": []
   },
   "outputs": [
    {
     "data": {
      "text/plain": [
       "float64    3\n",
       "object     3\n",
       "Name: count, dtype: int64"
      ]
     },
     "execution_count": 9,
     "metadata": {},
     "output_type": "execute_result"
    }
   ],
   "source": [
    "df.dtypes.value_counts()"
   ]
  },
  {
   "cell_type": "code",
   "execution_count": 10,
   "id": "83b05d6b-6e8f-4cd9-bd08-71194ff56233",
   "metadata": {
    "tags": []
   },
   "outputs": [
    {
     "data": {
      "text/plain": [
       "age                    2\n",
       "gender                 2\n",
       "education_level        3\n",
       "job_title              2\n",
       "years_of_experience    3\n",
       "salary                 5\n",
       "dtype: int64"
      ]
     },
     "execution_count": 10,
     "metadata": {},
     "output_type": "execute_result"
    }
   ],
   "source": [
    "df.isnull().sum()"
   ]
  },
  {
   "cell_type": "code",
   "execution_count": 11,
   "id": "2d4e2751-a413-4855-ab74-5891f60f1200",
   "metadata": {
    "tags": []
   },
   "outputs": [
    {
     "data": {
      "text/plain": [
       "array([ 90000.,  65000., 150000.,  60000., 200000.,  55000., 120000.,\n",
       "        80000.,  45000., 110000.,  75000., 140000., 130000.,  40000.,\n",
       "       125000., 115000.,  35000., 180000., 190000.,  50000., 250000.,\n",
       "       170000., 160000.,  85000.,  95000., 105000.,  70000., 100000.,\n",
       "        30000., 135000., 220000., 175000., 185000.,     nan, 145000.,\n",
       "       155000.,    350., 195000., 198000., 196000., 193000.,  92000.,\n",
       "       165000., 162000., 197000., 142000., 182000., 210000.,    550.,\n",
       "       122485., 169159., 187081., 166109.,  78354.,  90249., 132720.,\n",
       "       161568., 127346., 120177.,  69032., 101332., 121450., 166375.,\n",
       "       185119., 149217., 166512., 186963.,  75072., 163398., 103947.,\n",
       "       179180., 175966., 190004., 152039.,  76742., 191790., 139398.,\n",
       "        95845., 160976., 126753., 161393., 139817., 181714., 114776.,\n",
       "       105725.,  52731., 106492.,  73895., 119836.,  99747., 168287.,\n",
       "       115920., 128078.,  51265., 165919., 188651.,  55538., 193964.,\n",
       "       104702., 172955., 138032.,  82683., 155414., 154207., 107895.,\n",
       "       148446., 102859., 138662., 181699., 188232.,  51832., 188484.,\n",
       "       138286., 181132.,  73938., 119224., 101186., 142360., 151315.,\n",
       "       181021., 134641., 173851., 104127., 178859.,  98568., 104661.,\n",
       "       134858.,  94502.,  62852., 139095., 106278.,  90452., 168304.,\n",
       "       126593., 152203., 183138., 130275., 191915.,  62807., 174305.,\n",
       "       133326.,  75656., 155944., 137775.,  51831., 182237., 151901.,\n",
       "       100052., 158254., 167207., 112439., 194214.,  84407., 139413.,\n",
       "       143084., 192344., 106132., 184816., 150248., 170995.,  88035.,\n",
       "       119419., 173582., 174436.,  71699., 163558., 166828., 144496.,\n",
       "       193746., 122581.,  79767., 177177.,  89843., 113563., 128712.,\n",
       "       161621., 121454., 179987.,  72649.,  52612., 184006., 131960.,\n",
       "       102465., 149748., 171036., 146351., 185462., 107718.,  90944.,\n",
       "       100425.,  63901., 181902., 136533., 136285., 191818., 176643.,\n",
       "        70022.,  99363., 152944., 123386., 168906., 183020.,  47898.,\n",
       "       135853., 149198., 106662., 186610.,  89995.,  85825., 143814.,\n",
       "       174726., 150534.,  68732., 187951., 137336., 191159., 102868.,\n",
       "       154281., 111535., 107906., 143885., 180958., 108607., 178284.,\n",
       "        75969., 143705., 197354., 174324., 123781., 141735., 187120.,\n",
       "        61095., 179045., 130355., 103282., 157872., 117314., 186321.,\n",
       "       129686.,  68611., 177913.,  68472., 113065., 125091., 172925.,\n",
       "       126916., 183417.,  76898.,    579., 103579., 163780., 137878.,\n",
       "        92438.,  84181., 174821., 126520., 152168., 190543., 131547.,\n",
       "       192292.,  52807., 174938., 124071.,  73640., 156486., 138859.,\n",
       "        52831., 182392., 151078., 100679., 158966., 167924., 113334.,\n",
       "       194778.,  77606., 140010., 142421., 192756., 106686., 186794.,\n",
       "       150729., 171652.,  88552., 119918., 174985., 174336.,  72389.,\n",
       "       163978., 166958., 145052., 195270., 122970.,  80247., 177862.,\n",
       "        91062., 114290., 128999., 162454., 122354., 179756.,  73218.,\n",
       "       184480., 132442., 102828., 150301., 171468., 147326., 185982.,\n",
       "       108267.,  91397., 100867.,  64182., 182506., 136986., 136662.,\n",
       "       191510., 177347.,  70397., 146075., 155795., 132638., 178684.,\n",
       "       106218., 191239.,  65840.,  52779., 185038., 136449., 110707.,\n",
       "       151670., 167015., 146508., 190596., 104378.,  70216., 101733.,\n",
       "        55935., 180367., 135596., 136062., 191267.,  82944., 188288.,\n",
       "       141090., 152726., 124141.,  67556., 182768., 148727.,  91903.,\n",
       "       147708., 163209., 120288., 170226., 134979., 137489.,  83577.,\n",
       "       117904., 134482., 184660., 100151.,  88678., 181285., 154990.,\n",
       "       108204., 175684.,  77766., 192211., 144647., 162231., 121120.,\n",
       "        79652., 177002.,  87584., 131860., 182013., 108799., 135378.,\n",
       "       183530., 150901.,  82697., 194638., 130356., 152560., 121432.,\n",
       "        63789., 183690., 151310., 100358., 148437., 168691.,  32000.,\n",
       "        38000.,  89000.,  33000.,  25000.,  62000., 138000.,  47000.,\n",
       "        26000., 174000.,  41000.,  99000., 117000., 225000.,  36000.,\n",
       "       146000., 113000., 168000., 122000.,  96000.,  49000.,  68000.,\n",
       "       127000.,  71000., 240000., 152000., 119000., 131000., 101000.,\n",
       "       137000., 112000.,  91000., 179000.,  74000., 228000.,  37000.,\n",
       "       204000.,  61000., 157000.,  52000.,  58000., 219000.,  77000.,\n",
       "       104000., 183000.,  43000.,  48000.,  42000.,    500.,  57000.,\n",
       "        72000.,  31000.,  28000., 215000.])"
      ]
     },
     "execution_count": 11,
     "metadata": {},
     "output_type": "execute_result"
    }
   ],
   "source": [
    "df['salary'].unique()"
   ]
  },
  {
   "cell_type": "code",
   "execution_count": 12,
   "id": "d6269012-3ee0-4770-966f-ed46648c1303",
   "metadata": {
    "tags": []
   },
   "outputs": [
    {
     "data": {
      "text/html": [
       "<div>\n",
       "<style scoped>\n",
       "    .dataframe tbody tr th:only-of-type {\n",
       "        vertical-align: middle;\n",
       "    }\n",
       "\n",
       "    .dataframe tbody tr th {\n",
       "        vertical-align: top;\n",
       "    }\n",
       "\n",
       "    .dataframe thead th {\n",
       "        text-align: right;\n",
       "    }\n",
       "</style>\n",
       "<table border=\"1\" class=\"dataframe\">\n",
       "  <thead>\n",
       "    <tr style=\"text-align: right;\">\n",
       "      <th></th>\n",
       "      <th>age</th>\n",
       "      <th>gender</th>\n",
       "      <th>education_level</th>\n",
       "      <th>job_title</th>\n",
       "      <th>years_of_experience</th>\n",
       "      <th>salary</th>\n",
       "    </tr>\n",
       "  </thead>\n",
       "  <tbody>\n",
       "    <tr>\n",
       "      <th>172</th>\n",
       "      <td>NaN</td>\n",
       "      <td>NaN</td>\n",
       "      <td>NaN</td>\n",
       "      <td>NaN</td>\n",
       "      <td>NaN</td>\n",
       "      <td>NaN</td>\n",
       "    </tr>\n",
       "    <tr>\n",
       "      <th>260</th>\n",
       "      <td>NaN</td>\n",
       "      <td>NaN</td>\n",
       "      <td>NaN</td>\n",
       "      <td>NaN</td>\n",
       "      <td>NaN</td>\n",
       "      <td>NaN</td>\n",
       "    </tr>\n",
       "    <tr>\n",
       "      <th>3136</th>\n",
       "      <td>31.0</td>\n",
       "      <td>Male</td>\n",
       "      <td>Master's Degree</td>\n",
       "      <td>Full Stack Engineer</td>\n",
       "      <td>8.0</td>\n",
       "      <td>NaN</td>\n",
       "    </tr>\n",
       "    <tr>\n",
       "      <th>5247</th>\n",
       "      <td>26.0</td>\n",
       "      <td>Female</td>\n",
       "      <td>Bachelor's Degree</td>\n",
       "      <td>Social M</td>\n",
       "      <td>NaN</td>\n",
       "      <td>NaN</td>\n",
       "    </tr>\n",
       "    <tr>\n",
       "      <th>6455</th>\n",
       "      <td>36.0</td>\n",
       "      <td>Male</td>\n",
       "      <td>Bachelor's Degree</td>\n",
       "      <td>Sales Director</td>\n",
       "      <td>6.0</td>\n",
       "      <td>NaN</td>\n",
       "    </tr>\n",
       "  </tbody>\n",
       "</table>\n",
       "</div>"
      ],
      "text/plain": [
       "       age  gender    education_level            job_title  \\\n",
       "172    NaN     NaN                NaN                  NaN   \n",
       "260    NaN     NaN                NaN                  NaN   \n",
       "3136  31.0    Male    Master's Degree  Full Stack Engineer   \n",
       "5247  26.0  Female  Bachelor's Degree             Social M   \n",
       "6455  36.0    Male  Bachelor's Degree       Sales Director   \n",
       "\n",
       "      years_of_experience  salary  \n",
       "172                   NaN     NaN  \n",
       "260                   NaN     NaN  \n",
       "3136                  8.0     NaN  \n",
       "5247                  NaN     NaN  \n",
       "6455                  6.0     NaN  "
      ]
     },
     "execution_count": 12,
     "metadata": {},
     "output_type": "execute_result"
    }
   ],
   "source": [
    "df[df['salary'].isnull()]"
   ]
  },
  {
   "cell_type": "code",
   "execution_count": 13,
   "id": "70463e42-a83b-47b7-a83d-e4cb3c38a5a4",
   "metadata": {
    "tags": []
   },
   "outputs": [],
   "source": [
    "df.drop([172,260,3136,5247,6455], inplace= True)"
   ]
  },
  {
   "cell_type": "code",
   "execution_count": 14,
   "id": "c9c96a4f-e832-4ed7-badd-173617702e14",
   "metadata": {
    "tags": []
   },
   "outputs": [
    {
     "data": {
      "text/plain": [
       "age                    0\n",
       "gender                 0\n",
       "education_level        1\n",
       "job_title              0\n",
       "years_of_experience    0\n",
       "salary                 0\n",
       "dtype: int64"
      ]
     },
     "execution_count": 14,
     "metadata": {},
     "output_type": "execute_result"
    }
   ],
   "source": [
    "df.isna().sum()"
   ]
  },
  {
   "cell_type": "code",
   "execution_count": 15,
   "id": "42b19eb6-9425-4d4a-8480-8f345330615c",
   "metadata": {
    "tags": []
   },
   "outputs": [
    {
     "data": {
      "text/html": [
       "<div>\n",
       "<style scoped>\n",
       "    .dataframe tbody tr th:only-of-type {\n",
       "        vertical-align: middle;\n",
       "    }\n",
       "\n",
       "    .dataframe tbody tr th {\n",
       "        vertical-align: top;\n",
       "    }\n",
       "\n",
       "    .dataframe thead th {\n",
       "        text-align: right;\n",
       "    }\n",
       "</style>\n",
       "<table border=\"1\" class=\"dataframe\">\n",
       "  <thead>\n",
       "    <tr style=\"text-align: right;\">\n",
       "      <th></th>\n",
       "      <th>age</th>\n",
       "      <th>gender</th>\n",
       "      <th>education_level</th>\n",
       "      <th>job_title</th>\n",
       "      <th>years_of_experience</th>\n",
       "      <th>salary</th>\n",
       "    </tr>\n",
       "  </thead>\n",
       "  <tbody>\n",
       "    <tr>\n",
       "      <th>2011</th>\n",
       "      <td>27.0</td>\n",
       "      <td>Male</td>\n",
       "      <td>NaN</td>\n",
       "      <td>Developer</td>\n",
       "      <td>7.0</td>\n",
       "      <td>100000.0</td>\n",
       "    </tr>\n",
       "  </tbody>\n",
       "</table>\n",
       "</div>"
      ],
      "text/plain": [
       "       age gender education_level  job_title  years_of_experience    salary\n",
       "2011  27.0   Male             NaN  Developer                  7.0  100000.0"
      ]
     },
     "execution_count": 15,
     "metadata": {},
     "output_type": "execute_result"
    }
   ],
   "source": [
    "df[df['education_level'].isnull()]"
   ]
  },
  {
   "cell_type": "code",
   "execution_count": 16,
   "id": "e45c8439-3920-4b6e-8066-6760145e56d3",
   "metadata": {
    "tags": []
   },
   "outputs": [],
   "source": [
    "df.drop([2011], inplace= True)"
   ]
  },
  {
   "cell_type": "code",
   "execution_count": 17,
   "id": "f91b3469-84a9-4014-942f-bd357724d8b9",
   "metadata": {
    "tags": []
   },
   "outputs": [
    {
     "data": {
      "text/plain": [
       "age                    0\n",
       "gender                 0\n",
       "education_level        0\n",
       "job_title              0\n",
       "years_of_experience    0\n",
       "salary                 0\n",
       "dtype: int64"
      ]
     },
     "execution_count": 17,
     "metadata": {},
     "output_type": "execute_result"
    }
   ],
   "source": [
    "df.isna().sum()"
   ]
  },
  {
   "cell_type": "code",
   "execution_count": 18,
   "id": "e4137435-4009-496e-a013-646d8b0722cd",
   "metadata": {
    "tags": []
   },
   "outputs": [],
   "source": [
    "df['age']=df.age.astype('int')\n",
    "df['salary'] = df.salary.astype('int')\n",
    "df['years_of_experience'] = df.years_of_experience.astype('int')"
   ]
  },
  {
   "cell_type": "code",
   "execution_count": 19,
   "id": "fd8b7da8-8449-40bd-b6ae-83f885596f52",
   "metadata": {
    "tags": []
   },
   "outputs": [
    {
     "name": "stdout",
     "output_type": "stream",
     "text": [
      "<class 'pandas.core.frame.DataFrame'>\n",
      "Index: 6698 entries, 0 to 6703\n",
      "Data columns (total 6 columns):\n",
      " #   Column               Non-Null Count  Dtype \n",
      "---  ------               --------------  ----- \n",
      " 0   age                  6698 non-null   int32 \n",
      " 1   gender               6698 non-null   object\n",
      " 2   education_level      6698 non-null   object\n",
      " 3   job_title            6698 non-null   object\n",
      " 4   years_of_experience  6698 non-null   int32 \n",
      " 5   salary               6698 non-null   int32 \n",
      "dtypes: int32(3), object(3)\n",
      "memory usage: 287.8+ KB\n"
     ]
    }
   ],
   "source": [
    "df.info()"
   ]
  },
  {
   "cell_type": "code",
   "execution_count": 20,
   "id": "7837a24a-86bd-43b6-ac0c-058ef0a2ec43",
   "metadata": {
    "tags": []
   },
   "outputs": [
    {
     "data": {
      "text/html": [
       "<div>\n",
       "<style scoped>\n",
       "    .dataframe tbody tr th:only-of-type {\n",
       "        vertical-align: middle;\n",
       "    }\n",
       "\n",
       "    .dataframe tbody tr th {\n",
       "        vertical-align: top;\n",
       "    }\n",
       "\n",
       "    .dataframe thead th {\n",
       "        text-align: right;\n",
       "    }\n",
       "</style>\n",
       "<table border=\"1\" class=\"dataframe\">\n",
       "  <thead>\n",
       "    <tr style=\"text-align: right;\">\n",
       "      <th></th>\n",
       "      <th>age</th>\n",
       "      <th>gender</th>\n",
       "      <th>education_level</th>\n",
       "      <th>job_title</th>\n",
       "      <th>years_of_experience</th>\n",
       "      <th>salary</th>\n",
       "    </tr>\n",
       "  </thead>\n",
       "  <tbody>\n",
       "    <tr>\n",
       "      <th>0</th>\n",
       "      <td>32</td>\n",
       "      <td>Male</td>\n",
       "      <td>Bachelor's</td>\n",
       "      <td>Software Engineer</td>\n",
       "      <td>5</td>\n",
       "      <td>90000</td>\n",
       "    </tr>\n",
       "    <tr>\n",
       "      <th>1</th>\n",
       "      <td>28</td>\n",
       "      <td>Female</td>\n",
       "      <td>Master's</td>\n",
       "      <td>Data Analyst</td>\n",
       "      <td>3</td>\n",
       "      <td>65000</td>\n",
       "    </tr>\n",
       "    <tr>\n",
       "      <th>2</th>\n",
       "      <td>45</td>\n",
       "      <td>Male</td>\n",
       "      <td>PhD</td>\n",
       "      <td>Senior Manager</td>\n",
       "      <td>15</td>\n",
       "      <td>150000</td>\n",
       "    </tr>\n",
       "    <tr>\n",
       "      <th>3</th>\n",
       "      <td>36</td>\n",
       "      <td>Female</td>\n",
       "      <td>Bachelor's</td>\n",
       "      <td>Sales Associate</td>\n",
       "      <td>7</td>\n",
       "      <td>60000</td>\n",
       "    </tr>\n",
       "    <tr>\n",
       "      <th>4</th>\n",
       "      <td>52</td>\n",
       "      <td>Male</td>\n",
       "      <td>Master's</td>\n",
       "      <td>Director</td>\n",
       "      <td>20</td>\n",
       "      <td>200000</td>\n",
       "    </tr>\n",
       "  </tbody>\n",
       "</table>\n",
       "</div>"
      ],
      "text/plain": [
       "   age  gender education_level          job_title  years_of_experience  salary\n",
       "0   32    Male      Bachelor's  Software Engineer                    5   90000\n",
       "1   28  Female        Master's       Data Analyst                    3   65000\n",
       "2   45    Male             PhD     Senior Manager                   15  150000\n",
       "3   36  Female      Bachelor's    Sales Associate                    7   60000\n",
       "4   52    Male        Master's           Director                   20  200000"
      ]
     },
     "execution_count": 20,
     "metadata": {},
     "output_type": "execute_result"
    }
   ],
   "source": [
    "df.head()"
   ]
  },
  {
   "cell_type": "code",
   "execution_count": 21,
   "id": "8c502e3b-1433-46a9-9823-d43df072f3d4",
   "metadata": {
    "tags": []
   },
   "outputs": [
    {
     "data": {
      "text/plain": [
       "count      6698.000000\n",
       "mean     115329.253061\n",
       "std       52789.792507\n",
       "min         350.000000\n",
       "25%       70000.000000\n",
       "50%      115000.000000\n",
       "75%      160000.000000\n",
       "max      250000.000000\n",
       "Name: salary, dtype: float64"
      ]
     },
     "execution_count": 21,
     "metadata": {},
     "output_type": "execute_result"
    }
   ],
   "source": [
    "df['salary'].describe()"
   ]
  },
  {
   "cell_type": "code",
   "execution_count": 22,
   "id": "7a0abb25-45c7-4707-902b-f0eed0f8deec",
   "metadata": {
    "tags": []
   },
   "outputs": [
    {
     "data": {
      "text/html": [
       "<div>\n",
       "<style scoped>\n",
       "    .dataframe tbody tr th:only-of-type {\n",
       "        vertical-align: middle;\n",
       "    }\n",
       "\n",
       "    .dataframe tbody tr th {\n",
       "        vertical-align: top;\n",
       "    }\n",
       "\n",
       "    .dataframe thead th {\n",
       "        text-align: right;\n",
       "    }\n",
       "</style>\n",
       "<table border=\"1\" class=\"dataframe\">\n",
       "  <thead>\n",
       "    <tr style=\"text-align: right;\">\n",
       "      <th></th>\n",
       "      <th>age</th>\n",
       "      <th>gender</th>\n",
       "      <th>education_level</th>\n",
       "      <th>job_title</th>\n",
       "      <th>years_of_experience</th>\n",
       "      <th>salary</th>\n",
       "    </tr>\n",
       "  </thead>\n",
       "  <tbody>\n",
       "    <tr>\n",
       "      <th>count</th>\n",
       "      <td>6698.000000</td>\n",
       "      <td>6698</td>\n",
       "      <td>6698</td>\n",
       "      <td>6698</td>\n",
       "      <td>6698.000000</td>\n",
       "      <td>6698.000000</td>\n",
       "    </tr>\n",
       "    <tr>\n",
       "      <th>unique</th>\n",
       "      <td>NaN</td>\n",
       "      <td>3</td>\n",
       "      <td>7</td>\n",
       "      <td>191</td>\n",
       "      <td>NaN</td>\n",
       "      <td>NaN</td>\n",
       "    </tr>\n",
       "    <tr>\n",
       "      <th>top</th>\n",
       "      <td>NaN</td>\n",
       "      <td>Male</td>\n",
       "      <td>Bachelor's Degree</td>\n",
       "      <td>Software Engineer</td>\n",
       "      <td>NaN</td>\n",
       "      <td>NaN</td>\n",
       "    </tr>\n",
       "    <tr>\n",
       "      <th>freq</th>\n",
       "      <td>NaN</td>\n",
       "      <td>3671</td>\n",
       "      <td>2265</td>\n",
       "      <td>518</td>\n",
       "      <td>NaN</td>\n",
       "      <td>NaN</td>\n",
       "    </tr>\n",
       "    <tr>\n",
       "      <th>mean</th>\n",
       "      <td>33.623022</td>\n",
       "      <td>NaN</td>\n",
       "      <td>NaN</td>\n",
       "      <td>NaN</td>\n",
       "      <td>8.094207</td>\n",
       "      <td>115329.253061</td>\n",
       "    </tr>\n",
       "    <tr>\n",
       "      <th>std</th>\n",
       "      <td>7.615784</td>\n",
       "      <td>NaN</td>\n",
       "      <td>NaN</td>\n",
       "      <td>NaN</td>\n",
       "      <td>6.061399</td>\n",
       "      <td>52789.792507</td>\n",
       "    </tr>\n",
       "    <tr>\n",
       "      <th>min</th>\n",
       "      <td>21.000000</td>\n",
       "      <td>NaN</td>\n",
       "      <td>NaN</td>\n",
       "      <td>NaN</td>\n",
       "      <td>0.000000</td>\n",
       "      <td>350.000000</td>\n",
       "    </tr>\n",
       "    <tr>\n",
       "      <th>25%</th>\n",
       "      <td>28.000000</td>\n",
       "      <td>NaN</td>\n",
       "      <td>NaN</td>\n",
       "      <td>NaN</td>\n",
       "      <td>3.000000</td>\n",
       "      <td>70000.000000</td>\n",
       "    </tr>\n",
       "    <tr>\n",
       "      <th>50%</th>\n",
       "      <td>32.000000</td>\n",
       "      <td>NaN</td>\n",
       "      <td>NaN</td>\n",
       "      <td>NaN</td>\n",
       "      <td>7.000000</td>\n",
       "      <td>115000.000000</td>\n",
       "    </tr>\n",
       "    <tr>\n",
       "      <th>75%</th>\n",
       "      <td>38.000000</td>\n",
       "      <td>NaN</td>\n",
       "      <td>NaN</td>\n",
       "      <td>NaN</td>\n",
       "      <td>12.000000</td>\n",
       "      <td>160000.000000</td>\n",
       "    </tr>\n",
       "    <tr>\n",
       "      <th>max</th>\n",
       "      <td>62.000000</td>\n",
       "      <td>NaN</td>\n",
       "      <td>NaN</td>\n",
       "      <td>NaN</td>\n",
       "      <td>34.000000</td>\n",
       "      <td>250000.000000</td>\n",
       "    </tr>\n",
       "  </tbody>\n",
       "</table>\n",
       "</div>"
      ],
      "text/plain": [
       "                age gender    education_level          job_title  \\\n",
       "count   6698.000000   6698               6698               6698   \n",
       "unique          NaN      3                  7                191   \n",
       "top             NaN   Male  Bachelor's Degree  Software Engineer   \n",
       "freq            NaN   3671               2265                518   \n",
       "mean      33.623022    NaN                NaN                NaN   \n",
       "std        7.615784    NaN                NaN                NaN   \n",
       "min       21.000000    NaN                NaN                NaN   \n",
       "25%       28.000000    NaN                NaN                NaN   \n",
       "50%       32.000000    NaN                NaN                NaN   \n",
       "75%       38.000000    NaN                NaN                NaN   \n",
       "max       62.000000    NaN                NaN                NaN   \n",
       "\n",
       "        years_of_experience         salary  \n",
       "count           6698.000000    6698.000000  \n",
       "unique                  NaN            NaN  \n",
       "top                     NaN            NaN  \n",
       "freq                    NaN            NaN  \n",
       "mean               8.094207  115329.253061  \n",
       "std                6.061399   52789.792507  \n",
       "min                0.000000     350.000000  \n",
       "25%                3.000000   70000.000000  \n",
       "50%                7.000000  115000.000000  \n",
       "75%               12.000000  160000.000000  \n",
       "max               34.000000  250000.000000  "
      ]
     },
     "execution_count": 22,
     "metadata": {},
     "output_type": "execute_result"
    }
   ],
   "source": [
    "df.describe(include='all')"
   ]
  },
  {
   "cell_type": "code",
   "execution_count": 23,
   "id": "f5d4a881-009c-406a-87d5-70c8c4fcc797",
   "metadata": {
    "tags": []
   },
   "outputs": [
    {
     "data": {
      "text/plain": [
       "years_of_experience\n",
       "2     610\n",
       "3     602\n",
       "1     552\n",
       "4     522\n",
       "6     438\n",
       "8     425\n",
       "5     399\n",
       "9     380\n",
       "7     352\n",
       "11    320\n",
       "12    294\n",
       "14    253\n",
       "16    242\n",
       "13    209\n",
       "10    192\n",
       "15    129\n",
       "18    126\n",
       "0     121\n",
       "19    121\n",
       "17    106\n",
       "20     61\n",
       "22     47\n",
       "21     42\n",
       "23     37\n",
       "25     24\n",
       "24     19\n",
       "28     16\n",
       "29     12\n",
       "27     11\n",
       "32     10\n",
       "26      7\n",
       "30      6\n",
       "33      6\n",
       "31      5\n",
       "34      2\n",
       "Name: count, dtype: int64"
      ]
     },
     "execution_count": 23,
     "metadata": {},
     "output_type": "execute_result"
    }
   ],
   "source": [
    "df['years_of_experience'].value_counts()"
   ]
  },
  {
   "cell_type": "code",
   "execution_count": 24,
   "id": "74c7cdc2-d8aa-4f1e-945d-266bdbe15a90",
   "metadata": {
    "tags": []
   },
   "outputs": [
    {
     "data": {
      "text/plain": [
       "array([ 5,  3, 15,  7, 20,  2, 12,  4,  1, 10, 18,  6, 14, 16,  0, 22, 19,\n",
       "        9, 13, 11, 25, 21,  8, 17, 23, 24, 31, 30, 28, 33, 27, 34, 29, 26,\n",
       "       32])"
      ]
     },
     "execution_count": 24,
     "metadata": {},
     "output_type": "execute_result"
    }
   ],
   "source": [
    "df['years_of_experience'].unique()"
   ]
  },
  {
   "cell_type": "code",
   "execution_count": 25,
   "id": "cc77c9a4-23c8-4047-bd8e-e7286e773cf3",
   "metadata": {
    "tags": []
   },
   "outputs": [],
   "source": [
    "df.loc[df['gender']=='Other', 'gender']='Female'"
   ]
  },
  {
   "cell_type": "code",
   "execution_count": 26,
   "id": "d1816e27-c74b-4b20-8740-312d16adc4c2",
   "metadata": {
    "tags": []
   },
   "outputs": [
    {
     "data": {
      "text/plain": [
       "gender\n",
       "Male      3671\n",
       "Female    3027\n",
       "Name: count, dtype: int64"
      ]
     },
     "execution_count": 26,
     "metadata": {},
     "output_type": "execute_result"
    }
   ],
   "source": [
    "genders = df['gender'].value_counts()\n",
    "genders"
   ]
  },
  {
   "cell_type": "code",
   "execution_count": 27,
   "id": "6d10e991-4364-4a77-b380-c549329e5749",
   "metadata": {
    "tags": []
   },
   "outputs": [
    {
     "data": {
      "text/plain": [
       "gender\n",
       "Male      3671\n",
       "Female    3027\n",
       "Name: count, dtype: int64"
      ]
     },
     "execution_count": 27,
     "metadata": {},
     "output_type": "execute_result"
    }
   ],
   "source": [
    "genders = df['gender'].value_counts()\n",
    "genders"
   ]
  },
  {
   "cell_type": "code",
   "execution_count": 28,
   "id": "bf59df62-4c9f-4384-82c4-a989ef59d5bf",
   "metadata": {
    "tags": []
   },
   "outputs": [
    {
     "data": {
      "image/png": "[encoded data removed]",
      "text/plain": [
       "<Figure size 1000x1000 with 1 Axes>"
      ]
     },
     "metadata": {},
     "output_type": "display_data"
    }
   ],
   "source": [
    "genders.plot.pie(autopct='%1.1f%% ', legend = True ) \n",
    "plt.legend(labels = genders.index, loc='upper right')\n",
    "plt.show()"
   ]
  },
  {
   "cell_type": "code",
   "execution_count": 145,
   "id": "81a305c2-37f5-4a21-98ab-848a4283af1a",
   "metadata": {
    "tags": []
   },
   "outputs": [
    {
     "name": "stderr",
     "output_type": "stream",
     "text": [
      "C:\\Users\\samhe\\anaconda3\\envs\\iod\\Lib\\site-packages\\seaborn\\_oldcore.py:1498: FutureWarning: is_categorical_dtype is deprecated and will be removed in a future version. Use isinstance(dtype, CategoricalDtype) instead\n",
      "  if pd.api.types.is_categorical_dtype(vector):\n",
      "C:\\Users\\samhe\\anaconda3\\envs\\iod\\Lib\\site-packages\\seaborn\\_oldcore.py:1498: FutureWarning: is_categorical_dtype is deprecated and will be removed in a future version. Use isinstance(dtype, CategoricalDtype) instead\n",
      "  if pd.api.types.is_categorical_dtype(vector):\n",
      "C:\\Users\\samhe\\anaconda3\\envs\\iod\\Lib\\site-packages\\seaborn\\_oldcore.py:1498: FutureWarning: is_categorical_dtype is deprecated and will be removed in a future version. Use isinstance(dtype, CategoricalDtype) instead\n",
      "  if pd.api.types.is_categorical_dtype(vector):\n"
     ]
    },
    {
     "data": {
      "image/png": "[encoded data removed]",
      "text/plain": [
       "<Figure size 1000x1000 with 1 Axes>"
      ]
     },
     "metadata": {},
     "output_type": "display_data"
    }
   ],
   "source": [
    "sns.boxplot(x='gender', y='salary',data =df);"
   ]
  },
  {
   "cell_type": "code",
   "execution_count": 154,
   "id": "9cccc966-814f-46d7-b70f-92fe3f8f3aed",
   "metadata": {
    "tags": []
   },
   "outputs": [
    {
     "name": "stderr",
     "output_type": "stream",
     "text": [
      "C:\\Users\\samhe\\anaconda3\\envs\\iod\\Lib\\site-packages\\seaborn\\_oldcore.py:1498: FutureWarning: is_categorical_dtype is deprecated and will be removed in a future version. Use isinstance(dtype, CategoricalDtype) instead\n",
      "  if pd.api.types.is_categorical_dtype(vector):\n",
      "C:\\Users\\samhe\\anaconda3\\envs\\iod\\Lib\\site-packages\\seaborn\\_oldcore.py:1498: FutureWarning: is_categorical_dtype is deprecated and will be removed in a future version. Use isinstance(dtype, CategoricalDtype) instead\n",
      "  if pd.api.types.is_categorical_dtype(vector):\n",
      "C:\\Users\\samhe\\anaconda3\\envs\\iod\\Lib\\site-packages\\seaborn\\_oldcore.py:1498: FutureWarning: is_categorical_dtype is deprecated and will be removed in a future version. Use isinstance(dtype, CategoricalDtype) instead\n",
      "  if pd.api.types.is_categorical_dtype(vector):\n",
      "C:\\Users\\samhe\\anaconda3\\envs\\iod\\Lib\\site-packages\\seaborn\\_oldcore.py:1498: FutureWarning: is_categorical_dtype is deprecated and will be removed in a future version. Use isinstance(dtype, CategoricalDtype) instead\n",
      "  if pd.api.types.is_categorical_dtype(vector):\n",
      "C:\\Users\\samhe\\anaconda3\\envs\\iod\\Lib\\site-packages\\seaborn\\_oldcore.py:1119: FutureWarning: use_inf_as_na option is deprecated and will be removed in a future version. Convert inf values to NaN before operating instead.\n",
      "  with pd.option_context('mode.use_inf_as_na', True):\n"
     ]
    },
    {
     "data": {
      "text/plain": [
       "<Axes: xlabel='salary', ylabel='Count'>"
      ]
     },
     "execution_count": 154,
     "metadata": {},
     "output_type": "execute_result"
    },
    {
     "data": {
      "image/png": "[encoded data removed]",
      "text/plain": [
       "<Figure size 1000x1000 with 1 Axes>"
      ]
     },
     "metadata": {},
     "output_type": "display_data"
    }
   ],
   "source": [
    "sns.histplot(x='salary',hue='education_level', data=df)"
   ]
  },
  {
   "cell_type": "code",
   "execution_count": 158,
   "id": "5f6efb94-f6f9-47ec-845a-d33f35094de7",
   "metadata": {
    "tags": []
   },
   "outputs": [
    {
     "data": {
      "image/png": "[encoded data removed]",
      "text/plain": [
       "<Figure size 1000x1000 with 1 Axes>"
      ]
     },
     "metadata": {},
     "output_type": "display_data"
    }
   ],
   "source": [
    "plt.hist(df.salary);"
   ]
  },
  {
   "cell_type": "code",
   "execution_count": 29,
   "id": "7b875bbe-1fd9-4faf-8cf1-82002c955a44",
   "metadata": {
    "tags": []
   },
   "outputs": [
    {
     "name": "stderr",
     "output_type": "stream",
     "text": [
      "C:\\Users\\samhe\\anaconda3\\envs\\iod\\Lib\\site-packages\\seaborn\\_oldcore.py:1498: FutureWarning: is_categorical_dtype is deprecated and will be removed in a future version. Use isinstance(dtype, CategoricalDtype) instead\n",
      "  if pd.api.types.is_categorical_dtype(vector):\n",
      "C:\\Users\\samhe\\anaconda3\\envs\\iod\\Lib\\site-packages\\seaborn\\_oldcore.py:1498: FutureWarning: is_categorical_dtype is deprecated and will be removed in a future version. Use isinstance(dtype, CategoricalDtype) instead\n",
      "  if pd.api.types.is_categorical_dtype(vector):\n"
     ]
    },
    {
     "data": {
      "text/plain": [
       "<Axes: xlabel='age', ylabel='salary'>"
      ]
     },
     "execution_count": 29,
     "metadata": {},
     "output_type": "execute_result"
    },
    {
     "data": {
      "image/png": "[encoded data removed]",
      "text/plain": [
       "<Figure size 1000x1000 with 1 Axes>"
      ]
     },
     "metadata": {},
     "output_type": "display_data"
    }
   ],
   "source": [
    "sns.scatterplot(x=df['age'],y= df['salary'])"
   ]
  },
  {
   "cell_type": "code",
   "execution_count": 151,
   "id": "056e31ec-8ea0-4d00-8fdb-12d7fd8aa54a",
   "metadata": {
    "tags": []
   },
   "outputs": [
    {
     "name": "stderr",
     "output_type": "stream",
     "text": [
      "C:\\Users\\samhe\\anaconda3\\envs\\iod\\Lib\\site-packages\\seaborn\\_oldcore.py:1498: FutureWarning: is_categorical_dtype is deprecated and will be removed in a future version. Use isinstance(dtype, CategoricalDtype) instead\n",
      "  if pd.api.types.is_categorical_dtype(vector):\n",
      "C:\\Users\\samhe\\anaconda3\\envs\\iod\\Lib\\site-packages\\seaborn\\_oldcore.py:1498: FutureWarning: is_categorical_dtype is deprecated and will be removed in a future version. Use isinstance(dtype, CategoricalDtype) instead\n",
      "  if pd.api.types.is_categorical_dtype(vector):\n",
      "C:\\Users\\samhe\\anaconda3\\envs\\iod\\Lib\\site-packages\\seaborn\\_oldcore.py:1498: FutureWarning: is_categorical_dtype is deprecated and will be removed in a future version. Use isinstance(dtype, CategoricalDtype) instead\n",
      "  if pd.api.types.is_categorical_dtype(vector):\n",
      "C:\\Users\\samhe\\anaconda3\\envs\\iod\\Lib\\site-packages\\seaborn\\_oldcore.py:1498: FutureWarning: is_categorical_dtype is deprecated and will be removed in a future version. Use isinstance(dtype, CategoricalDtype) instead\n",
      "  if pd.api.types.is_categorical_dtype(vector):\n"
     ]
    },
    {
     "data": {
      "text/plain": [
       "<matplotlib.legend.Legend at 0x1f4bdb62fd0>"
      ]
     },
     "execution_count": 151,
     "metadata": {},
     "output_type": "execute_result"
    },
    {
     "data": {
      "image/png": "[encoded data removed]",
      "text/plain": [
       "<Figure size 1000x1000 with 1 Axes>"
      ]
     },
     "metadata": {},
     "output_type": "display_data"
    }
   ],
   "source": [
    "sns.boxplot(x='gender', y='salary', hue = 'education_level', data=df)\n",
    "plt.legend(loc= 'upper right')"
   ]
  },
  {
   "cell_type": "code",
   "execution_count": 30,
   "id": "b4108b8c-30e5-4d6f-a2c5-62047742ae7a",
   "metadata": {
    "tags": []
   },
   "outputs": [
    {
     "data": {
      "text/html": [
       "<div>\n",
       "<style scoped>\n",
       "    .dataframe tbody tr th:only-of-type {\n",
       "        vertical-align: middle;\n",
       "    }\n",
       "\n",
       "    .dataframe tbody tr th {\n",
       "        vertical-align: top;\n",
       "    }\n",
       "\n",
       "    .dataframe thead th {\n",
       "        text-align: right;\n",
       "    }\n",
       "</style>\n",
       "<table border=\"1\" class=\"dataframe\">\n",
       "  <thead>\n",
       "    <tr style=\"text-align: right;\">\n",
       "      <th></th>\n",
       "      <th>age</th>\n",
       "      <th>gender</th>\n",
       "      <th>education_level</th>\n",
       "      <th>job_title</th>\n",
       "      <th>years_of_experience</th>\n",
       "      <th>salary</th>\n",
       "    </tr>\n",
       "  </thead>\n",
       "  <tbody>\n",
       "    <tr>\n",
       "      <th>2654</th>\n",
       "      <td>23</td>\n",
       "      <td>Male</td>\n",
       "      <td>PhD</td>\n",
       "      <td>Software Engineer Manager</td>\n",
       "      <td>1</td>\n",
       "      <td>579</td>\n",
       "    </tr>\n",
       "    <tr>\n",
       "      <th>6335</th>\n",
       "      <td>24</td>\n",
       "      <td>Male</td>\n",
       "      <td>PhD</td>\n",
       "      <td>Digital Marketing Manager</td>\n",
       "      <td>1</td>\n",
       "      <td>30000</td>\n",
       "    </tr>\n",
       "  </tbody>\n",
       "</table>\n",
       "</div>"
      ],
      "text/plain": [
       "      age gender education_level                  job_title  \\\n",
       "2654   23   Male             PhD  Software Engineer Manager   \n",
       "6335   24   Male             PhD  Digital Marketing Manager   \n",
       "\n",
       "      years_of_experience  salary  \n",
       "2654                    1     579  \n",
       "6335                    1   30000  "
      ]
     },
     "execution_count": 30,
     "metadata": {},
     "output_type": "execute_result"
    }
   ],
   "source": [
    "df[(df['salary']<40000) &(df['education_level']=='PhD')]"
   ]
  },
  {
   "cell_type": "code",
   "execution_count": 31,
   "id": "fc0dc46e-1974-4179-a397-4d3266f9eb80",
   "metadata": {
    "tags": []
   },
   "outputs": [],
   "source": [
    "#df.drop([259,1890,2654,4633], inplace= True)"
   ]
  },
  {
   "cell_type": "code",
   "execution_count": 32,
   "id": "00814857-4615-4ce6-87c3-5b8cc0cd45ff",
   "metadata": {
    "tags": []
   },
   "outputs": [],
   "source": [
    "df.drop([6335], inplace= True)"
   ]
  },
  {
   "cell_type": "code",
   "execution_count": 33,
   "id": "eeb554e1-83b5-429d-90bd-2651d1276364",
   "metadata": {
    "tags": []
   },
   "outputs": [
    {
     "data": {
      "text/html": [
       "<div>\n",
       "<style scoped>\n",
       "    .dataframe tbody tr th:only-of-type {\n",
       "        vertical-align: middle;\n",
       "    }\n",
       "\n",
       "    .dataframe tbody tr th {\n",
       "        vertical-align: top;\n",
       "    }\n",
       "\n",
       "    .dataframe thead th {\n",
       "        text-align: right;\n",
       "    }\n",
       "</style>\n",
       "<table border=\"1\" class=\"dataframe\">\n",
       "  <thead>\n",
       "    <tr style=\"text-align: right;\">\n",
       "      <th></th>\n",
       "      <th>age</th>\n",
       "      <th>gender</th>\n",
       "      <th>education_level</th>\n",
       "      <th>job_title</th>\n",
       "      <th>years_of_experience</th>\n",
       "      <th>salary</th>\n",
       "    </tr>\n",
       "  </thead>\n",
       "  <tbody>\n",
       "    <tr>\n",
       "      <th>259</th>\n",
       "      <td>29</td>\n",
       "      <td>Male</td>\n",
       "      <td>Bachelor's</td>\n",
       "      <td>Junior Business Operations Analyst</td>\n",
       "      <td>1</td>\n",
       "      <td>350</td>\n",
       "    </tr>\n",
       "    <tr>\n",
       "      <th>1890</th>\n",
       "      <td>25</td>\n",
       "      <td>Female</td>\n",
       "      <td>Bachelor's Degree</td>\n",
       "      <td>Front end Developer</td>\n",
       "      <td>1</td>\n",
       "      <td>550</td>\n",
       "    </tr>\n",
       "    <tr>\n",
       "      <th>2654</th>\n",
       "      <td>23</td>\n",
       "      <td>Male</td>\n",
       "      <td>PhD</td>\n",
       "      <td>Software Engineer Manager</td>\n",
       "      <td>1</td>\n",
       "      <td>579</td>\n",
       "    </tr>\n",
       "    <tr>\n",
       "      <th>4633</th>\n",
       "      <td>31</td>\n",
       "      <td>Female</td>\n",
       "      <td>Bachelor's Degree</td>\n",
       "      <td>Junior HR Coordinator</td>\n",
       "      <td>4</td>\n",
       "      <td>500</td>\n",
       "    </tr>\n",
       "  </tbody>\n",
       "</table>\n",
       "</div>"
      ],
      "text/plain": [
       "      age  gender    education_level                           job_title  \\\n",
       "259    29    Male         Bachelor's  Junior Business Operations Analyst   \n",
       "1890   25  Female  Bachelor's Degree                 Front end Developer   \n",
       "2654   23    Male                PhD           Software Engineer Manager   \n",
       "4633   31  Female  Bachelor's Degree               Junior HR Coordinator   \n",
       "\n",
       "      years_of_experience  salary  \n",
       "259                     1     350  \n",
       "1890                    1     550  \n",
       "2654                    1     579  \n",
       "4633                    4     500  "
      ]
     },
     "execution_count": 33,
     "metadata": {},
     "output_type": "execute_result"
    }
   ],
   "source": [
    "df[df['salary']<10000]"
   ]
  },
  {
   "cell_type": "code",
   "execution_count": 34,
   "id": "8df426c0-f245-4670-8155-7c2bfb8c95fb",
   "metadata": {},
   "outputs": [],
   "source": [
    "#is that correlation between gender and salary?\n",
    "#use .map() to convert gender to numeric"
   ]
  },
  {
   "cell_type": "code",
   "execution_count": 35,
   "id": "33fd2f1e-5820-4fee-8f74-5f8fe944f68a",
   "metadata": {
    "tags": []
   },
   "outputs": [
    {
     "data": {
      "text/plain": [
       "array([ 90000,  65000, 150000,  60000, 200000,  55000, 120000,  80000,\n",
       "        45000, 110000,  75000, 140000, 130000,  40000, 125000, 115000,\n",
       "        35000, 180000, 190000,  50000, 250000, 170000, 160000,  85000,\n",
       "        95000, 105000,  70000, 100000,  30000, 135000, 220000, 175000,\n",
       "       185000, 145000, 155000,    350, 195000, 198000, 196000, 193000,\n",
       "        92000, 165000, 162000, 197000, 142000, 182000, 210000,    550,\n",
       "       122485, 169159, 187081, 166109,  78354,  90249, 132720, 161568,\n",
       "       127346, 120177,  69032, 101332, 121450, 166375, 185119, 149217,\n",
       "       166512, 186963,  75072, 163398, 103947, 179180, 175966, 190004,\n",
       "       152039,  76742, 191790, 139398,  95845, 160976, 126753, 161393,\n",
       "       139817, 181714, 114776, 105725,  52731, 106492,  73895, 119836,\n",
       "        99747, 168287, 115920, 128078,  51265, 165919, 188651,  55538,\n",
       "       193964, 104702, 172955, 138032,  82683, 155414, 154207, 107895,\n",
       "       148446, 102859, 138662, 181699, 188232,  51832, 188484, 138286,\n",
       "       181132,  73938, 119224, 101186, 142360, 151315, 181021, 134641,\n",
       "       173851, 104127, 178859,  98568, 104661, 134858,  94502,  62852,\n",
       "       139095, 106278,  90452, 168304, 126593, 152203, 183138, 130275,\n",
       "       191915,  62807, 174305, 133326,  75656, 155944, 137775,  51831,\n",
       "       182237, 151901, 100052, 158254, 167207, 112439, 194214,  84407,\n",
       "       139413, 143084, 192344, 106132, 184816, 150248, 170995,  88035,\n",
       "       119419, 173582, 174436,  71699, 163558, 166828, 144496, 193746,\n",
       "       122581,  79767, 177177,  89843, 113563, 128712, 161621, 121454,\n",
       "       179987,  72649,  52612, 184006, 131960, 102465, 149748, 171036,\n",
       "       146351, 185462, 107718,  90944, 100425,  63901, 181902, 136533,\n",
       "       136285, 191818, 176643,  70022,  99363, 152944, 123386, 168906,\n",
       "       183020,  47898, 135853, 149198, 106662, 186610,  89995,  85825,\n",
       "       143814, 174726, 150534,  68732, 187951, 137336, 191159, 102868,\n",
       "       154281, 111535, 107906, 143885, 180958, 108607, 178284,  75969,\n",
       "       143705, 197354, 174324, 123781, 141735, 187120,  61095, 179045,\n",
       "       130355, 103282, 157872, 117314, 186321, 129686,  68611, 177913,\n",
       "        68472, 113065, 125091, 172925, 126916, 183417,  76898,    579,\n",
       "       103579, 163780, 137878,  92438,  84181, 174821, 126520, 152168,\n",
       "       190543, 131547, 192292,  52807, 174938, 124071,  73640, 156486,\n",
       "       138859,  52831, 182392, 151078, 100679, 158966, 167924, 113334,\n",
       "       194778,  77606, 140010, 142421, 192756, 106686, 186794, 150729,\n",
       "       171652,  88552, 119918, 174985, 174336,  72389, 163978, 166958,\n",
       "       145052, 195270, 122970,  80247, 177862,  91062, 114290, 128999,\n",
       "       162454, 122354, 179756,  73218, 184480, 132442, 102828, 150301,\n",
       "       171468, 147326, 185982, 108267,  91397, 100867,  64182, 182506,\n",
       "       136986, 136662, 191510, 177347,  70397, 146075, 155795, 132638,\n",
       "       178684, 106218, 191239,  65840,  52779, 185038, 136449, 110707,\n",
       "       151670, 167015, 146508, 190596, 104378,  70216, 101733,  55935,\n",
       "       180367, 135596, 136062, 191267,  82944, 188288, 141090, 152726,\n",
       "       124141,  67556, 182768, 148727,  91903, 147708, 163209, 120288,\n",
       "       170226, 134979, 137489,  83577, 117904, 134482, 184660, 100151,\n",
       "        88678, 181285, 154990, 108204, 175684,  77766, 192211, 144647,\n",
       "       162231, 121120,  79652, 177002,  87584, 131860, 182013, 108799,\n",
       "       135378, 183530, 150901,  82697, 194638, 130356, 152560, 121432,\n",
       "        63789, 183690, 151310, 100358, 148437, 168691,  32000,  38000,\n",
       "        89000,  33000,  25000,  62000, 138000,  47000,  26000, 174000,\n",
       "        41000,  99000, 117000, 225000,  36000, 146000, 113000, 168000,\n",
       "       122000,  96000,  49000,  68000, 127000,  71000, 240000, 152000,\n",
       "       119000, 131000, 101000, 137000, 112000,  91000, 179000,  74000,\n",
       "       228000,  37000, 204000,  61000, 157000,  52000,  58000, 219000,\n",
       "        77000, 104000, 183000,  43000,  48000,  42000,    500,  57000,\n",
       "        72000,  31000,  28000, 215000])"
      ]
     },
     "execution_count": 35,
     "metadata": {},
     "output_type": "execute_result"
    }
   ],
   "source": [
    "df.salary.unique()"
   ]
  },
  {
   "cell_type": "code",
   "execution_count": 36,
   "id": "afa3f4f2-c254-42a3-a239-1a3a45afa6f0",
   "metadata": {
    "tags": []
   },
   "outputs": [],
   "source": [
    "df=df.dropna()"
   ]
  },
  {
   "cell_type": "code",
   "execution_count": 37,
   "id": "f9258e80-2fde-4a93-a643-f2db09c43642",
   "metadata": {
    "tags": []
   },
   "outputs": [
    {
     "data": {
      "text/plain": [
       "array(['Male', 'Female'], dtype=object)"
      ]
     },
     "execution_count": 37,
     "metadata": {},
     "output_type": "execute_result"
    }
   ],
   "source": [
    "df.gender.unique()"
   ]
  },
  {
   "cell_type": "code",
   "execution_count": 38,
   "id": "1732be8d-0fc5-48ec-a173-51552cd3adc7",
   "metadata": {
    "tags": []
   },
   "outputs": [
    {
     "name": "stdout",
     "output_type": "stream",
     "text": [
      "Pearson Correlation Coefficient: -0.12681354730752165 \n",
      "_P_value:2.0531371433517634e-25\n"
     ]
    }
   ],
   "source": [
    "correlation_coefficient, p_value = pearsonr(df['salary'], df['gender'].map({'Male': 0,'Female':1}))\n",
    "print(f'Pearson Correlation Coefficient: {correlation_coefficient} \\n_P_value:{ p_value}')\n",
    "                                                                           "
   ]
  },
  {
   "cell_type": "code",
   "execution_count": 39,
   "id": "0c6fc747-1465-467a-beb3-18d88db42838",
   "metadata": {
    "tags": []
   },
   "outputs": [
    {
     "data": {
      "text/html": [
       "<div>\n",
       "<style scoped>\n",
       "    .dataframe tbody tr th:only-of-type {\n",
       "        vertical-align: middle;\n",
       "    }\n",
       "\n",
       "    .dataframe tbody tr th {\n",
       "        vertical-align: top;\n",
       "    }\n",
       "\n",
       "    .dataframe thead th {\n",
       "        text-align: right;\n",
       "    }\n",
       "</style>\n",
       "<table border=\"1\" class=\"dataframe\">\n",
       "  <thead>\n",
       "    <tr style=\"text-align: right;\">\n",
       "      <th></th>\n",
       "      <th>age</th>\n",
       "      <th>years_of_experience</th>\n",
       "      <th>salary</th>\n",
       "    </tr>\n",
       "  </thead>\n",
       "  <tbody>\n",
       "    <tr>\n",
       "      <th>age</th>\n",
       "      <td>1.000000</td>\n",
       "      <td>0.937670</td>\n",
       "      <td>0.727984</td>\n",
       "    </tr>\n",
       "    <tr>\n",
       "      <th>years_of_experience</th>\n",
       "      <td>0.937670</td>\n",
       "      <td>1.000000</td>\n",
       "      <td>0.809018</td>\n",
       "    </tr>\n",
       "    <tr>\n",
       "      <th>salary</th>\n",
       "      <td>0.727984</td>\n",
       "      <td>0.809018</td>\n",
       "      <td>1.000000</td>\n",
       "    </tr>\n",
       "  </tbody>\n",
       "</table>\n",
       "</div>"
      ],
      "text/plain": [
       "                          age  years_of_experience    salary\n",
       "age                  1.000000             0.937670  0.727984\n",
       "years_of_experience  0.937670             1.000000  0.809018\n",
       "salary               0.727984             0.809018  1.000000"
      ]
     },
     "execution_count": 39,
     "metadata": {},
     "output_type": "execute_result"
    }
   ],
   "source": [
    "df.corr(numeric_only = True)"
   ]
  },
  {
   "cell_type": "code",
   "execution_count": 40,
   "id": "b98f30e7-ce29-4299-aa06-ef483272c8a2",
   "metadata": {
    "tags": []
   },
   "outputs": [
    {
     "name": "stderr",
     "output_type": "stream",
     "text": [
      "C:\\Users\\samhe\\anaconda3\\envs\\iod\\Lib\\site-packages\\seaborn\\_oldcore.py:1498: FutureWarning: is_categorical_dtype is deprecated and will be removed in a future version. Use isinstance(dtype, CategoricalDtype) instead\n",
      "  if pd.api.types.is_categorical_dtype(vector):\n",
      "C:\\Users\\samhe\\anaconda3\\envs\\iod\\Lib\\site-packages\\seaborn\\_oldcore.py:1498: FutureWarning: is_categorical_dtype is deprecated and will be removed in a future version. Use isinstance(dtype, CategoricalDtype) instead\n",
      "  if pd.api.types.is_categorical_dtype(vector):\n",
      "C:\\Users\\samhe\\anaconda3\\envs\\iod\\Lib\\site-packages\\seaborn\\_oldcore.py:1498: FutureWarning: is_categorical_dtype is deprecated and will be removed in a future version. Use isinstance(dtype, CategoricalDtype) instead\n",
      "  if pd.api.types.is_categorical_dtype(vector):\n",
      "C:\\Users\\samhe\\anaconda3\\envs\\iod\\Lib\\site-packages\\seaborn\\_oldcore.py:1498: FutureWarning: is_categorical_dtype is deprecated and will be removed in a future version. Use isinstance(dtype, CategoricalDtype) instead\n",
      "  if pd.api.types.is_categorical_dtype(vector):\n",
      "C:\\Users\\samhe\\anaconda3\\envs\\iod\\Lib\\site-packages\\seaborn\\_oldcore.py:1498: FutureWarning: is_categorical_dtype is deprecated and will be removed in a future version. Use isinstance(dtype, CategoricalDtype) instead\n",
      "  if pd.api.types.is_categorical_dtype(vector):\n",
      "C:\\Users\\samhe\\anaconda3\\envs\\iod\\Lib\\site-packages\\seaborn\\_oldcore.py:1119: FutureWarning: use_inf_as_na option is deprecated and will be removed in a future version. Convert inf values to NaN before operating instead.\n",
      "  with pd.option_context('mode.use_inf_as_na', True):\n",
      "C:\\Users\\samhe\\anaconda3\\envs\\iod\\Lib\\site-packages\\seaborn\\_oldcore.py:1119: FutureWarning: use_inf_as_na option is deprecated and will be removed in a future version. Convert inf values to NaN before operating instead.\n",
      "  with pd.option_context('mode.use_inf_as_na', True):\n"
     ]
    },
    {
     "data": {
      "image/png": "[encoded data removed]",
      "text/plain": [
       "<Figure size 1000x1000 with 1 Axes>"
      ]
     },
     "metadata": {},
     "output_type": "display_data"
    }
   ],
   "source": [
    "sns.histplot( x = 'age', y = 'salary', hue = 'gender', data=df);"
   ]
  },
  {
   "cell_type": "code",
   "execution_count": 41,
   "id": "02bc69fa-65d3-4fdb-9412-489ad8aef4bb",
   "metadata": {
    "tags": []
   },
   "outputs": [
    {
     "name": "stderr",
     "output_type": "stream",
     "text": [
      "C:\\Users\\samhe\\anaconda3\\envs\\iod\\Lib\\site-packages\\seaborn\\_oldcore.py:1498: FutureWarning: is_categorical_dtype is deprecated and will be removed in a future version. Use isinstance(dtype, CategoricalDtype) instead\n",
      "  if pd.api.types.is_categorical_dtype(vector):\n",
      "C:\\Users\\samhe\\anaconda3\\envs\\iod\\Lib\\site-packages\\seaborn\\_oldcore.py:1498: FutureWarning: is_categorical_dtype is deprecated and will be removed in a future version. Use isinstance(dtype, CategoricalDtype) instead\n",
      "  if pd.api.types.is_categorical_dtype(vector):\n",
      "C:\\Users\\samhe\\anaconda3\\envs\\iod\\Lib\\site-packages\\seaborn\\_oldcore.py:1498: FutureWarning: is_categorical_dtype is deprecated and will be removed in a future version. Use isinstance(dtype, CategoricalDtype) instead\n",
      "  if pd.api.types.is_categorical_dtype(vector):\n"
     ]
    },
    {
     "data": {
      "text/plain": [
       "<Axes: xlabel='gender', ylabel='salary'>"
      ]
     },
     "execution_count": 41,
     "metadata": {},
     "output_type": "execute_result"
    },
    {
     "data": {
      "image/png": "[encoded data removed]",
      "text/plain": [
       "<Figure size 1000x1000 with 1 Axes>"
      ]
     },
     "metadata": {},
     "output_type": "display_data"
    }
   ],
   "source": [
    "sns.boxplot(x='gender',y='salary',data=df)"
   ]
  },
  {
   "cell_type": "code",
   "execution_count": null,
   "id": "ae2dcdde-6de4-4b99-9757-e0e6ee99dee3",
   "metadata": {},
   "outputs": [],
   "source": []
  },
  {
   "cell_type": "code",
   "execution_count": 42,
   "id": "0c22f163-7686-4bab-94b7-ab49a170f3f8",
   "metadata": {
    "tags": []
   },
   "outputs": [
    {
     "data": {
      "text/html": [
       "<div>\n",
       "<style scoped>\n",
       "    .dataframe tbody tr th:only-of-type {\n",
       "        vertical-align: middle;\n",
       "    }\n",
       "\n",
       "    .dataframe tbody tr th {\n",
       "        vertical-align: top;\n",
       "    }\n",
       "\n",
       "    .dataframe thead th {\n",
       "        text-align: right;\n",
       "    }\n",
       "</style>\n",
       "<table border=\"1\" class=\"dataframe\">\n",
       "  <thead>\n",
       "    <tr style=\"text-align: right;\">\n",
       "      <th></th>\n",
       "      <th>age</th>\n",
       "      <th>years_of_experience</th>\n",
       "      <th>salary</th>\n",
       "    </tr>\n",
       "  </thead>\n",
       "  <tbody>\n",
       "    <tr>\n",
       "      <th>age</th>\n",
       "      <td>1.000000</td>\n",
       "      <td>0.937670</td>\n",
       "      <td>0.727984</td>\n",
       "    </tr>\n",
       "    <tr>\n",
       "      <th>years_of_experience</th>\n",
       "      <td>0.937670</td>\n",
       "      <td>1.000000</td>\n",
       "      <td>0.809018</td>\n",
       "    </tr>\n",
       "    <tr>\n",
       "      <th>salary</th>\n",
       "      <td>0.727984</td>\n",
       "      <td>0.809018</td>\n",
       "      <td>1.000000</td>\n",
       "    </tr>\n",
       "  </tbody>\n",
       "</table>\n",
       "</div>"
      ],
      "text/plain": [
       "                          age  years_of_experience    salary\n",
       "age                  1.000000             0.937670  0.727984\n",
       "years_of_experience  0.937670             1.000000  0.809018\n",
       "salary               0.727984             0.809018  1.000000"
      ]
     },
     "execution_count": 42,
     "metadata": {},
     "output_type": "execute_result"
    }
   ],
   "source": [
    "df.corr(numeric_only= True)"
   ]
  },
  {
   "cell_type": "code",
   "execution_count": 43,
   "id": "77ad0f88-26ca-4e5d-8fa6-46bd24887940",
   "metadata": {
    "tags": []
   },
   "outputs": [
    {
     "data": {
      "text/html": [
       "<div>\n",
       "<style scoped>\n",
       "    .dataframe tbody tr th:only-of-type {\n",
       "        vertical-align: middle;\n",
       "    }\n",
       "\n",
       "    .dataframe tbody tr th {\n",
       "        vertical-align: top;\n",
       "    }\n",
       "\n",
       "    .dataframe thead th {\n",
       "        text-align: right;\n",
       "    }\n",
       "</style>\n",
       "<table border=\"1\" class=\"dataframe\">\n",
       "  <thead>\n",
       "    <tr style=\"text-align: right;\">\n",
       "      <th></th>\n",
       "      <th></th>\n",
       "      <th>count</th>\n",
       "      <th>mean</th>\n",
       "      <th>std</th>\n",
       "      <th>min</th>\n",
       "      <th>25%</th>\n",
       "      <th>50%</th>\n",
       "      <th>75%</th>\n",
       "      <th>max</th>\n",
       "    </tr>\n",
       "    <tr>\n",
       "      <th>gender</th>\n",
       "      <th>education_level</th>\n",
       "      <th></th>\n",
       "      <th></th>\n",
       "      <th></th>\n",
       "      <th></th>\n",
       "      <th></th>\n",
       "      <th></th>\n",
       "      <th></th>\n",
       "      <th></th>\n",
       "    </tr>\n",
       "  </thead>\n",
       "  <tbody>\n",
       "    <tr>\n",
       "      <th rowspan=\"6\" valign=\"top\">Female</th>\n",
       "      <th>Bachelor's</th>\n",
       "      <td>284.0</td>\n",
       "      <td>114542.253521</td>\n",
       "      <td>42656.508456</td>\n",
       "      <td>35000.0</td>\n",
       "      <td>85000.0</td>\n",
       "      <td>120000.0</td>\n",
       "      <td>150000.0</td>\n",
       "      <td>190000.0</td>\n",
       "    </tr>\n",
       "    <tr>\n",
       "      <th>Bachelor's Degree</th>\n",
       "      <td>914.0</td>\n",
       "      <td>81280.014223</td>\n",
       "      <td>43613.860920</td>\n",
       "      <td>500.0</td>\n",
       "      <td>55000.0</td>\n",
       "      <td>65000.0</td>\n",
       "      <td>92000.0</td>\n",
       "      <td>215000.0</td>\n",
       "    </tr>\n",
       "    <tr>\n",
       "      <th>High School</th>\n",
       "      <td>263.0</td>\n",
       "      <td>34825.703422</td>\n",
       "      <td>24541.508378</td>\n",
       "      <td>25000.0</td>\n",
       "      <td>25000.0</td>\n",
       "      <td>26000.0</td>\n",
       "      <td>35000.0</td>\n",
       "      <td>166109.0</td>\n",
       "    </tr>\n",
       "    <tr>\n",
       "      <th>Master's</th>\n",
       "      <td>199.0</td>\n",
       "      <td>160201.005025</td>\n",
       "      <td>41134.170698</td>\n",
       "      <td>40000.0</td>\n",
       "      <td>140000.0</td>\n",
       "      <td>180000.0</td>\n",
       "      <td>195000.0</td>\n",
       "      <td>198000.0</td>\n",
       "    </tr>\n",
       "    <tr>\n",
       "      <th>Master's Degree</th>\n",
       "      <td>871.0</td>\n",
       "      <td>114214.187141</td>\n",
       "      <td>36831.551930</td>\n",
       "      <td>32000.0</td>\n",
       "      <td>90000.0</td>\n",
       "      <td>120000.0</td>\n",
       "      <td>135596.0</td>\n",
       "      <td>192756.0</td>\n",
       "    </tr>\n",
       "    <tr>\n",
       "      <th>PhD</th>\n",
       "      <td>496.0</td>\n",
       "      <td>160266.292339</td>\n",
       "      <td>30951.384940</td>\n",
       "      <td>55000.0</td>\n",
       "      <td>140000.0</td>\n",
       "      <td>165000.0</td>\n",
       "      <td>185000.0</td>\n",
       "      <td>220000.0</td>\n",
       "    </tr>\n",
       "    <tr>\n",
       "      <th rowspan=\"7\" valign=\"top\">Male</th>\n",
       "      <th>Bachelor's</th>\n",
       "      <td>472.0</td>\n",
       "      <td>130920.233051</td>\n",
       "      <td>47971.537458</td>\n",
       "      <td>350.0</td>\n",
       "      <td>95000.0</td>\n",
       "      <td>130000.0</td>\n",
       "      <td>180000.0</td>\n",
       "      <td>250000.0</td>\n",
       "    </tr>\n",
       "    <tr>\n",
       "      <th>Bachelor's Degree</th>\n",
       "      <td>1351.0</td>\n",
       "      <td>87809.906736</td>\n",
       "      <td>34170.441880</td>\n",
       "      <td>30000.0</td>\n",
       "      <td>60000.0</td>\n",
       "      <td>80000.0</td>\n",
       "      <td>110000.0</td>\n",
       "      <td>250000.0</td>\n",
       "    </tr>\n",
       "    <tr>\n",
       "      <th>High School</th>\n",
       "      <td>185.0</td>\n",
       "      <td>39380.751351</td>\n",
       "      <td>19115.049001</td>\n",
       "      <td>25000.0</td>\n",
       "      <td>30000.0</td>\n",
       "      <td>35000.0</td>\n",
       "      <td>40000.0</td>\n",
       "      <td>165919.0</td>\n",
       "    </tr>\n",
       "    <tr>\n",
       "      <th>Master's</th>\n",
       "      <td>89.0</td>\n",
       "      <td>151797.752809</td>\n",
       "      <td>36420.267764</td>\n",
       "      <td>75000.0</td>\n",
       "      <td>130000.0</td>\n",
       "      <td>170000.0</td>\n",
       "      <td>185000.0</td>\n",
       "      <td>200000.0</td>\n",
       "    </tr>\n",
       "    <tr>\n",
       "      <th>Master's Degree</th>\n",
       "      <td>701.0</td>\n",
       "      <td>138570.425107</td>\n",
       "      <td>36765.691058</td>\n",
       "      <td>40000.0</td>\n",
       "      <td>110000.0</td>\n",
       "      <td>140000.0</td>\n",
       "      <td>170000.0</td>\n",
       "      <td>228000.0</td>\n",
       "    </tr>\n",
       "    <tr>\n",
       "      <th>PhD</th>\n",
       "      <td>871.0</td>\n",
       "      <td>168926.251435</td>\n",
       "      <td>35473.100960</td>\n",
       "      <td>579.0</td>\n",
       "      <td>155000.0</td>\n",
       "      <td>180000.0</td>\n",
       "      <td>190000.0</td>\n",
       "      <td>250000.0</td>\n",
       "    </tr>\n",
       "    <tr>\n",
       "      <th>phD</th>\n",
       "      <td>1.0</td>\n",
       "      <td>120000.000000</td>\n",
       "      <td>NaN</td>\n",
       "      <td>120000.0</td>\n",
       "      <td>120000.0</td>\n",
       "      <td>120000.0</td>\n",
       "      <td>120000.0</td>\n",
       "      <td>120000.0</td>\n",
       "    </tr>\n",
       "  </tbody>\n",
       "</table>\n",
       "</div>"
      ],
      "text/plain": [
       "                           count           mean           std       min  \\\n",
       "gender education_level                                                    \n",
       "Female Bachelor's          284.0  114542.253521  42656.508456   35000.0   \n",
       "       Bachelor's Degree   914.0   81280.014223  43613.860920     500.0   \n",
       "       High School         263.0   34825.703422  24541.508378   25000.0   \n",
       "       Master's            199.0  160201.005025  41134.170698   40000.0   \n",
       "       Master's Degree     871.0  114214.187141  36831.551930   32000.0   \n",
       "       PhD                 496.0  160266.292339  30951.384940   55000.0   \n",
       "Male   Bachelor's          472.0  130920.233051  47971.537458     350.0   \n",
       "       Bachelor's Degree  1351.0   87809.906736  34170.441880   30000.0   \n",
       "       High School         185.0   39380.751351  19115.049001   25000.0   \n",
       "       Master's             89.0  151797.752809  36420.267764   75000.0   \n",
       "       Master's Degree     701.0  138570.425107  36765.691058   40000.0   \n",
       "       PhD                 871.0  168926.251435  35473.100960     579.0   \n",
       "       phD                   1.0  120000.000000           NaN  120000.0   \n",
       "\n",
       "                               25%       50%       75%       max  \n",
       "gender education_level                                            \n",
       "Female Bachelor's          85000.0  120000.0  150000.0  190000.0  \n",
       "       Bachelor's Degree   55000.0   65000.0   92000.0  215000.0  \n",
       "       High School         25000.0   26000.0   35000.0  166109.0  \n",
       "       Master's           140000.0  180000.0  195000.0  198000.0  \n",
       "       Master's Degree     90000.0  120000.0  135596.0  192756.0  \n",
       "       PhD                140000.0  165000.0  185000.0  220000.0  \n",
       "Male   Bachelor's          95000.0  130000.0  180000.0  250000.0  \n",
       "       Bachelor's Degree   60000.0   80000.0  110000.0  250000.0  \n",
       "       High School         30000.0   35000.0   40000.0  165919.0  \n",
       "       Master's           130000.0  170000.0  185000.0  200000.0  \n",
       "       Master's Degree    110000.0  140000.0  170000.0  228000.0  \n",
       "       PhD                155000.0  180000.0  190000.0  250000.0  \n",
       "       phD                120000.0  120000.0  120000.0  120000.0  "
      ]
     },
     "execution_count": 43,
     "metadata": {},
     "output_type": "execute_result"
    }
   ],
   "source": [
    "#summery statistics for salary based on gender\n",
    "grouped_data = df.groupby(['gender','education_level'])['salary']\n",
    "summary_stats = grouped_data.describe() \n",
    "summary_stats"
   ]
  },
  {
   "cell_type": "code",
   "execution_count": 44,
   "id": "7e4a8501-a882-4531-a23a-70355a327c50",
   "metadata": {
    "tags": []
   },
   "outputs": [],
   "source": [
    "df.loc[(df['education_level']=='PhD')&(df['salary']<=579.0), 'salary']=180000.0"
   ]
  },
  {
   "cell_type": "code",
   "execution_count": 45,
   "id": "a97c36d3-0293-42ca-a039-d5f4459ed2bf",
   "metadata": {
    "tags": []
   },
   "outputs": [
    {
     "data": {
      "text/html": [
       "<div>\n",
       "<style scoped>\n",
       "    .dataframe tbody tr th:only-of-type {\n",
       "        vertical-align: middle;\n",
       "    }\n",
       "\n",
       "    .dataframe tbody tr th {\n",
       "        vertical-align: top;\n",
       "    }\n",
       "\n",
       "    .dataframe thead th {\n",
       "        text-align: right;\n",
       "    }\n",
       "</style>\n",
       "<table border=\"1\" class=\"dataframe\">\n",
       "  <thead>\n",
       "    <tr style=\"text-align: right;\">\n",
       "      <th></th>\n",
       "      <th>age</th>\n",
       "      <th>gender</th>\n",
       "      <th>education_level</th>\n",
       "      <th>job_title</th>\n",
       "      <th>years_of_experience</th>\n",
       "      <th>salary</th>\n",
       "    </tr>\n",
       "  </thead>\n",
       "  <tbody>\n",
       "  </tbody>\n",
       "</table>\n",
       "</div>"
      ],
      "text/plain": [
       "Empty DataFrame\n",
       "Columns: [age, gender, education_level, job_title, years_of_experience, salary]\n",
       "Index: []"
      ]
     },
     "execution_count": 45,
     "metadata": {},
     "output_type": "execute_result"
    }
   ],
   "source": [
    "df.loc[(df['education_level']=='PhD')&(df['salary']==579.0)]"
   ]
  },
  {
   "cell_type": "code",
   "execution_count": 46,
   "id": "33655a01-833a-4490-a344-57cb2e2d4eab",
   "metadata": {
    "tags": []
   },
   "outputs": [
    {
     "data": {
      "text/plain": [
       "52612"
      ]
     },
     "execution_count": 46,
     "metadata": {},
     "output_type": "execute_result"
    }
   ],
   "source": [
    "df[df['education_level']=='PhD']['salary'].min()"
   ]
  },
  {
   "cell_type": "code",
   "execution_count": 47,
   "id": "1e1bef42-4f18-48fc-bf76-5acdd936df03",
   "metadata": {
    "tags": []
   },
   "outputs": [
    {
     "name": "stderr",
     "output_type": "stream",
     "text": [
      "C:\\Users\\samhe\\anaconda3\\envs\\iod\\Lib\\site-packages\\seaborn\\_oldcore.py:1498: FutureWarning: is_categorical_dtype is deprecated and will be removed in a future version. Use isinstance(dtype, CategoricalDtype) instead\n",
      "  if pd.api.types.is_categorical_dtype(vector):\n",
      "C:\\Users\\samhe\\anaconda3\\envs\\iod\\Lib\\site-packages\\seaborn\\_oldcore.py:1498: FutureWarning: is_categorical_dtype is deprecated and will be removed in a future version. Use isinstance(dtype, CategoricalDtype) instead\n",
      "  if pd.api.types.is_categorical_dtype(vector):\n",
      "C:\\Users\\samhe\\anaconda3\\envs\\iod\\Lib\\site-packages\\seaborn\\_oldcore.py:1498: FutureWarning: is_categorical_dtype is deprecated and will be removed in a future version. Use isinstance(dtype, CategoricalDtype) instead\n",
      "  if pd.api.types.is_categorical_dtype(vector):\n",
      "C:\\Users\\samhe\\anaconda3\\envs\\iod\\Lib\\site-packages\\seaborn\\_oldcore.py:1498: FutureWarning: is_categorical_dtype is deprecated and will be removed in a future version. Use isinstance(dtype, CategoricalDtype) instead\n",
      "  if pd.api.types.is_categorical_dtype(vector):\n"
     ]
    },
    {
     "data": {
      "image/png": "[encoded data removed]",
      "text/plain": [
       "<Figure size 1000x1000 with 1 Axes>"
      ]
     },
     "metadata": {},
     "output_type": "display_data"
    }
   ],
   "source": [
    "sns.barplot(df, x=\"gender\", y=\"salary\", hue=\"gender\")\n",
    "plt.show()"
   ]
  },
  {
   "cell_type": "code",
   "execution_count": 48,
   "id": "8ac29c0a-93b9-482f-85ee-f1226dc19491",
   "metadata": {
    "tags": []
   },
   "outputs": [
    {
     "data": {
      "text/plain": [
       "21"
      ]
     },
     "execution_count": 48,
     "metadata": {},
     "output_type": "execute_result"
    }
   ],
   "source": [
    "df.age.min()"
   ]
  },
  {
   "cell_type": "code",
   "execution_count": 49,
   "id": "ad5bb153-6b83-4a08-b8df-bc8bebb12b02",
   "metadata": {
    "tags": []
   },
   "outputs": [
    {
     "data": {
      "text/plain": [
       "62"
      ]
     },
     "execution_count": 49,
     "metadata": {},
     "output_type": "execute_result"
    }
   ],
   "source": [
    "df.age.max()"
   ]
  },
  {
   "cell_type": "code",
   "execution_count": 50,
   "id": "536ea43c-a8cf-4cb6-9a3a-c1ecad6dd780",
   "metadata": {
    "tags": []
   },
   "outputs": [],
   "source": [
    "#df.age.value_counts()"
   ]
  },
  {
   "cell_type": "code",
   "execution_count": 96,
   "id": "094abdea-788c-45de-a631-a37772a81cf2",
   "metadata": {
    "tags": []
   },
   "outputs": [
    {
     "data": {
      "text/plain": [
       "age_groups\n",
       "20-30    2891\n",
       "31-40    2458\n",
       "41-50    1159\n",
       "51-60     182\n",
       "Name: count, dtype: int64"
      ]
     },
     "execution_count": 96,
     "metadata": {},
     "output_type": "execute_result"
    }
   ],
   "source": [
    "df.age_groups.value_counts()"
   ]
  },
  {
   "cell_type": "code",
   "execution_count": 94,
   "id": "e9d10d42-25c8-4233-98e0-707b3305dd09",
   "metadata": {
    "tags": []
   },
   "outputs": [],
   "source": [
    "bins = [20,30,40,50,60]\n",
    "df['age_groups'] = pd.cut(df['age'],bins, labels = ['20-30','31-40','41-50','51-60'])"
   ]
  },
  {
   "cell_type": "code",
   "execution_count": 111,
   "id": "00d8315e-094f-4a89-81c3-703439d74327",
   "metadata": {},
   "outputs": [],
   "source": [
    "age_group = []\n",
    "def age_group(x):\n",
    "    if x > 60:\n",
    "        age_group = '60+'\n",
    "    elif x > 50 and x <=60:\n",
    "        age_group = '51-60'\n",
    "    elif x > 40 and x <= 50:\n",
    "        age_group = '41-50'\n",
    "    elif x > 30 and x <= 40:\n",
    "        age_group = '31-40'\n",
    "    else:\n",
    "        age_group = '21-30'\n",
    "    return age_group"
   ]
  },
  {
   "cell_type": "code",
   "execution_count": 112,
   "id": "995c80c1-a312-44ad-a0ac-0475fa115feb",
   "metadata": {
    "tags": []
   },
   "outputs": [],
   "source": [
    "df.age_group = df.age.apply(age_group)"
   ]
  },
  {
   "cell_type": "code",
   "execution_count": 113,
   "id": "7d43b8dc-2f0b-4a8f-af06-b5a43b9ca2e4",
   "metadata": {
    "tags": []
   },
   "outputs": [
    {
     "data": {
      "text/html": [
       "<div>\n",
       "<style scoped>\n",
       "    .dataframe tbody tr th:only-of-type {\n",
       "        vertical-align: middle;\n",
       "    }\n",
       "\n",
       "    .dataframe tbody tr th {\n",
       "        vertical-align: top;\n",
       "    }\n",
       "\n",
       "    .dataframe thead th {\n",
       "        text-align: right;\n",
       "    }\n",
       "</style>\n",
       "<table border=\"1\" class=\"dataframe\">\n",
       "  <thead>\n",
       "    <tr style=\"text-align: right;\">\n",
       "      <th></th>\n",
       "      <th>age</th>\n",
       "      <th>gender</th>\n",
       "      <th>education_level</th>\n",
       "      <th>job_title</th>\n",
       "      <th>years_of_experience</th>\n",
       "      <th>salary</th>\n",
       "      <th>age_groups</th>\n",
       "      <th>age_group</th>\n",
       "      <th>expeienece_group</th>\n",
       "    </tr>\n",
       "  </thead>\n",
       "  <tbody>\n",
       "    <tr>\n",
       "      <th>0</th>\n",
       "      <td>32</td>\n",
       "      <td>Male</td>\n",
       "      <td>Bachelor's</td>\n",
       "      <td>Software Engineer</td>\n",
       "      <td>5</td>\n",
       "      <td>90000</td>\n",
       "      <td>31-40</td>\n",
       "      <td>31-40</td>\n",
       "      <td>20+</td>\n",
       "    </tr>\n",
       "    <tr>\n",
       "      <th>1</th>\n",
       "      <td>28</td>\n",
       "      <td>Female</td>\n",
       "      <td>Master's</td>\n",
       "      <td>Data Analyst</td>\n",
       "      <td>3</td>\n",
       "      <td>65000</td>\n",
       "      <td>20-30</td>\n",
       "      <td>21-30</td>\n",
       "      <td>0_5</td>\n",
       "    </tr>\n",
       "    <tr>\n",
       "      <th>2</th>\n",
       "      <td>45</td>\n",
       "      <td>Male</td>\n",
       "      <td>PhD</td>\n",
       "      <td>Senior Manager</td>\n",
       "      <td>15</td>\n",
       "      <td>150000</td>\n",
       "      <td>41-50</td>\n",
       "      <td>41-50</td>\n",
       "      <td>20+</td>\n",
       "    </tr>\n",
       "    <tr>\n",
       "      <th>3</th>\n",
       "      <td>36</td>\n",
       "      <td>Female</td>\n",
       "      <td>Bachelor's</td>\n",
       "      <td>Sales Associate</td>\n",
       "      <td>7</td>\n",
       "      <td>60000</td>\n",
       "      <td>31-40</td>\n",
       "      <td>31-40</td>\n",
       "      <td>5_10</td>\n",
       "    </tr>\n",
       "    <tr>\n",
       "      <th>4</th>\n",
       "      <td>52</td>\n",
       "      <td>Male</td>\n",
       "      <td>Master's</td>\n",
       "      <td>Director</td>\n",
       "      <td>20</td>\n",
       "      <td>200000</td>\n",
       "      <td>51-60</td>\n",
       "      <td>51-60</td>\n",
       "      <td>20+</td>\n",
       "    </tr>\n",
       "  </tbody>\n",
       "</table>\n",
       "</div>"
      ],
      "text/plain": [
       "   age  gender education_level          job_title  years_of_experience  \\\n",
       "0   32    Male      Bachelor's  Software Engineer                    5   \n",
       "1   28  Female        Master's       Data Analyst                    3   \n",
       "2   45    Male             PhD     Senior Manager                   15   \n",
       "3   36  Female      Bachelor's    Sales Associate                    7   \n",
       "4   52    Male        Master's           Director                   20   \n",
       "\n",
       "   salary age_groups age_group expeienece_group  \n",
       "0   90000      31-40     31-40              20+  \n",
       "1   65000      20-30     21-30              0_5  \n",
       "2  150000      41-50     41-50              20+  \n",
       "3   60000      31-40     31-40             5_10  \n",
       "4  200000      51-60     51-60              20+  "
      ]
     },
     "execution_count": 113,
     "metadata": {},
     "output_type": "execute_result"
    }
   ],
   "source": [
    "df.head()"
   ]
  },
  {
   "cell_type": "code",
   "execution_count": 117,
   "id": "0ab3c88e-4235-4168-90bb-f1d9df772e8f",
   "metadata": {
    "tags": []
   },
   "outputs": [
    {
     "name": "stderr",
     "output_type": "stream",
     "text": [
      "C:\\Users\\samhe\\anaconda3\\envs\\iod\\Lib\\site-packages\\seaborn\\_oldcore.py:1498: FutureWarning: is_categorical_dtype is deprecated and will be removed in a future version. Use isinstance(dtype, CategoricalDtype) instead\n",
      "  if pd.api.types.is_categorical_dtype(vector):\n",
      "C:\\Users\\samhe\\anaconda3\\envs\\iod\\Lib\\site-packages\\seaborn\\categorical.py:641: FutureWarning: The default of observed=False is deprecated and will be changed to True in a future version of pandas. Pass observed=False to retain current behavior or observed=True to adopt the future default and silence this warning.\n",
      "  grouped_vals = vals.groupby(grouper)\n"
     ]
    },
    {
     "data": {
      "text/plain": [
       "<Axes: xlabel='age_groups', ylabel='salary'>"
      ]
     },
     "execution_count": 117,
     "metadata": {},
     "output_type": "execute_result"
    },
    {
     "data": {
      "image/png": "[encoded data removed]",
      "text/plain": [
       "<Figure size 1000x1000 with 1 Axes>"
      ]
     },
     "metadata": {},
     "output_type": "display_data"
    }
   ],
   "source": [
    "sns.boxplot(x='age_groups', y='salary', data=df)"
   ]
  },
  {
   "cell_type": "code",
   "execution_count": 105,
   "id": "e09fe75d-ed74-45fe-bb11-1bdaf64dfd1a",
   "metadata": {
    "tags": []
   },
   "outputs": [
    {
     "data": {
      "text/plain": [
       "['20-30', '41-50', '51-60', '60+']"
      ]
     },
     "execution_count": 105,
     "metadata": {},
     "output_type": "execute_result"
    }
   ],
   "source": [
    "sorted(set(age_group))"
   ]
  },
  {
   "cell_type": "code",
   "execution_count": 100,
   "id": "090522d2-323d-44ae-8f06-577870ed269d",
   "metadata": {
    "tags": []
   },
   "outputs": [],
   "source": [
    "df['age_group'] = age_group"
   ]
  },
  {
   "cell_type": "code",
   "execution_count": 101,
   "id": "a0e615ba-b35a-43b8-963a-d533c7b6f94f",
   "metadata": {
    "tags": []
   },
   "outputs": [
    {
     "data": {
      "text/html": [
       "<div>\n",
       "<style scoped>\n",
       "    .dataframe tbody tr th:only-of-type {\n",
       "        vertical-align: middle;\n",
       "    }\n",
       "\n",
       "    .dataframe tbody tr th {\n",
       "        vertical-align: top;\n",
       "    }\n",
       "\n",
       "    .dataframe thead th {\n",
       "        text-align: right;\n",
       "    }\n",
       "</style>\n",
       "<table border=\"1\" class=\"dataframe\">\n",
       "  <thead>\n",
       "    <tr style=\"text-align: right;\">\n",
       "      <th></th>\n",
       "      <th>age</th>\n",
       "      <th>gender</th>\n",
       "      <th>education_level</th>\n",
       "      <th>job_title</th>\n",
       "      <th>years_of_experience</th>\n",
       "      <th>salary</th>\n",
       "      <th>age_groups</th>\n",
       "      <th>age_group</th>\n",
       "      <th>expeienece_group</th>\n",
       "    </tr>\n",
       "  </thead>\n",
       "  <tbody>\n",
       "    <tr>\n",
       "      <th>0</th>\n",
       "      <td>32</td>\n",
       "      <td>Male</td>\n",
       "      <td>Bachelor's</td>\n",
       "      <td>Software Engineer</td>\n",
       "      <td>5</td>\n",
       "      <td>90000</td>\n",
       "      <td>31-40</td>\n",
       "      <td>30-39</td>\n",
       "      <td>20+</td>\n",
       "    </tr>\n",
       "    <tr>\n",
       "      <th>1</th>\n",
       "      <td>28</td>\n",
       "      <td>Female</td>\n",
       "      <td>Master's</td>\n",
       "      <td>Data Analyst</td>\n",
       "      <td>3</td>\n",
       "      <td>65000</td>\n",
       "      <td>20-30</td>\n",
       "      <td>20-29</td>\n",
       "      <td>0_5</td>\n",
       "    </tr>\n",
       "    <tr>\n",
       "      <th>2</th>\n",
       "      <td>45</td>\n",
       "      <td>Male</td>\n",
       "      <td>PhD</td>\n",
       "      <td>Senior Manager</td>\n",
       "      <td>15</td>\n",
       "      <td>150000</td>\n",
       "      <td>41-50</td>\n",
       "      <td>40-49</td>\n",
       "      <td>20+</td>\n",
       "    </tr>\n",
       "    <tr>\n",
       "      <th>3</th>\n",
       "      <td>36</td>\n",
       "      <td>Female</td>\n",
       "      <td>Bachelor's</td>\n",
       "      <td>Sales Associate</td>\n",
       "      <td>7</td>\n",
       "      <td>60000</td>\n",
       "      <td>31-40</td>\n",
       "      <td>30-39</td>\n",
       "      <td>5_10</td>\n",
       "    </tr>\n",
       "    <tr>\n",
       "      <th>4</th>\n",
       "      <td>52</td>\n",
       "      <td>Male</td>\n",
       "      <td>Master's</td>\n",
       "      <td>Director</td>\n",
       "      <td>20</td>\n",
       "      <td>200000</td>\n",
       "      <td>51-60</td>\n",
       "      <td>50-59</td>\n",
       "      <td>20+</td>\n",
       "    </tr>\n",
       "  </tbody>\n",
       "</table>\n",
       "</div>"
      ],
      "text/plain": [
       "   age  gender education_level          job_title  years_of_experience  \\\n",
       "0   32    Male      Bachelor's  Software Engineer                    5   \n",
       "1   28  Female        Master's       Data Analyst                    3   \n",
       "2   45    Male             PhD     Senior Manager                   15   \n",
       "3   36  Female      Bachelor's    Sales Associate                    7   \n",
       "4   52    Male        Master's           Director                   20   \n",
       "\n",
       "   salary age_groups age_group expeienece_group  \n",
       "0   90000      31-40     30-39              20+  \n",
       "1   65000      20-30     20-29              0_5  \n",
       "2  150000      41-50     40-49              20+  \n",
       "3   60000      31-40     30-39             5_10  \n",
       "4  200000      51-60     50-59              20+  "
      ]
     },
     "execution_count": 101,
     "metadata": {},
     "output_type": "execute_result"
    }
   ],
   "source": [
    "df.head()"
   ]
  },
  {
   "cell_type": "code",
   "execution_count": 54,
   "id": "0456f77a-65aa-4026-87fe-23e9f8b9cfbf",
   "metadata": {
    "tags": []
   },
   "outputs": [
    {
     "data": {
      "text/plain": [
       "age_group\n",
       "20_30    2442\n",
       "30_40    2366\n",
       "40_50    1071\n",
       "60+       641\n",
       "50_60     177\n",
       "Name: count, dtype: int64"
      ]
     },
     "execution_count": 54,
     "metadata": {},
     "output_type": "execute_result"
    }
   ],
   "source": [
    "df.age_group.value_counts()"
   ]
  },
  {
   "cell_type": "code",
   "execution_count": 95,
   "id": "137213d4-4335-488e-9b69-56f811694e60",
   "metadata": {
    "tags": []
   },
   "outputs": [
    {
     "data": {
      "text/html": [
       "<div>\n",
       "<style scoped>\n",
       "    .dataframe tbody tr th:only-of-type {\n",
       "        vertical-align: middle;\n",
       "    }\n",
       "\n",
       "    .dataframe tbody tr th {\n",
       "        vertical-align: top;\n",
       "    }\n",
       "\n",
       "    .dataframe thead th {\n",
       "        text-align: right;\n",
       "    }\n",
       "</style>\n",
       "<table border=\"1\" class=\"dataframe\">\n",
       "  <thead>\n",
       "    <tr style=\"text-align: right;\">\n",
       "      <th></th>\n",
       "      <th>age</th>\n",
       "      <th>gender</th>\n",
       "      <th>education_level</th>\n",
       "      <th>job_title</th>\n",
       "      <th>years_of_experience</th>\n",
       "      <th>salary</th>\n",
       "      <th>age_groups</th>\n",
       "      <th>age_group</th>\n",
       "      <th>expeienece_group</th>\n",
       "    </tr>\n",
       "  </thead>\n",
       "  <tbody>\n",
       "    <tr>\n",
       "      <th>0</th>\n",
       "      <td>32</td>\n",
       "      <td>Male</td>\n",
       "      <td>Bachelor's</td>\n",
       "      <td>Software Engineer</td>\n",
       "      <td>5</td>\n",
       "      <td>90000</td>\n",
       "      <td>31-40</td>\n",
       "      <td>30_40</td>\n",
       "      <td>20+</td>\n",
       "    </tr>\n",
       "    <tr>\n",
       "      <th>1</th>\n",
       "      <td>28</td>\n",
       "      <td>Female</td>\n",
       "      <td>Master's</td>\n",
       "      <td>Data Analyst</td>\n",
       "      <td>3</td>\n",
       "      <td>65000</td>\n",
       "      <td>20-30</td>\n",
       "      <td>20_30</td>\n",
       "      <td>0_5</td>\n",
       "    </tr>\n",
       "    <tr>\n",
       "      <th>2</th>\n",
       "      <td>45</td>\n",
       "      <td>Male</td>\n",
       "      <td>PhD</td>\n",
       "      <td>Senior Manager</td>\n",
       "      <td>15</td>\n",
       "      <td>150000</td>\n",
       "      <td>41-50</td>\n",
       "      <td>40_50</td>\n",
       "      <td>20+</td>\n",
       "    </tr>\n",
       "    <tr>\n",
       "      <th>3</th>\n",
       "      <td>36</td>\n",
       "      <td>Female</td>\n",
       "      <td>Bachelor's</td>\n",
       "      <td>Sales Associate</td>\n",
       "      <td>7</td>\n",
       "      <td>60000</td>\n",
       "      <td>31-40</td>\n",
       "      <td>30_40</td>\n",
       "      <td>5_10</td>\n",
       "    </tr>\n",
       "    <tr>\n",
       "      <th>4</th>\n",
       "      <td>52</td>\n",
       "      <td>Male</td>\n",
       "      <td>Master's</td>\n",
       "      <td>Director</td>\n",
       "      <td>20</td>\n",
       "      <td>200000</td>\n",
       "      <td>51-60</td>\n",
       "      <td>50_60</td>\n",
       "      <td>20+</td>\n",
       "    </tr>\n",
       "  </tbody>\n",
       "</table>\n",
       "</div>"
      ],
      "text/plain": [
       "   age  gender education_level          job_title  years_of_experience  \\\n",
       "0   32    Male      Bachelor's  Software Engineer                    5   \n",
       "1   28  Female        Master's       Data Analyst                    3   \n",
       "2   45    Male             PhD     Senior Manager                   15   \n",
       "3   36  Female      Bachelor's    Sales Associate                    7   \n",
       "4   52    Male        Master's           Director                   20   \n",
       "\n",
       "   salary age_groups age_group expeienece_group  \n",
       "0   90000      31-40     30_40              20+  \n",
       "1   65000      20-30     20_30              0_5  \n",
       "2  150000      41-50     40_50              20+  \n",
       "3   60000      31-40     30_40             5_10  \n",
       "4  200000      51-60     50_60              20+  "
      ]
     },
     "execution_count": 95,
     "metadata": {},
     "output_type": "execute_result"
    }
   ],
   "source": [
    "df.head()"
   ]
  },
  {
   "cell_type": "code",
   "execution_count": 56,
   "id": "242d468d-a969-4862-911b-2694f788d338",
   "metadata": {
    "tags": []
   },
   "outputs": [
    {
     "name": "stderr",
     "output_type": "stream",
     "text": [
      "C:\\Users\\samhe\\anaconda3\\envs\\iod\\Lib\\site-packages\\seaborn\\_oldcore.py:1498: FutureWarning: is_categorical_dtype is deprecated and will be removed in a future version. Use isinstance(dtype, CategoricalDtype) instead\n",
      "  if pd.api.types.is_categorical_dtype(vector):\n",
      "C:\\Users\\samhe\\anaconda3\\envs\\iod\\Lib\\site-packages\\seaborn\\categorical.py:641: FutureWarning: The default of observed=False is deprecated and will be changed to True in a future version of pandas. Pass observed=False to retain current behavior or observed=True to adopt the future default and silence this warning.\n",
      "  grouped_vals = vals.groupby(grouper)\n",
      "C:\\Users\\samhe\\anaconda3\\envs\\iod\\Lib\\site-packages\\seaborn\\_oldcore.py:1498: FutureWarning: is_categorical_dtype is deprecated and will be removed in a future version. Use isinstance(dtype, CategoricalDtype) instead\n",
      "  if pd.api.types.is_categorical_dtype(vector):\n",
      "C:\\Users\\samhe\\anaconda3\\envs\\iod\\Lib\\site-packages\\seaborn\\categorical.py:641: FutureWarning: The default of observed=False is deprecated and will be changed to True in a future version of pandas. Pass observed=False to retain current behavior or observed=True to adopt the future default and silence this warning.\n",
      "  grouped_vals = vals.groupby(grouper)\n"
     ]
    },
    {
     "data": {
      "image/png": "[encoded data removed]",
      "text/plain": [
       "<Figure size 1000x1000 with 1 Axes>"
      ]
     },
     "metadata": {},
     "output_type": "display_data"
    }
   ],
   "source": [
    "sns.barplot(df, x=\"age_groups\", y=\"salary\",hue=\"gender\")\n",
    "plt.show()"
   ]
  },
  {
   "cell_type": "code",
   "execution_count": 57,
   "id": "2ff6db2b-f5c7-4b71-a14d-6e57abd5b850",
   "metadata": {
    "tags": []
   },
   "outputs": [
    {
     "name": "stderr",
     "output_type": "stream",
     "text": [
      "C:\\Users\\samhe\\anaconda3\\envs\\iod\\Lib\\site-packages\\seaborn\\_oldcore.py:1498: FutureWarning: is_categorical_dtype is deprecated and will be removed in a future version. Use isinstance(dtype, CategoricalDtype) instead\n",
      "  if pd.api.types.is_categorical_dtype(vector):\n",
      "C:\\Users\\samhe\\anaconda3\\envs\\iod\\Lib\\site-packages\\seaborn\\_oldcore.py:1498: FutureWarning: is_categorical_dtype is deprecated and will be removed in a future version. Use isinstance(dtype, CategoricalDtype) instead\n",
      "  if pd.api.types.is_categorical_dtype(vector):\n",
      "C:\\Users\\samhe\\anaconda3\\envs\\iod\\Lib\\site-packages\\seaborn\\_oldcore.py:1498: FutureWarning: is_categorical_dtype is deprecated and will be removed in a future version. Use isinstance(dtype, CategoricalDtype) instead\n",
      "  if pd.api.types.is_categorical_dtype(vector):\n"
     ]
    },
    {
     "data": {
      "text/plain": [
       "<Axes: xlabel='gender', ylabel='salary'>"
      ]
     },
     "execution_count": 57,
     "metadata": {},
     "output_type": "execute_result"
    },
    {
     "data": {
      "image/png": "[encoded data removed]",
      "text/plain": [
       "<Figure size 1000x1000 with 1 Axes>"
      ]
     },
     "metadata": {},
     "output_type": "display_data"
    }
   ],
   "source": [
    "sns.boxplot(x = 'gender',y = 'salary',data= df)"
   ]
  },
  {
   "cell_type": "code",
   "execution_count": 58,
   "id": "68ffa1f6-a79b-41cb-9d37-454e5368b926",
   "metadata": {
    "tags": []
   },
   "outputs": [
    {
     "data": {
      "text/html": [
       "<div>\n",
       "<style scoped>\n",
       "    .dataframe tbody tr th:only-of-type {\n",
       "        vertical-align: middle;\n",
       "    }\n",
       "\n",
       "    .dataframe tbody tr th {\n",
       "        vertical-align: top;\n",
       "    }\n",
       "\n",
       "    .dataframe thead th {\n",
       "        text-align: right;\n",
       "    }\n",
       "</style>\n",
       "<table border=\"1\" class=\"dataframe\">\n",
       "  <thead>\n",
       "    <tr style=\"text-align: right;\">\n",
       "      <th></th>\n",
       "      <th>age</th>\n",
       "      <th>gender</th>\n",
       "      <th>education_level</th>\n",
       "      <th>job_title</th>\n",
       "      <th>years_of_experience</th>\n",
       "      <th>salary</th>\n",
       "      <th>age_groups</th>\n",
       "      <th>age_group</th>\n",
       "    </tr>\n",
       "  </thead>\n",
       "  <tbody>\n",
       "    <tr>\n",
       "      <th>0</th>\n",
       "      <td>32</td>\n",
       "      <td>Male</td>\n",
       "      <td>Bachelor's</td>\n",
       "      <td>Software Engineer</td>\n",
       "      <td>5</td>\n",
       "      <td>90000</td>\n",
       "      <td>(30, 40]</td>\n",
       "      <td>30_40</td>\n",
       "    </tr>\n",
       "  </tbody>\n",
       "</table>\n",
       "</div>"
      ],
      "text/plain": [
       "   age gender education_level          job_title  years_of_experience  salary  \\\n",
       "0   32   Male      Bachelor's  Software Engineer                    5   90000   \n",
       "\n",
       "  age_groups age_group  \n",
       "0   (30, 40]     30_40  "
      ]
     },
     "execution_count": 58,
     "metadata": {},
     "output_type": "execute_result"
    }
   ],
   "source": [
    "df.head(1)"
   ]
  },
  {
   "cell_type": "code",
   "execution_count": 59,
   "id": "fa6829e1-1d85-4c68-9949-2299878e18e9",
   "metadata": {
    "tags": []
   },
   "outputs": [],
   "source": [
    "df.loc[df.education_level ==\"Bachelor's Degree\",\"education_level\"]= \"Bachelor's\""
   ]
  },
  {
   "cell_type": "code",
   "execution_count": 60,
   "id": "fdd3dacb-5829-4ca5-b99f-3efc59503881",
   "metadata": {
    "tags": []
   },
   "outputs": [],
   "source": [
    "df.loc[df.education_level ==\"Master's Degree\",\"education_level\"]= \"Master's\""
   ]
  },
  {
   "cell_type": "code",
   "execution_count": 61,
   "id": "6bf60ca2-52c1-4073-9e0e-feb7243623cf",
   "metadata": {
    "tags": []
   },
   "outputs": [],
   "source": [
    "df.loc[df.education_level ==\"phD\",\"education_level\"]= \"PhD\""
   ]
  },
  {
   "cell_type": "code",
   "execution_count": 62,
   "id": "ae4f9bce-ae6f-4b5f-867d-42db092add99",
   "metadata": {
    "tags": []
   },
   "outputs": [
    {
     "data": {
      "text/plain": [
       "gender  education_level\n",
       "Female  Bachelor's         1198\n",
       "        Master's           1070\n",
       "        PhD                 496\n",
       "        High School         263\n",
       "Male    Bachelor's         1823\n",
       "        PhD                 872\n",
       "        Master's            790\n",
       "        High School         185\n",
       "Name: count, dtype: int64"
      ]
     },
     "execution_count": 62,
     "metadata": {},
     "output_type": "execute_result"
    }
   ],
   "source": [
    "df.groupby('gender')['education_level'].value_counts()\n",
    "          "
   ]
  },
  {
   "cell_type": "code",
   "execution_count": 63,
   "id": "eb1023f5-e111-41f9-be11-47de9de3d8c5",
   "metadata": {
    "tags": []
   },
   "outputs": [
    {
     "data": {
      "text/html": [
       "<div>\n",
       "<style scoped>\n",
       "    .dataframe tbody tr th:only-of-type {\n",
       "        vertical-align: middle;\n",
       "    }\n",
       "\n",
       "    .dataframe tbody tr th {\n",
       "        vertical-align: top;\n",
       "    }\n",
       "\n",
       "    .dataframe thead th {\n",
       "        text-align: right;\n",
       "    }\n",
       "</style>\n",
       "<table border=\"1\" class=\"dataframe\">\n",
       "  <thead>\n",
       "    <tr style=\"text-align: right;\">\n",
       "      <th></th>\n",
       "      <th>count</th>\n",
       "      <th>unique</th>\n",
       "      <th>top</th>\n",
       "      <th>freq</th>\n",
       "      <th>mean</th>\n",
       "      <th>std</th>\n",
       "      <th>min</th>\n",
       "      <th>25%</th>\n",
       "      <th>50%</th>\n",
       "      <th>75%</th>\n",
       "      <th>max</th>\n",
       "    </tr>\n",
       "  </thead>\n",
       "  <tbody>\n",
       "    <tr>\n",
       "      <th>age</th>\n",
       "      <td>6697.0</td>\n",
       "      <td>NaN</td>\n",
       "      <td>NaN</td>\n",
       "      <td>NaN</td>\n",
       "      <td>33.624459</td>\n",
       "      <td>7.615445</td>\n",
       "      <td>21.0</td>\n",
       "      <td>28.0</td>\n",
       "      <td>32.0</td>\n",
       "      <td>38.0</td>\n",
       "      <td>62.0</td>\n",
       "    </tr>\n",
       "    <tr>\n",
       "      <th>gender</th>\n",
       "      <td>6697</td>\n",
       "      <td>2</td>\n",
       "      <td>Male</td>\n",
       "      <td>3670</td>\n",
       "      <td>NaN</td>\n",
       "      <td>NaN</td>\n",
       "      <td>NaN</td>\n",
       "      <td>NaN</td>\n",
       "      <td>NaN</td>\n",
       "      <td>NaN</td>\n",
       "      <td>NaN</td>\n",
       "    </tr>\n",
       "    <tr>\n",
       "      <th>education_level</th>\n",
       "      <td>6697</td>\n",
       "      <td>4</td>\n",
       "      <td>Bachelor's</td>\n",
       "      <td>3021</td>\n",
       "      <td>NaN</td>\n",
       "      <td>NaN</td>\n",
       "      <td>NaN</td>\n",
       "      <td>NaN</td>\n",
       "      <td>NaN</td>\n",
       "      <td>NaN</td>\n",
       "      <td>NaN</td>\n",
       "    </tr>\n",
       "    <tr>\n",
       "      <th>job_title</th>\n",
       "      <td>6697</td>\n",
       "      <td>191</td>\n",
       "      <td>Software Engineer</td>\n",
       "      <td>518</td>\n",
       "      <td>NaN</td>\n",
       "      <td>NaN</td>\n",
       "      <td>NaN</td>\n",
       "      <td>NaN</td>\n",
       "      <td>NaN</td>\n",
       "      <td>NaN</td>\n",
       "      <td>NaN</td>\n",
       "    </tr>\n",
       "    <tr>\n",
       "      <th>years_of_experience</th>\n",
       "      <td>6697.0</td>\n",
       "      <td>NaN</td>\n",
       "      <td>NaN</td>\n",
       "      <td>NaN</td>\n",
       "      <td>8.095267</td>\n",
       "      <td>6.061232</td>\n",
       "      <td>0.0</td>\n",
       "      <td>3.0</td>\n",
       "      <td>7.0</td>\n",
       "      <td>12.0</td>\n",
       "      <td>34.0</td>\n",
       "    </tr>\n",
       "    <tr>\n",
       "      <th>salary</th>\n",
       "      <td>6697.0</td>\n",
       "      <td>NaN</td>\n",
       "      <td>NaN</td>\n",
       "      <td>NaN</td>\n",
       "      <td>115368.785725</td>\n",
       "      <td>52770.707237</td>\n",
       "      <td>350.0</td>\n",
       "      <td>70000.0</td>\n",
       "      <td>115000.0</td>\n",
       "      <td>160000.0</td>\n",
       "      <td>250000.0</td>\n",
       "    </tr>\n",
       "    <tr>\n",
       "      <th>age_groups</th>\n",
       "      <td>6690</td>\n",
       "      <td>4</td>\n",
       "      <td>(20, 30]</td>\n",
       "      <td>2891</td>\n",
       "      <td>NaN</td>\n",
       "      <td>NaN</td>\n",
       "      <td>NaN</td>\n",
       "      <td>NaN</td>\n",
       "      <td>NaN</td>\n",
       "      <td>NaN</td>\n",
       "      <td>NaN</td>\n",
       "    </tr>\n",
       "    <tr>\n",
       "      <th>age_group</th>\n",
       "      <td>6697</td>\n",
       "      <td>5</td>\n",
       "      <td>20_30</td>\n",
       "      <td>2442</td>\n",
       "      <td>NaN</td>\n",
       "      <td>NaN</td>\n",
       "      <td>NaN</td>\n",
       "      <td>NaN</td>\n",
       "      <td>NaN</td>\n",
       "      <td>NaN</td>\n",
       "      <td>NaN</td>\n",
       "    </tr>\n",
       "  </tbody>\n",
       "</table>\n",
       "</div>"
      ],
      "text/plain": [
       "                      count unique                top  freq           mean  \\\n",
       "age                  6697.0    NaN                NaN   NaN      33.624459   \n",
       "gender                 6697      2               Male  3670            NaN   \n",
       "education_level        6697      4         Bachelor's  3021            NaN   \n",
       "job_title              6697    191  Software Engineer   518            NaN   \n",
       "years_of_experience  6697.0    NaN                NaN   NaN       8.095267   \n",
       "salary               6697.0    NaN                NaN   NaN  115368.785725   \n",
       "age_groups             6690      4           (20, 30]  2891            NaN   \n",
       "age_group              6697      5              20_30  2442            NaN   \n",
       "\n",
       "                              std    min      25%       50%       75%  \\\n",
       "age                      7.615445   21.0     28.0      32.0      38.0   \n",
       "gender                        NaN    NaN      NaN       NaN       NaN   \n",
       "education_level               NaN    NaN      NaN       NaN       NaN   \n",
       "job_title                     NaN    NaN      NaN       NaN       NaN   \n",
       "years_of_experience      6.061232    0.0      3.0       7.0      12.0   \n",
       "salary               52770.707237  350.0  70000.0  115000.0  160000.0   \n",
       "age_groups                    NaN    NaN      NaN       NaN       NaN   \n",
       "age_group                     NaN    NaN      NaN       NaN       NaN   \n",
       "\n",
       "                          max  \n",
       "age                      62.0  \n",
       "gender                    NaN  \n",
       "education_level           NaN  \n",
       "job_title                 NaN  \n",
       "years_of_experience      34.0  \n",
       "salary               250000.0  \n",
       "age_groups                NaN  \n",
       "age_group                 NaN  "
      ]
     },
     "execution_count": 63,
     "metadata": {},
     "output_type": "execute_result"
    }
   ],
   "source": [
    "df.describe(include='all').T"
   ]
  },
  {
   "cell_type": "code",
   "execution_count": 64,
   "id": "924ced8a-5fdf-4a91-920e-d59da9806677",
   "metadata": {
    "tags": []
   },
   "outputs": [
    {
     "data": {
      "text/html": [
       "<div>\n",
       "<style scoped>\n",
       "    .dataframe tbody tr th:only-of-type {\n",
       "        vertical-align: middle;\n",
       "    }\n",
       "\n",
       "    .dataframe tbody tr th {\n",
       "        vertical-align: top;\n",
       "    }\n",
       "\n",
       "    .dataframe thead th {\n",
       "        text-align: right;\n",
       "    }\n",
       "</style>\n",
       "<table border=\"1\" class=\"dataframe\">\n",
       "  <thead>\n",
       "    <tr style=\"text-align: right;\">\n",
       "      <th></th>\n",
       "      <th>age</th>\n",
       "      <th>gender</th>\n",
       "      <th>education_level</th>\n",
       "      <th>job_title</th>\n",
       "      <th>years_of_experience</th>\n",
       "      <th>salary</th>\n",
       "      <th>age_groups</th>\n",
       "      <th>age_group</th>\n",
       "    </tr>\n",
       "  </thead>\n",
       "  <tbody>\n",
       "    <tr>\n",
       "      <th>0</th>\n",
       "      <td>32</td>\n",
       "      <td>Male</td>\n",
       "      <td>Bachelor's</td>\n",
       "      <td>Software Engineer</td>\n",
       "      <td>5</td>\n",
       "      <td>90000</td>\n",
       "      <td>(30, 40]</td>\n",
       "      <td>30_40</td>\n",
       "    </tr>\n",
       "  </tbody>\n",
       "</table>\n",
       "</div>"
      ],
      "text/plain": [
       "   age gender education_level          job_title  years_of_experience  salary  \\\n",
       "0   32   Male      Bachelor's  Software Engineer                    5   90000   \n",
       "\n",
       "  age_groups age_group  \n",
       "0   (30, 40]     30_40  "
      ]
     },
     "execution_count": 64,
     "metadata": {},
     "output_type": "execute_result"
    }
   ],
   "source": [
    "df.head(1)"
   ]
  },
  {
   "cell_type": "code",
   "execution_count": 65,
   "id": "76938418-b180-410c-b51e-7a7b19773d35",
   "metadata": {
    "tags": []
   },
   "outputs": [
    {
     "data": {
      "text/plain": [
       "count      6697.000000\n",
       "mean     115368.785725\n",
       "std       52770.707237\n",
       "min         350.000000\n",
       "25%       70000.000000\n",
       "50%      115000.000000\n",
       "75%      160000.000000\n",
       "max      250000.000000\n",
       "Name: salary, dtype: float64"
      ]
     },
     "execution_count": 65,
     "metadata": {},
     "output_type": "execute_result"
    }
   ],
   "source": [
    "df.salary.describe()"
   ]
  },
  {
   "cell_type": "code",
   "execution_count": 66,
   "id": "ecd5a7a0-5910-4d9b-ab28-5e0097e8544e",
   "metadata": {
    "tags": []
   },
   "outputs": [
    {
     "data": {
      "text/plain": [
       "count      1368.000000\n",
       "mean     165881.774123\n",
       "std       33864.202848\n",
       "min       52612.000000\n",
       "25%      150000.000000\n",
       "50%      170000.000000\n",
       "75%      190000.000000\n",
       "max      250000.000000\n",
       "Name: salary, dtype: float64"
      ]
     },
     "execution_count": 66,
     "metadata": {},
     "output_type": "execute_result"
    }
   ],
   "source": [
    "df[df['education_level']==\"PhD\"]['salary'].describe()"
   ]
  },
  {
   "cell_type": "code",
   "execution_count": 67,
   "id": "b488ab40-eca8-4781-804e-1b9df59f039a",
   "metadata": {
    "tags": []
   },
   "outputs": [
    {
     "data": {
      "text/html": [
       "<div>\n",
       "<style scoped>\n",
       "    .dataframe tbody tr th:only-of-type {\n",
       "        vertical-align: middle;\n",
       "    }\n",
       "\n",
       "    .dataframe tbody tr th {\n",
       "        vertical-align: top;\n",
       "    }\n",
       "\n",
       "    .dataframe thead th {\n",
       "        text-align: right;\n",
       "    }\n",
       "</style>\n",
       "<table border=\"1\" class=\"dataframe\">\n",
       "  <thead>\n",
       "    <tr style=\"text-align: right;\">\n",
       "      <th></th>\n",
       "      <th>age</th>\n",
       "      <th>gender</th>\n",
       "      <th>education_level</th>\n",
       "      <th>job_title</th>\n",
       "      <th>years_of_experience</th>\n",
       "      <th>salary</th>\n",
       "      <th>age_groups</th>\n",
       "      <th>age_group</th>\n",
       "    </tr>\n",
       "  </thead>\n",
       "  <tbody>\n",
       "    <tr>\n",
       "      <th>2</th>\n",
       "      <td>45</td>\n",
       "      <td>Male</td>\n",
       "      <td>PhD</td>\n",
       "      <td>Senior Manager</td>\n",
       "      <td>15</td>\n",
       "      <td>150000</td>\n",
       "      <td>(40, 50]</td>\n",
       "      <td>40_50</td>\n",
       "    </tr>\n",
       "    <tr>\n",
       "      <th>9</th>\n",
       "      <td>38</td>\n",
       "      <td>Male</td>\n",
       "      <td>PhD</td>\n",
       "      <td>Senior Scientist</td>\n",
       "      <td>10</td>\n",
       "      <td>110000</td>\n",
       "      <td>(30, 40]</td>\n",
       "      <td>30_40</td>\n",
       "    </tr>\n",
       "    <tr>\n",
       "      <th>17</th>\n",
       "      <td>39</td>\n",
       "      <td>Male</td>\n",
       "      <td>PhD</td>\n",
       "      <td>Senior Engineer</td>\n",
       "      <td>12</td>\n",
       "      <td>115000</td>\n",
       "      <td>(30, 40]</td>\n",
       "      <td>30_40</td>\n",
       "    </tr>\n",
       "    <tr>\n",
       "      <th>28</th>\n",
       "      <td>43</td>\n",
       "      <td>Female</td>\n",
       "      <td>PhD</td>\n",
       "      <td>Senior Consultant</td>\n",
       "      <td>15</td>\n",
       "      <td>140000</td>\n",
       "      <td>(40, 50]</td>\n",
       "      <td>40_50</td>\n",
       "    </tr>\n",
       "    <tr>\n",
       "      <th>34</th>\n",
       "      <td>46</td>\n",
       "      <td>Male</td>\n",
       "      <td>PhD</td>\n",
       "      <td>Senior Manager</td>\n",
       "      <td>20</td>\n",
       "      <td>170000</td>\n",
       "      <td>(40, 50]</td>\n",
       "      <td>40_50</td>\n",
       "    </tr>\n",
       "    <tr>\n",
       "      <th>...</th>\n",
       "      <td>...</td>\n",
       "      <td>...</td>\n",
       "      <td>...</td>\n",
       "      <td>...</td>\n",
       "      <td>...</td>\n",
       "      <td>...</td>\n",
       "      <td>...</td>\n",
       "      <td>...</td>\n",
       "    </tr>\n",
       "    <tr>\n",
       "      <th>6682</th>\n",
       "      <td>28</td>\n",
       "      <td>Male</td>\n",
       "      <td>PhD</td>\n",
       "      <td>Marketing Manager</td>\n",
       "      <td>4</td>\n",
       "      <td>55000</td>\n",
       "      <td>(20, 30]</td>\n",
       "      <td>20_30</td>\n",
       "    </tr>\n",
       "    <tr>\n",
       "      <th>6685</th>\n",
       "      <td>49</td>\n",
       "      <td>Female</td>\n",
       "      <td>PhD</td>\n",
       "      <td>Senior Product Marketing Manager</td>\n",
       "      <td>20</td>\n",
       "      <td>200000</td>\n",
       "      <td>(40, 50]</td>\n",
       "      <td>40_50</td>\n",
       "    </tr>\n",
       "    <tr>\n",
       "      <th>6691</th>\n",
       "      <td>36</td>\n",
       "      <td>Female</td>\n",
       "      <td>PhD</td>\n",
       "      <td>Marketing Manager</td>\n",
       "      <td>9</td>\n",
       "      <td>95000</td>\n",
       "      <td>(30, 40]</td>\n",
       "      <td>30_40</td>\n",
       "    </tr>\n",
       "    <tr>\n",
       "      <th>6696</th>\n",
       "      <td>28</td>\n",
       "      <td>Male</td>\n",
       "      <td>PhD</td>\n",
       "      <td>Sales Representative</td>\n",
       "      <td>4</td>\n",
       "      <td>55000</td>\n",
       "      <td>(20, 30]</td>\n",
       "      <td>20_30</td>\n",
       "    </tr>\n",
       "    <tr>\n",
       "      <th>6699</th>\n",
       "      <td>49</td>\n",
       "      <td>Female</td>\n",
       "      <td>PhD</td>\n",
       "      <td>Director of Marketing</td>\n",
       "      <td>20</td>\n",
       "      <td>200000</td>\n",
       "      <td>(40, 50]</td>\n",
       "      <td>40_50</td>\n",
       "    </tr>\n",
       "  </tbody>\n",
       "</table>\n",
       "<p>1368 rows × 8 columns</p>\n",
       "</div>"
      ],
      "text/plain": [
       "      age  gender education_level                         job_title  \\\n",
       "2      45    Male             PhD                    Senior Manager   \n",
       "9      38    Male             PhD                  Senior Scientist   \n",
       "17     39    Male             PhD                   Senior Engineer   \n",
       "28     43  Female             PhD                 Senior Consultant   \n",
       "34     46    Male             PhD                    Senior Manager   \n",
       "...   ...     ...             ...                               ...   \n",
       "6682   28    Male             PhD                 Marketing Manager   \n",
       "6685   49  Female             PhD  Senior Product Marketing Manager   \n",
       "6691   36  Female             PhD                 Marketing Manager   \n",
       "6696   28    Male             PhD              Sales Representative   \n",
       "6699   49  Female             PhD             Director of Marketing   \n",
       "\n",
       "      years_of_experience  salary age_groups age_group  \n",
       "2                      15  150000   (40, 50]     40_50  \n",
       "9                      10  110000   (30, 40]     30_40  \n",
       "17                     12  115000   (30, 40]     30_40  \n",
       "28                     15  140000   (40, 50]     40_50  \n",
       "34                     20  170000   (40, 50]     40_50  \n",
       "...                   ...     ...        ...       ...  \n",
       "6682                    4   55000   (20, 30]     20_30  \n",
       "6685                   20  200000   (40, 50]     40_50  \n",
       "6691                    9   95000   (30, 40]     30_40  \n",
       "6696                    4   55000   (20, 30]     20_30  \n",
       "6699                   20  200000   (40, 50]     40_50  \n",
       "\n",
       "[1368 rows x 8 columns]"
      ]
     },
     "execution_count": 67,
     "metadata": {},
     "output_type": "execute_result"
    }
   ],
   "source": [
    "df[df['education_level']==\"PhD\"]"
   ]
  },
  {
   "cell_type": "code",
   "execution_count": 68,
   "id": "fc49751c-4335-4459-834b-0838baf5a0ad",
   "metadata": {
    "tags": []
   },
   "outputs": [
    {
     "name": "stdout",
     "output_type": "stream",
     "text": [
      "   gender education_level  count\n",
      "0  Female      Bachelor's   1198\n",
      "1  Female     High School    263\n",
      "2  Female        Master's   1070\n",
      "3  Female             PhD    496\n",
      "4    Male      Bachelor's   1823\n",
      "5    Male     High School    185\n",
      "6    Male        Master's    790\n",
      "7    Male             PhD    872\n"
     ]
    }
   ],
   "source": [
    "grouped_level= df.groupby(['gender','education_level']).size().reset_index(name = 'count')\n",
    "print(grouped_level)                                                                          "
   ]
  },
  {
   "cell_type": "code",
   "execution_count": 69,
   "id": "ca522343-efc6-4255-9f33-da3b355c868c",
   "metadata": {
    "tags": []
   },
   "outputs": [
    {
     "name": "stderr",
     "output_type": "stream",
     "text": [
      "C:\\Users\\samhe\\anaconda3\\envs\\iod\\Lib\\site-packages\\seaborn\\_oldcore.py:1498: FutureWarning: is_categorical_dtype is deprecated and will be removed in a future version. Use isinstance(dtype, CategoricalDtype) instead\n",
      "  if pd.api.types.is_categorical_dtype(vector):\n",
      "C:\\Users\\samhe\\anaconda3\\envs\\iod\\Lib\\site-packages\\seaborn\\_oldcore.py:1498: FutureWarning: is_categorical_dtype is deprecated and will be removed in a future version. Use isinstance(dtype, CategoricalDtype) instead\n",
      "  if pd.api.types.is_categorical_dtype(vector):\n",
      "C:\\Users\\samhe\\anaconda3\\envs\\iod\\Lib\\site-packages\\seaborn\\_oldcore.py:1498: FutureWarning: is_categorical_dtype is deprecated and will be removed in a future version. Use isinstance(dtype, CategoricalDtype) instead\n",
      "  if pd.api.types.is_categorical_dtype(vector):\n",
      "C:\\Users\\samhe\\anaconda3\\envs\\iod\\Lib\\site-packages\\seaborn\\_oldcore.py:1498: FutureWarning: is_categorical_dtype is deprecated and will be removed in a future version. Use isinstance(dtype, CategoricalDtype) instead\n",
      "  if pd.api.types.is_categorical_dtype(vector):\n"
     ]
    },
    {
     "data": {
      "image/png": "[encoded data removed]",
      "text/plain": [
       "<Figure size 1000x1000 with 1 Axes>"
      ]
     },
     "metadata": {},
     "output_type": "display_data"
    }
   ],
   "source": [
    "sns.barplot(x = 'gender', y = 'count', hue= 'education_level', data = grouped_level)\n",
    "plt.show()"
   ]
  },
  {
   "cell_type": "code",
   "execution_count": 70,
   "id": "0bbef7a6-a76d-47d0-a6a7-8e039922ffe9",
   "metadata": {
    "tags": []
   },
   "outputs": [
    {
     "name": "stderr",
     "output_type": "stream",
     "text": [
      "C:\\Users\\samhe\\anaconda3\\envs\\iod\\Lib\\site-packages\\seaborn\\_oldcore.py:1498: FutureWarning: is_categorical_dtype is deprecated and will be removed in a future version. Use isinstance(dtype, CategoricalDtype) instead\n",
      "  if pd.api.types.is_categorical_dtype(vector):\n",
      "C:\\Users\\samhe\\anaconda3\\envs\\iod\\Lib\\site-packages\\seaborn\\_oldcore.py:1498: FutureWarning: is_categorical_dtype is deprecated and will be removed in a future version. Use isinstance(dtype, CategoricalDtype) instead\n",
      "  if pd.api.types.is_categorical_dtype(vector):\n",
      "C:\\Users\\samhe\\anaconda3\\envs\\iod\\Lib\\site-packages\\seaborn\\_oldcore.py:1498: FutureWarning: is_categorical_dtype is deprecated and will be removed in a future version. Use isinstance(dtype, CategoricalDtype) instead\n",
      "  if pd.api.types.is_categorical_dtype(vector):\n"
     ]
    },
    {
     "data": {
      "image/png": "[encoded data removed]",
      "text/plain": [
       "<Figure size 1000x1000 with 1 Axes>"
      ]
     },
     "metadata": {},
     "output_type": "display_data"
    }
   ],
   "source": [
    "ax= sns.boxplot(x = 'education_level',y = 'salary',data= df)\n",
    "ax.set_xticklabels(ax.get_xticklabels(), fontsize=6)\n",
    "plt.show()"
   ]
  },
  {
   "cell_type": "code",
   "execution_count": 71,
   "id": "e82fc3bb-f75d-467b-9e81-c98125524dd3",
   "metadata": {
    "tags": []
   },
   "outputs": [
    {
     "data": {
      "text/html": [
       "<div>\n",
       "<style scoped>\n",
       "    .dataframe tbody tr th:only-of-type {\n",
       "        vertical-align: middle;\n",
       "    }\n",
       "\n",
       "    .dataframe tbody tr th {\n",
       "        vertical-align: top;\n",
       "    }\n",
       "\n",
       "    .dataframe thead th {\n",
       "        text-align: right;\n",
       "    }\n",
       "</style>\n",
       "<table border=\"1\" class=\"dataframe\">\n",
       "  <thead>\n",
       "    <tr style=\"text-align: right;\">\n",
       "      <th></th>\n",
       "      <th>age</th>\n",
       "      <th>gender</th>\n",
       "      <th>education_level</th>\n",
       "      <th>job_title</th>\n",
       "      <th>years_of_experience</th>\n",
       "      <th>salary</th>\n",
       "      <th>age_groups</th>\n",
       "      <th>age_group</th>\n",
       "    </tr>\n",
       "  </thead>\n",
       "  <tbody>\n",
       "    <tr>\n",
       "      <th>30</th>\n",
       "      <td>50</td>\n",
       "      <td>Male</td>\n",
       "      <td>Bachelor's</td>\n",
       "      <td>CEO</td>\n",
       "      <td>25</td>\n",
       "      <td>250000</td>\n",
       "      <td>(40, 50]</td>\n",
       "      <td>60+</td>\n",
       "    </tr>\n",
       "    <tr>\n",
       "      <th>5001</th>\n",
       "      <td>45</td>\n",
       "      <td>Male</td>\n",
       "      <td>Bachelor's</td>\n",
       "      <td>Financial Manager</td>\n",
       "      <td>21</td>\n",
       "      <td>250000</td>\n",
       "      <td>(40, 50]</td>\n",
       "      <td>40_50</td>\n",
       "    </tr>\n",
       "  </tbody>\n",
       "</table>\n",
       "</div>"
      ],
      "text/plain": [
       "      age gender education_level          job_title  years_of_experience  \\\n",
       "30     50   Male      Bachelor's                CEO                   25   \n",
       "5001   45   Male      Bachelor's  Financial Manager                   21   \n",
       "\n",
       "      salary age_groups age_group  \n",
       "30    250000   (40, 50]       60+  \n",
       "5001  250000   (40, 50]     40_50  "
      ]
     },
     "execution_count": 71,
     "metadata": {},
     "output_type": "execute_result"
    }
   ],
   "source": [
    "df[(df['education_level']==\"Bachelor's\")&(df['salary']>240000)]"
   ]
  },
  {
   "cell_type": "code",
   "execution_count": 72,
   "id": "89fb78fe-f911-4182-8d4a-c7a8cc35ba43",
   "metadata": {
    "tags": []
   },
   "outputs": [
    {
     "name": "stderr",
     "output_type": "stream",
     "text": [
      "C:\\Users\\samhe\\anaconda3\\envs\\iod\\Lib\\site-packages\\seaborn\\_oldcore.py:1498: FutureWarning: is_categorical_dtype is deprecated and will be removed in a future version. Use isinstance(dtype, CategoricalDtype) instead\n",
      "  if pd.api.types.is_categorical_dtype(vector):\n",
      "C:\\Users\\samhe\\anaconda3\\envs\\iod\\Lib\\site-packages\\seaborn\\_oldcore.py:1498: FutureWarning: is_categorical_dtype is deprecated and will be removed in a future version. Use isinstance(dtype, CategoricalDtype) instead\n",
      "  if pd.api.types.is_categorical_dtype(vector):\n",
      "C:\\Users\\samhe\\anaconda3\\envs\\iod\\Lib\\site-packages\\seaborn\\_oldcore.py:1498: FutureWarning: is_categorical_dtype is deprecated and will be removed in a future version. Use isinstance(dtype, CategoricalDtype) instead\n",
      "  if pd.api.types.is_categorical_dtype(vector):\n",
      "C:\\Users\\samhe\\anaconda3\\envs\\iod\\Lib\\site-packages\\seaborn\\_oldcore.py:1498: FutureWarning: is_categorical_dtype is deprecated and will be removed in a future version. Use isinstance(dtype, CategoricalDtype) instead\n",
      "  if pd.api.types.is_categorical_dtype(vector):\n",
      "C:\\Users\\samhe\\anaconda3\\envs\\iod\\Lib\\site-packages\\seaborn\\_oldcore.py:1498: FutureWarning: is_categorical_dtype is deprecated and will be removed in a future version. Use isinstance(dtype, CategoricalDtype) instead\n",
      "  if pd.api.types.is_categorical_dtype(vector):\n",
      "C:\\Users\\samhe\\anaconda3\\envs\\iod\\Lib\\site-packages\\seaborn\\_oldcore.py:1498: FutureWarning: is_categorical_dtype is deprecated and will be removed in a future version. Use isinstance(dtype, CategoricalDtype) instead\n",
      "  if pd.api.types.is_categorical_dtype(vector):\n"
     ]
    },
    {
     "data": {
      "image/png": "[encoded data removed]",
      "text/plain": [
       "<Figure size 606x500 with 1 Axes>"
      ]
     },
     "metadata": {},
     "output_type": "display_data"
    }
   ],
   "source": [
    "sns.catplot(x = 'education_level', y= 'salary', hue= 'gender', kind = 'bar',estimator= 'mean',data= df)\n",
    "plt.show()"
   ]
  },
  {
   "cell_type": "code",
   "execution_count": 73,
   "id": "110470ae-9564-4084-91ca-07d6a5a98e37",
   "metadata": {
    "tags": []
   },
   "outputs": [
    {
     "data": {
      "text/plain": [
       "array([ 5,  3, 15,  7, 20,  2, 12,  4,  1, 10, 18,  6, 14, 16,  0, 22, 19,\n",
       "        9, 13, 11, 25, 21,  8, 17, 23, 24, 31, 30, 28, 33, 27, 34, 29, 26,\n",
       "       32])"
      ]
     },
     "execution_count": 73,
     "metadata": {},
     "output_type": "execute_result"
    }
   ],
   "source": [
    "df['years_of_experience'].unique()"
   ]
  },
  {
   "cell_type": "code",
   "execution_count": 129,
   "id": "b47fca36-7372-49c7-8703-371f18f59624",
   "metadata": {
    "tags": []
   },
   "outputs": [],
   "source": [
    "experience_group = []\n",
    "def experience_group(x):\n",
    "    if x > 20:\n",
    "        experience_group = '20+'\n",
    "    elif x > 15 and x <= 20:\n",
    "        experience_group = '15-20'\n",
    "    elif x > 10 and x <= 15:\n",
    "        experience_group = '10-15'\n",
    "    elif x > 5 and x <= 10:\n",
    "        experience_group = '5-10'\n",
    "    else:\n",
    "        experience_group = '0-5'\n",
    "    return experience_group"
   ]
  },
  {
   "cell_type": "code",
   "execution_count": 132,
   "id": "0bec7327-a7b0-4b51-b268-cf32e878f64f",
   "metadata": {
    "tags": []
   },
   "outputs": [],
   "source": [
    "df['experience_group'] = df.years_of_experience.apply(experience_group)"
   ]
  },
  {
   "cell_type": "code",
   "execution_count": 133,
   "id": "ad42c84f-8c04-416d-a135-8221ed3e3889",
   "metadata": {
    "tags": []
   },
   "outputs": [
    {
     "data": {
      "text/html": [
       "<div>\n",
       "<style scoped>\n",
       "    .dataframe tbody tr th:only-of-type {\n",
       "        vertical-align: middle;\n",
       "    }\n",
       "\n",
       "    .dataframe tbody tr th {\n",
       "        vertical-align: top;\n",
       "    }\n",
       "\n",
       "    .dataframe thead th {\n",
       "        text-align: right;\n",
       "    }\n",
       "</style>\n",
       "<table border=\"1\" class=\"dataframe\">\n",
       "  <thead>\n",
       "    <tr style=\"text-align: right;\">\n",
       "      <th></th>\n",
       "      <th>age</th>\n",
       "      <th>gender</th>\n",
       "      <th>education_level</th>\n",
       "      <th>job_title</th>\n",
       "      <th>years_of_experience</th>\n",
       "      <th>salary</th>\n",
       "      <th>age_groups</th>\n",
       "      <th>age_group</th>\n",
       "      <th>expeienece_group</th>\n",
       "      <th>experience_group</th>\n",
       "    </tr>\n",
       "  </thead>\n",
       "  <tbody>\n",
       "    <tr>\n",
       "      <th>0</th>\n",
       "      <td>32</td>\n",
       "      <td>Male</td>\n",
       "      <td>Bachelor's</td>\n",
       "      <td>Software Engineer</td>\n",
       "      <td>5</td>\n",
       "      <td>90000</td>\n",
       "      <td>31-40</td>\n",
       "      <td>31-40</td>\n",
       "      <td>20+</td>\n",
       "      <td>0-5</td>\n",
       "    </tr>\n",
       "    <tr>\n",
       "      <th>1</th>\n",
       "      <td>28</td>\n",
       "      <td>Female</td>\n",
       "      <td>Master's</td>\n",
       "      <td>Data Analyst</td>\n",
       "      <td>3</td>\n",
       "      <td>65000</td>\n",
       "      <td>20-30</td>\n",
       "      <td>21-30</td>\n",
       "      <td>0_5</td>\n",
       "      <td>0-5</td>\n",
       "    </tr>\n",
       "    <tr>\n",
       "      <th>2</th>\n",
       "      <td>45</td>\n",
       "      <td>Male</td>\n",
       "      <td>PhD</td>\n",
       "      <td>Senior Manager</td>\n",
       "      <td>15</td>\n",
       "      <td>150000</td>\n",
       "      <td>41-50</td>\n",
       "      <td>41-50</td>\n",
       "      <td>20+</td>\n",
       "      <td>10-15</td>\n",
       "    </tr>\n",
       "    <tr>\n",
       "      <th>3</th>\n",
       "      <td>36</td>\n",
       "      <td>Female</td>\n",
       "      <td>Bachelor's</td>\n",
       "      <td>Sales Associate</td>\n",
       "      <td>7</td>\n",
       "      <td>60000</td>\n",
       "      <td>31-40</td>\n",
       "      <td>31-40</td>\n",
       "      <td>5_10</td>\n",
       "      <td>5-10</td>\n",
       "    </tr>\n",
       "    <tr>\n",
       "      <th>4</th>\n",
       "      <td>52</td>\n",
       "      <td>Male</td>\n",
       "      <td>Master's</td>\n",
       "      <td>Director</td>\n",
       "      <td>20</td>\n",
       "      <td>200000</td>\n",
       "      <td>51-60</td>\n",
       "      <td>51-60</td>\n",
       "      <td>20+</td>\n",
       "      <td>15-20</td>\n",
       "    </tr>\n",
       "  </tbody>\n",
       "</table>\n",
       "</div>"
      ],
      "text/plain": [
       "   age  gender education_level          job_title  years_of_experience  \\\n",
       "0   32    Male      Bachelor's  Software Engineer                    5   \n",
       "1   28  Female        Master's       Data Analyst                    3   \n",
       "2   45    Male             PhD     Senior Manager                   15   \n",
       "3   36  Female      Bachelor's    Sales Associate                    7   \n",
       "4   52    Male        Master's           Director                   20   \n",
       "\n",
       "   salary age_groups age_group expeienece_group experience_group  \n",
       "0   90000      31-40     31-40              20+              0-5  \n",
       "1   65000      20-30     21-30              0_5              0-5  \n",
       "2  150000      41-50     41-50              20+            10-15  \n",
       "3   60000      31-40     31-40             5_10             5-10  \n",
       "4  200000      51-60     51-60              20+            15-20  "
      ]
     },
     "execution_count": 133,
     "metadata": {},
     "output_type": "execute_result"
    }
   ],
   "source": [
    "df.head()"
   ]
  },
  {
   "cell_type": "code",
   "execution_count": 134,
   "id": "18ea505e-32b8-4bdf-a675-5e585c9fe623",
   "metadata": {
    "tags": []
   },
   "outputs": [],
   "source": [
    "df.drop('age_group',inplace= True, axis = 1)"
   ]
  },
  {
   "cell_type": "code",
   "execution_count": 137,
   "id": "797af9c5-e431-43d6-aafe-387552180190",
   "metadata": {
    "tags": []
   },
   "outputs": [
    {
     "data": {
      "text/html": [
       "<div>\n",
       "<style scoped>\n",
       "    .dataframe tbody tr th:only-of-type {\n",
       "        vertical-align: middle;\n",
       "    }\n",
       "\n",
       "    .dataframe tbody tr th {\n",
       "        vertical-align: top;\n",
       "    }\n",
       "\n",
       "    .dataframe thead th {\n",
       "        text-align: right;\n",
       "    }\n",
       "</style>\n",
       "<table border=\"1\" class=\"dataframe\">\n",
       "  <thead>\n",
       "    <tr style=\"text-align: right;\">\n",
       "      <th></th>\n",
       "      <th>age</th>\n",
       "      <th>gender</th>\n",
       "      <th>education_level</th>\n",
       "      <th>job_title</th>\n",
       "      <th>years_of_experience</th>\n",
       "      <th>salary</th>\n",
       "      <th>age_groups</th>\n",
       "      <th>experience_group</th>\n",
       "    </tr>\n",
       "  </thead>\n",
       "  <tbody>\n",
       "    <tr>\n",
       "      <th>0</th>\n",
       "      <td>32</td>\n",
       "      <td>Male</td>\n",
       "      <td>Bachelor's</td>\n",
       "      <td>Software Engineer</td>\n",
       "      <td>5</td>\n",
       "      <td>90000</td>\n",
       "      <td>31-40</td>\n",
       "      <td>0-5</td>\n",
       "    </tr>\n",
       "    <tr>\n",
       "      <th>1</th>\n",
       "      <td>28</td>\n",
       "      <td>Female</td>\n",
       "      <td>Master's</td>\n",
       "      <td>Data Analyst</td>\n",
       "      <td>3</td>\n",
       "      <td>65000</td>\n",
       "      <td>20-30</td>\n",
       "      <td>0-5</td>\n",
       "    </tr>\n",
       "    <tr>\n",
       "      <th>2</th>\n",
       "      <td>45</td>\n",
       "      <td>Male</td>\n",
       "      <td>PhD</td>\n",
       "      <td>Senior Manager</td>\n",
       "      <td>15</td>\n",
       "      <td>150000</td>\n",
       "      <td>41-50</td>\n",
       "      <td>10-15</td>\n",
       "    </tr>\n",
       "    <tr>\n",
       "      <th>3</th>\n",
       "      <td>36</td>\n",
       "      <td>Female</td>\n",
       "      <td>Bachelor's</td>\n",
       "      <td>Sales Associate</td>\n",
       "      <td>7</td>\n",
       "      <td>60000</td>\n",
       "      <td>31-40</td>\n",
       "      <td>5-10</td>\n",
       "    </tr>\n",
       "    <tr>\n",
       "      <th>4</th>\n",
       "      <td>52</td>\n",
       "      <td>Male</td>\n",
       "      <td>Master's</td>\n",
       "      <td>Director</td>\n",
       "      <td>20</td>\n",
       "      <td>200000</td>\n",
       "      <td>51-60</td>\n",
       "      <td>15-20</td>\n",
       "    </tr>\n",
       "  </tbody>\n",
       "</table>\n",
       "</div>"
      ],
      "text/plain": [
       "   age  gender education_level          job_title  years_of_experience  \\\n",
       "0   32    Male      Bachelor's  Software Engineer                    5   \n",
       "1   28  Female        Master's       Data Analyst                    3   \n",
       "2   45    Male             PhD     Senior Manager                   15   \n",
       "3   36  Female      Bachelor's    Sales Associate                    7   \n",
       "4   52    Male        Master's           Director                   20   \n",
       "\n",
       "   salary age_groups experience_group  \n",
       "0   90000      31-40              0-5  \n",
       "1   65000      20-30              0-5  \n",
       "2  150000      41-50            10-15  \n",
       "3   60000      31-40             5-10  \n",
       "4  200000      51-60            15-20  "
      ]
     },
     "execution_count": 137,
     "metadata": {},
     "output_type": "execute_result"
    }
   ],
   "source": [
    "df.head()"
   ]
  },
  {
   "cell_type": "code",
   "execution_count": 136,
   "id": "90986ece-258c-4782-8074-b13e327d7171",
   "metadata": {
    "tags": []
   },
   "outputs": [],
   "source": [
    "df.drop('expeienece_group', inplace = True, axis = 1)"
   ]
  },
  {
   "cell_type": "code",
   "execution_count": 76,
   "id": "39f59852-f858-490f-b19c-1deb66c38938",
   "metadata": {
    "tags": []
   },
   "outputs": [
    {
     "data": {
      "text/html": [
       "<div>\n",
       "<style scoped>\n",
       "    .dataframe tbody tr th:only-of-type {\n",
       "        vertical-align: middle;\n",
       "    }\n",
       "\n",
       "    .dataframe tbody tr th {\n",
       "        vertical-align: top;\n",
       "    }\n",
       "\n",
       "    .dataframe thead th {\n",
       "        text-align: right;\n",
       "    }\n",
       "</style>\n",
       "<table border=\"1\" class=\"dataframe\">\n",
       "  <thead>\n",
       "    <tr style=\"text-align: right;\">\n",
       "      <th></th>\n",
       "      <th>age</th>\n",
       "      <th>gender</th>\n",
       "      <th>education_level</th>\n",
       "      <th>job_title</th>\n",
       "      <th>years_of_experience</th>\n",
       "      <th>salary</th>\n",
       "      <th>age_groups</th>\n",
       "      <th>age_group</th>\n",
       "      <th>expeienece_group</th>\n",
       "    </tr>\n",
       "  </thead>\n",
       "  <tbody>\n",
       "    <tr>\n",
       "      <th>0</th>\n",
       "      <td>32</td>\n",
       "      <td>Male</td>\n",
       "      <td>Bachelor's</td>\n",
       "      <td>Software Engineer</td>\n",
       "      <td>5</td>\n",
       "      <td>90000</td>\n",
       "      <td>(30, 40]</td>\n",
       "      <td>30_40</td>\n",
       "      <td>20+</td>\n",
       "    </tr>\n",
       "    <tr>\n",
       "      <th>1</th>\n",
       "      <td>28</td>\n",
       "      <td>Female</td>\n",
       "      <td>Master's</td>\n",
       "      <td>Data Analyst</td>\n",
       "      <td>3</td>\n",
       "      <td>65000</td>\n",
       "      <td>(20, 30]</td>\n",
       "      <td>20_30</td>\n",
       "      <td>0_5</td>\n",
       "    </tr>\n",
       "    <tr>\n",
       "      <th>2</th>\n",
       "      <td>45</td>\n",
       "      <td>Male</td>\n",
       "      <td>PhD</td>\n",
       "      <td>Senior Manager</td>\n",
       "      <td>15</td>\n",
       "      <td>150000</td>\n",
       "      <td>(40, 50]</td>\n",
       "      <td>40_50</td>\n",
       "      <td>20+</td>\n",
       "    </tr>\n",
       "    <tr>\n",
       "      <th>3</th>\n",
       "      <td>36</td>\n",
       "      <td>Female</td>\n",
       "      <td>Bachelor's</td>\n",
       "      <td>Sales Associate</td>\n",
       "      <td>7</td>\n",
       "      <td>60000</td>\n",
       "      <td>(30, 40]</td>\n",
       "      <td>30_40</td>\n",
       "      <td>5_10</td>\n",
       "    </tr>\n",
       "    <tr>\n",
       "      <th>4</th>\n",
       "      <td>52</td>\n",
       "      <td>Male</td>\n",
       "      <td>Master's</td>\n",
       "      <td>Director</td>\n",
       "      <td>20</td>\n",
       "      <td>200000</td>\n",
       "      <td>(50, 60]</td>\n",
       "      <td>50_60</td>\n",
       "      <td>20+</td>\n",
       "    </tr>\n",
       "  </tbody>\n",
       "</table>\n",
       "</div>"
      ],
      "text/plain": [
       "   age  gender education_level          job_title  years_of_experience  \\\n",
       "0   32    Male      Bachelor's  Software Engineer                    5   \n",
       "1   28  Female        Master's       Data Analyst                    3   \n",
       "2   45    Male             PhD     Senior Manager                   15   \n",
       "3   36  Female      Bachelor's    Sales Associate                    7   \n",
       "4   52    Male        Master's           Director                   20   \n",
       "\n",
       "   salary age_groups age_group expeienece_group  \n",
       "0   90000   (30, 40]     30_40              20+  \n",
       "1   65000   (20, 30]     20_30              0_5  \n",
       "2  150000   (40, 50]     40_50              20+  \n",
       "3   60000   (30, 40]     30_40             5_10  \n",
       "4  200000   (50, 60]     50_60              20+  "
      ]
     },
     "execution_count": 76,
     "metadata": {},
     "output_type": "execute_result"
    }
   ],
   "source": [
    "df.head()"
   ]
  },
  {
   "cell_type": "code",
   "execution_count": 77,
   "id": "43910402-4a92-4cf6-9485-f7550db4d677",
   "metadata": {
    "tags": []
   },
   "outputs": [
    {
     "name": "stderr",
     "output_type": "stream",
     "text": [
      "C:\\Users\\samhe\\anaconda3\\envs\\iod\\Lib\\site-packages\\seaborn\\_oldcore.py:1498: FutureWarning: is_categorical_dtype is deprecated and will be removed in a future version. Use isinstance(dtype, CategoricalDtype) instead\n",
      "  if pd.api.types.is_categorical_dtype(vector):\n",
      "C:\\Users\\samhe\\anaconda3\\envs\\iod\\Lib\\site-packages\\seaborn\\_oldcore.py:1498: FutureWarning: is_categorical_dtype is deprecated and will be removed in a future version. Use isinstance(dtype, CategoricalDtype) instead\n",
      "  if pd.api.types.is_categorical_dtype(vector):\n",
      "C:\\Users\\samhe\\anaconda3\\envs\\iod\\Lib\\site-packages\\seaborn\\_oldcore.py:1498: FutureWarning: is_categorical_dtype is deprecated and will be removed in a future version. Use isinstance(dtype, CategoricalDtype) instead\n",
      "  if pd.api.types.is_categorical_dtype(vector):\n",
      "C:\\Users\\samhe\\anaconda3\\envs\\iod\\Lib\\site-packages\\seaborn\\_oldcore.py:1498: FutureWarning: is_categorical_dtype is deprecated and will be removed in a future version. Use isinstance(dtype, CategoricalDtype) instead\n",
      "  if pd.api.types.is_categorical_dtype(vector):\n",
      "C:\\Users\\samhe\\anaconda3\\envs\\iod\\Lib\\site-packages\\seaborn\\_oldcore.py:1498: FutureWarning: is_categorical_dtype is deprecated and will be removed in a future version. Use isinstance(dtype, CategoricalDtype) instead\n",
      "  if pd.api.types.is_categorical_dtype(vector):\n",
      "C:\\Users\\samhe\\anaconda3\\envs\\iod\\Lib\\site-packages\\seaborn\\_oldcore.py:1498: FutureWarning: is_categorical_dtype is deprecated and will be removed in a future version. Use isinstance(dtype, CategoricalDtype) instead\n",
      "  if pd.api.types.is_categorical_dtype(vector):\n"
     ]
    },
    {
     "data": {
      "image/png": "[encoded data removed]",
      "text/plain": [
       "<Figure size 606x500 with 1 Axes>"
      ]
     },
     "metadata": {},
     "output_type": "display_data"
    }
   ],
   "source": [
    "sns.catplot(x = 'expeienece_group', y= 'salary', hue= 'gender', kind = 'bar',estimator= 'mean',data= df)\n",
    "plt.show()"
   ]
  },
  {
   "cell_type": "code",
   "execution_count": 78,
   "id": "0ac8dfd6-ba3e-4dc5-ad9a-acb2e766b550",
   "metadata": {
    "tags": []
   },
   "outputs": [
    {
     "name": "stderr",
     "output_type": "stream",
     "text": [
      "C:\\Users\\samhe\\anaconda3\\envs\\iod\\Lib\\site-packages\\seaborn\\_oldcore.py:1498: FutureWarning: is_categorical_dtype is deprecated and will be removed in a future version. Use isinstance(dtype, CategoricalDtype) instead\n",
      "  if pd.api.types.is_categorical_dtype(vector):\n",
      "C:\\Users\\samhe\\anaconda3\\envs\\iod\\Lib\\site-packages\\seaborn\\_oldcore.py:1498: FutureWarning: is_categorical_dtype is deprecated and will be removed in a future version. Use isinstance(dtype, CategoricalDtype) instead\n",
      "  if pd.api.types.is_categorical_dtype(vector):\n",
      "C:\\Users\\samhe\\anaconda3\\envs\\iod\\Lib\\site-packages\\seaborn\\_oldcore.py:1498: FutureWarning: is_categorical_dtype is deprecated and will be removed in a future version. Use isinstance(dtype, CategoricalDtype) instead\n",
      "  if pd.api.types.is_categorical_dtype(vector):\n",
      "C:\\Users\\samhe\\anaconda3\\envs\\iod\\Lib\\site-packages\\seaborn\\_oldcore.py:1498: FutureWarning: is_categorical_dtype is deprecated and will be removed in a future version. Use isinstance(dtype, CategoricalDtype) instead\n",
      "  if pd.api.types.is_categorical_dtype(vector):\n",
      "C:\\Users\\samhe\\anaconda3\\envs\\iod\\Lib\\site-packages\\seaborn\\_oldcore.py:1498: FutureWarning: is_categorical_dtype is deprecated and will be removed in a future version. Use isinstance(dtype, CategoricalDtype) instead\n",
      "  if pd.api.types.is_categorical_dtype(vector):\n",
      "C:\\Users\\samhe\\anaconda3\\envs\\iod\\Lib\\site-packages\\seaborn\\_oldcore.py:1498: FutureWarning: is_categorical_dtype is deprecated and will be removed in a future version. Use isinstance(dtype, CategoricalDtype) instead\n",
      "  if pd.api.types.is_categorical_dtype(vector):\n"
     ]
    },
    {
     "data": {
      "image/png": "[encoded data removed]",
      "text/plain": [
       "<Figure size 637.375x500 with 1 Axes>"
      ]
     },
     "metadata": {},
     "output_type": "display_data"
    }
   ],
   "source": [
    "sns.catplot(x = 'expeienece_group', y= 'salary', hue= 'education_level', kind = 'bar',estimator= 'mean',data= df)\n",
    "plt.show()"
   ]
  },
  {
   "cell_type": "code",
   "execution_count": 79,
   "id": "f37ee60d-a7a7-485c-a37a-b1458ded95b1",
   "metadata": {
    "tags": []
   },
   "outputs": [
    {
     "data": {
      "text/plain": [
       "array(['Male', 'Female'], dtype=object)"
      ]
     },
     "execution_count": 79,
     "metadata": {},
     "output_type": "execute_result"
    }
   ],
   "source": [
    "df.gender.unique()"
   ]
  },
  {
   "cell_type": "code",
   "execution_count": 80,
   "id": "68692fd6-1a81-46c8-977c-2cada4fd07d7",
   "metadata": {
    "tags": []
   },
   "outputs": [
    {
     "name": "stdout",
     "output_type": "stream",
     "text": [
      "<class 'pandas.core.frame.DataFrame'>\n",
      "Index: 6697 entries, 0 to 6703\n",
      "Data columns (total 9 columns):\n",
      " #   Column               Non-Null Count  Dtype   \n",
      "---  ------               --------------  -----   \n",
      " 0   age                  6697 non-null   int32   \n",
      " 1   gender               6697 non-null   object  \n",
      " 2   education_level      6697 non-null   object  \n",
      " 3   job_title            6697 non-null   object  \n",
      " 4   years_of_experience  6697 non-null   int32   \n",
      " 5   salary               6697 non-null   int32   \n",
      " 6   age_groups           6690 non-null   category\n",
      " 7   age_group            6697 non-null   object  \n",
      " 8   expeienece_group     6697 non-null   object  \n",
      "dtypes: category(1), int32(3), object(5)\n",
      "memory usage: 399.2+ KB\n"
     ]
    }
   ],
   "source": [
    "df.info()"
   ]
  },
  {
   "cell_type": "code",
   "execution_count": 81,
   "id": "e1ecfdda-79d6-47ee-8b73-ee7bf2ca17de",
   "metadata": {
    "tags": []
   },
   "outputs": [],
   "source": [
    "alpha = 0.05"
   ]
  },
  {
   "cell_type": "code",
   "execution_count": 82,
   "id": "328ef5ed-72e8-4dfd-be72-b87f3c81e4db",
   "metadata": {
    "tags": []
   },
   "outputs": [],
   "source": [
    "N= 200"
   ]
  },
  {
   "cell_type": "code",
   "execution_count": 138,
   "id": "5d3c4e92-9f5e-4cc9-bfa1-426a17f8f193",
   "metadata": {
    "tags": []
   },
   "outputs": [],
   "source": [
    "male_salary = df[(df['gender']=='Male')&(df['education_level'])]['salary'].sample(N, random_state=42)\n",
    "female_salary = df[(df['gender']=='Female')&(df['education_level'])]['salary'].sample(N, random_state=42)"
   ]
  },
  {
   "cell_type": "code",
   "execution_count": 139,
   "id": "12996b11-6638-4fe4-acf9-726c15b47dc5",
   "metadata": {
    "tags": []
   },
   "outputs": [
    {
     "name": "stderr",
     "output_type": "stream",
     "text": [
      "C:\\Users\\samhe\\AppData\\Local\\Temp\\ipykernel_16288\\2806958727.py:1: UserWarning: \n",
      "\n",
      "`distplot` is a deprecated function and will be removed in seaborn v0.14.0.\n",
      "\n",
      "Please adapt your code to use either `displot` (a figure-level function with\n",
      "similar flexibility) or `histplot` (an axes-level function for histograms).\n",
      "\n",
      "For a guide to updating your code to use the new functions, please see\n",
      "https://gist.github.com/mwaskom/de44147ed2974457ad6372750bbe5751\n",
      "\n",
      "  ax = sns.distplot(male_salary, label='male_salary', kde=False);\n",
      "C:\\Users\\samhe\\AppData\\Local\\Temp\\ipykernel_16288\\2806958727.py:2: UserWarning: \n",
      "\n",
      "`distplot` is a deprecated function and will be removed in seaborn v0.14.0.\n",
      "\n",
      "Please adapt your code to use either `displot` (a figure-level function with\n",
      "similar flexibility) or `histplot` (an axes-level function for histograms).\n",
      "\n",
      "For a guide to updating your code to use the new functions, please see\n",
      "https://gist.github.com/mwaskom/de44147ed2974457ad6372750bbe5751\n",
      "\n",
      "  sns.distplot(female_salary, ax=ax, label='female_salary', kde=False);\n"
     ]
    },
    {
     "data": {
      "image/png": "[encoded data removed]",
      "text/plain": [
       "<Figure size 1000x1000 with 1 Axes>"
      ]
     },
     "metadata": {},
     "output_type": "display_data"
    }
   ],
   "source": [
    "ax = sns.distplot(male_salary, label='male_salary', kde=False);\n",
    "sns.distplot(female_salary, ax=ax, label='female_salary', kde=False);\n",
    "plt.legend(loc = 'upper right')\n",
    "plt.xlabel('')\n",
    "plt.ylabel('')\n",
    "plt.show();"
   ]
  },
  {
   "cell_type": "code",
   "execution_count": 140,
   "id": "93e6f96d-92eb-4784-994a-c826f06e7db3",
   "metadata": {
    "tags": []
   },
   "outputs": [
    {
     "name": "stdout",
     "output_type": "stream",
     "text": [
      "ShapiroResult(statistic=0.9489607810974121, pvalue=1.5001467090769438e-06)\n"
     ]
    }
   ],
   "source": [
    "shapiro_test = stats.shapiro(female_salary)\n",
    "print(shapiro_test)"
   ]
  },
  {
   "cell_type": "code",
   "execution_count": 85,
   "id": "f4c1902b-b482-459e-9dfd-dd36b37d940a",
   "metadata": {},
   "outputs": [],
   "source": [
    "# Business Question\n",
    "#is the average salary different between women and men in the organization?"
   ]
  },
  {
   "cell_type": "code",
   "execution_count": 86,
   "id": "e7bce5f9-36da-47dc-a06b-341e61b12144",
   "metadata": {
    "tags": []
   },
   "outputs": [],
   "source": [
    "null_hypothesis = {\n",
    "    'H0': \"there is no significant difference in the effect of education level on salaries between male and female employees.\"\n",
    "    , 'H1': \"there is significant difference in the effect of education level on salaries between male and female employees.\""
   ]
  },
  {
   "cell_type": "code",
   "execution_count": 87,
   "id": "0fece7ee-846e-481b-a151-671421ae161f",
   "metadata": {
    "tags": []
   },
   "outputs": [],
   "source": [
    "def print_sig(p_value, alpha):\n",
    "    '''\n",
    "    Inputs:\n",
    "    p_value: Calculated p_value\n",
    "    alpha: Confidence level\n",
    "    '''\n",
    "    if p_value < alpha:\n",
    "        print(\"We reject our null hypothesis.\")\n",
    "        print(null_hypothesis['H1'])\n",
    "    elif p_value > alpha:\n",
    "        print(\"We fail to reject our null hypothesis.\")\n",
    "        print(null_hypothesis['H0'])\n",
    "    else:\n",
    "        print(\"Our test is inconclusive.\")"
   ]
  },
  {
   "cell_type": "code",
   "execution_count": 88,
   "id": "dfb9201a-2005-4549-b465-2274f715a8f6",
   "metadata": {
    "tags": []
   },
   "outputs": [
    {
     "name": "stdout",
     "output_type": "stream",
     "text": [
      "t = 3.1021449032985555\n",
      "p = 0.0020582058509104034\n",
      "We reject our null hypothesis.\n",
      "The average salary of women and men in this organization is different.\n"
     ]
    }
   ],
   "source": [
    "t2, p2 = stats.ttest_ind(male_salary, female_salary)\n",
    "print(\"t = \" + str(t2))\n",
    "print(\"p = \" + str(p2))\n",
    "print_sig(p2,alpha)"
   ]
  },
  {
   "cell_type": "code",
   "execution_count": 89,
   "id": "1dcf9a75-bace-448d-b890-8be1f66d7f4f",
   "metadata": {},
   "outputs": [
    {
     "name": "stdout",
     "output_type": "stream",
     "text": [
      "Mann-Whitney U Statistic:24517.5\n",
      "P_value:2.0531371433517634e-25\n",
      "We reject our null hypothesis.\n",
      "The average salary of women and men in this organization is different.\n"
     ]
    }
   ],
   "source": [
    "statistic, P_value = mannwhitneyu(male_salary, female_salary)\n",
    "print(f'Mann-Whitney U Statistic:{statistic}')\n",
    "print(f'P_value:{p_value}')\n",
    "print_sig(p2,alpha)"
   ]
  },
  {
   "cell_type": "code",
   "execution_count": 90,
   "id": "716ca94c-109b-4ddf-82e7-a8c8faa809d9",
   "metadata": {},
   "outputs": [
    {
     "name": "stdout",
     "output_type": "stream",
     "text": [
      "                                           sum_sq      df            F  \\\n",
      "education_level                      9.547392e+11     3.0   401.504184   \n",
      "years_of_experience                  5.237014e+12     1.0  6607.091093   \n",
      "education_level:years_of_experience  1.975914e+11     3.0    83.094692   \n",
      "Residual                             5.301938e+12  6689.0          NaN   \n",
      "\n",
      "                                            PR(>F)  \n",
      "education_level                      8.068413e-240  \n",
      "years_of_experience                   0.000000e+00  \n",
      "education_level:years_of_experience   8.852564e-53  \n",
      "Residual                                       NaN  \n"
     ]
    }
   ],
   "source": [
    "# Two_way ANOVA\n",
    "formula = 'salary ~ education_level + years_of_experience + education_level:years_of_experience'\n",
    "model = ols(formula, df).fit()\n",
    "anova_table = anova_lm(model, typ=2)\n",
    "print(anova_table)"
   ]
  },
  {
   "cell_type": "code",
   "execution_count": null,
   "id": "12ffcebe-eeb1-4206-ab64-903caa039145",
   "metadata": {},
   "outputs": [],
   "source": []
  }
 ],
 "metadata": {
  "kernelspec": {
   "display_name": "Python 3 (ipykernel)",
   "language": "python",
   "name": "python3"
  },
  "language_info": {
   "codemirror_mode": {
    "name": "ipython",
    "version": 3
   },
   "file_extension": ".py",
   "mimetype": "text/x-python",
   "name": "python",
   "nbconvert_exporter": "python",
   "pygments_lexer": "ipython3",
   "version": "3.11.5"
  }
 },
 "nbformat": 4,
 "nbformat_minor": 5
}
