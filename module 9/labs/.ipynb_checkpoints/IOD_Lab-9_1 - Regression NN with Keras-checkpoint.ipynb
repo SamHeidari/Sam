{
 "cells": [
  {
   "cell_type": "markdown",
   "metadata": {
    "id": "gn3SG1yo1KdV"
   },
   "source": [
    "<div>\n",
    "<img src=https://www.institutedata.com/wp-content/uploads/2019/10/iod_h_tp_primary_c.svg width=\"300\">\n",
    "</div>"
   ]
  },
  {
   "cell_type": "markdown",
   "metadata": {
    "id": "g-SD7a9X1KdY",
    "tags": []
   },
   "source": [
    "# Lab 9.1: NN with Keras\n",
    "INSTRUCTIONS:\n",
    "- Read the guides and hints, then create the necessary analysis and code to find an answer and conclusion for the task below.\n",
    "- **NOTE**: This is a Regression problem. Consider the appropriate:\n",
    "    - Activation function\n",
    "    - Loss/Cost Function\n",
    "    - Metrics"
   ]
  },
  {
   "cell_type": "markdown",
   "metadata": {
    "id": "ENgfRnvL1Kdc"
   },
   "source": [
    "### Import libraries"
   ]
  },
  {
   "cell_type": "code",
   "execution_count": 66,
   "metadata": {
    "id": "Z9H465X-1Kde",
    "tags": []
   },
   "outputs": [],
   "source": [
    "# insert code here\n",
    "import numpy as np\n",
    "\n",
    "%matplotlib inline\n",
    "import matplotlib.pyplot as plt\n",
    "\n",
    "from sklearn.datasets import load_diabetes\n",
    "from sklearn.model_selection import train_test_split\n",
    "from sklearn.metrics import r2_score\n",
    "\n",
    "# import keras\n",
    "from tensorflow.keras.models import Sequential\n",
    "from tensorflow.keras.layers import Dense"
   ]
  },
  {
   "cell_type": "markdown",
   "metadata": {
    "id": "5FHh910J1Kdm"
   },
   "source": [
    "### Load data\n",
    "Load the Diabetes dataset from **SciKit-Learn**."
   ]
  },
  {
   "cell_type": "code",
   "execution_count": 67,
   "metadata": {
    "id": "MWu8SlQF1Kdo"
   },
   "outputs": [
    {
     "data": {
      "text/plain": [
       "{'data': array([[ 0.03807591,  0.05068012,  0.06169621, ..., -0.00259226,\n",
       "          0.01990749, -0.01764613],\n",
       "        [-0.00188202, -0.04464164, -0.05147406, ..., -0.03949338,\n",
       "         -0.06833155, -0.09220405],\n",
       "        [ 0.08529891,  0.05068012,  0.04445121, ..., -0.00259226,\n",
       "          0.00286131, -0.02593034],\n",
       "        ...,\n",
       "        [ 0.04170844,  0.05068012, -0.01590626, ..., -0.01107952,\n",
       "         -0.04688253,  0.01549073],\n",
       "        [-0.04547248, -0.04464164,  0.03906215, ...,  0.02655962,\n",
       "          0.04452873, -0.02593034],\n",
       "        [-0.04547248, -0.04464164, -0.0730303 , ..., -0.03949338,\n",
       "         -0.00422151,  0.00306441]]),\n",
       " 'target': array([151.,  75., 141., 206., 135.,  97., 138.,  63., 110., 310., 101.,\n",
       "         69., 179., 185., 118., 171., 166., 144.,  97., 168.,  68.,  49.,\n",
       "         68., 245., 184., 202., 137.,  85., 131., 283., 129.,  59., 341.,\n",
       "         87.,  65., 102., 265., 276., 252.,  90., 100.,  55.,  61.,  92.,\n",
       "        259.,  53., 190., 142.,  75., 142., 155., 225.,  59., 104., 182.,\n",
       "        128.,  52.,  37., 170., 170.,  61., 144.,  52., 128.,  71., 163.,\n",
       "        150.,  97., 160., 178.,  48., 270., 202., 111.,  85.,  42., 170.,\n",
       "        200., 252., 113., 143.,  51.,  52., 210.,  65., 141.,  55., 134.,\n",
       "         42., 111.,  98., 164.,  48.,  96.,  90., 162., 150., 279.,  92.,\n",
       "         83., 128., 102., 302., 198.,  95.,  53., 134., 144., 232.,  81.,\n",
       "        104.,  59., 246., 297., 258., 229., 275., 281., 179., 200., 200.,\n",
       "        173., 180.,  84., 121., 161.,  99., 109., 115., 268., 274., 158.,\n",
       "        107.,  83., 103., 272.,  85., 280., 336., 281., 118., 317., 235.,\n",
       "         60., 174., 259., 178., 128.,  96., 126., 288.,  88., 292.,  71.,\n",
       "        197., 186.,  25.,  84.,  96., 195.,  53., 217., 172., 131., 214.,\n",
       "         59.,  70., 220., 268., 152.,  47.,  74., 295., 101., 151., 127.,\n",
       "        237., 225.,  81., 151., 107.,  64., 138., 185., 265., 101., 137.,\n",
       "        143., 141.,  79., 292., 178.,  91., 116.,  86., 122.,  72., 129.,\n",
       "        142.,  90., 158.,  39., 196., 222., 277.,  99., 196., 202., 155.,\n",
       "         77., 191.,  70.,  73.,  49.,  65., 263., 248., 296., 214., 185.,\n",
       "         78.,  93., 252., 150.,  77., 208.,  77., 108., 160.,  53., 220.,\n",
       "        154., 259.,  90., 246., 124.,  67.,  72., 257., 262., 275., 177.,\n",
       "         71.,  47., 187., 125.,  78.,  51., 258., 215., 303., 243.,  91.,\n",
       "        150., 310., 153., 346.,  63.,  89.,  50.,  39., 103., 308., 116.,\n",
       "        145.,  74.,  45., 115., 264.,  87., 202., 127., 182., 241.,  66.,\n",
       "         94., 283.,  64., 102., 200., 265.,  94., 230., 181., 156., 233.,\n",
       "         60., 219.,  80.,  68., 332., 248.,  84., 200.,  55.,  85.,  89.,\n",
       "         31., 129.,  83., 275.,  65., 198., 236., 253., 124.,  44., 172.,\n",
       "        114., 142., 109., 180., 144., 163., 147.,  97., 220., 190., 109.,\n",
       "        191., 122., 230., 242., 248., 249., 192., 131., 237.,  78., 135.,\n",
       "        244., 199., 270., 164.,  72.,  96., 306.,  91., 214.,  95., 216.,\n",
       "        263., 178., 113., 200., 139., 139.,  88., 148.,  88., 243.,  71.,\n",
       "         77., 109., 272.,  60.,  54., 221.,  90., 311., 281., 182., 321.,\n",
       "         58., 262., 206., 233., 242., 123., 167.,  63., 197.,  71., 168.,\n",
       "        140., 217., 121., 235., 245.,  40.,  52., 104., 132.,  88.,  69.,\n",
       "        219.,  72., 201., 110.,  51., 277.,  63., 118.,  69., 273., 258.,\n",
       "         43., 198., 242., 232., 175.,  93., 168., 275., 293., 281.,  72.,\n",
       "        140., 189., 181., 209., 136., 261., 113., 131., 174., 257.,  55.,\n",
       "         84.,  42., 146., 212., 233.,  91., 111., 152., 120.,  67., 310.,\n",
       "         94., 183.,  66., 173.,  72.,  49.,  64.,  48., 178., 104., 132.,\n",
       "        220.,  57.]),\n",
       " 'frame': None,\n",
       " 'DESCR': '.. _diabetes_dataset:\\n\\nDiabetes dataset\\n----------------\\n\\nTen baseline variables, age, sex, body mass index, average blood\\npressure, and six blood serum measurements were obtained for each of n =\\n442 diabetes patients, as well as the response of interest, a\\nquantitative measure of disease progression one year after baseline.\\n\\n**Data Set Characteristics:**\\n\\n  :Number of Instances: 442\\n\\n  :Number of Attributes: First 10 columns are numeric predictive values\\n\\n  :Target: Column 11 is a quantitative measure of disease progression one year after baseline\\n\\n  :Attribute Information:\\n      - age     age in years\\n      - sex\\n      - bmi     body mass index\\n      - bp      average blood pressure\\n      - s1      tc, total serum cholesterol\\n      - s2      ldl, low-density lipoproteins\\n      - s3      hdl, high-density lipoproteins\\n      - s4      tch, total cholesterol / HDL\\n      - s5      ltg, possibly log of serum triglycerides level\\n      - s6      glu, blood sugar level\\n\\nNote: Each of these 10 feature variables have been mean centered and scaled by the standard deviation times the square root of `n_samples` (i.e. the sum of squares of each column totals 1).\\n\\nSource URL:\\nhttps://www4.stat.ncsu.edu/~boos/var.select/diabetes.html\\n\\nFor more information see:\\nBradley Efron, Trevor Hastie, Iain Johnstone and Robert Tibshirani (2004) \"Least Angle Regression,\" Annals of Statistics (with discussion), 407-499.\\n(https://web.stanford.edu/~hastie/Papers/LARS/LeastAngle_2002.pdf)\\n',\n",
       " 'feature_names': ['age',\n",
       "  'sex',\n",
       "  'bmi',\n",
       "  'bp',\n",
       "  's1',\n",
       "  's2',\n",
       "  's3',\n",
       "  's4',\n",
       "  's5',\n",
       "  's6'],\n",
       " 'data_filename': 'diabetes_data_raw.csv.gz',\n",
       " 'target_filename': 'diabetes_target.csv.gz',\n",
       " 'data_module': 'sklearn.datasets.data'}"
      ]
     },
     "execution_count": 67,
     "metadata": {},
     "output_type": "execute_result"
    }
   ],
   "source": [
    "# insert code here\n",
    "diabetes = load_diabetes()\n",
    "diabetes"
   ]
  },
  {
   "cell_type": "code",
   "execution_count": 47,
   "metadata": {},
   "outputs": [
    {
     "name": "stdout",
     "output_type": "stream",
     "text": [
      ".. _diabetes_dataset:\n",
      "\n",
      "Diabetes dataset\n",
      "----------------\n",
      "\n",
      "Ten baseline variables, age, sex, body mass index, average blood\n",
      "pressure, and six blood serum measurements were obtained for each of n =\n",
      "442 diabetes patients, as well as the response of interest, a\n",
      "quantitative measure of disease progression one year after baseline.\n",
      "\n",
      "**Data Set Characteristics:**\n",
      "\n",
      "  :Number of Instances: 442\n",
      "\n",
      "  :Number of Attributes: First 10 columns are numeric predictive values\n",
      "\n",
      "  :Target: Column 11 is a quantitative measure of disease progression one year after baseline\n",
      "\n",
      "  :Attribute Information:\n",
      "      - age     age in years\n",
      "      - sex\n",
      "      - bmi     body mass index\n",
      "      - bp      average blood pressure\n",
      "      - s1      tc, total serum cholesterol\n",
      "      - s2      ldl, low-density lipoproteins\n",
      "      - s3      hdl, high-density lipoproteins\n",
      "      - s4      tch, total cholesterol / HDL\n",
      "      - s5      ltg, possibly log of serum triglycerides level\n",
      "      - s6      glu, blood sugar level\n",
      "\n",
      "Note: Each of these 10 feature variables have been mean centered and scaled by the standard deviation times the square root of `n_samples` (i.e. the sum of squares of each column totals 1).\n",
      "\n",
      "Source URL:\n",
      "https://www4.stat.ncsu.edu/~boos/var.select/diabetes.html\n",
      "\n",
      "For more information see:\n",
      "Bradley Efron, Trevor Hastie, Iain Johnstone and Robert Tibshirani (2004) \"Least Angle Regression,\" Annals of Statistics (with discussion), 407-499.\n",
      "(https://web.stanford.edu/~hastie/Papers/LARS/LeastAngle_2002.pdf)\n",
      "\n"
     ]
    }
   ],
   "source": [
    "print(diabetes.DESCR)"
   ]
  },
  {
   "cell_type": "markdown",
   "metadata": {
    "id": "xR_yLpR01Kdr"
   },
   "source": [
    "### Prepare input data"
   ]
  },
  {
   "cell_type": "code",
   "execution_count": 68,
   "metadata": {
    "id": "Sp2mf2bB1Kds"
   },
   "outputs": [
    {
     "name": "stdout",
     "output_type": "stream",
     "text": [
      "X is a  <class 'numpy.ndarray'>\n",
      "X has 442 rows and 10 columns\n",
      "First 10 values in y:  [151.  75. 141. 206. 135.  97. 138.  63. 110. 310.]\n"
     ]
    }
   ],
   "source": [
    "# insert code here\n",
    "# input\n",
    "X = diabetes.data\n",
    "\n",
    "# print the type of X to check that it is a numpy array\n",
    "print(\"X is a \", type(X))\n",
    "\n",
    "# Print shape to check rows and columns\n",
    "print(\"X has {} rows and {} columns\".format(X.shape[0], X.shape[1]))\n",
    "\n",
    "# Save number of columns as n_cols\n",
    "n_cols = X.shape[1]\n",
    "\n",
    "# output\n",
    "y = diabetes.target\n",
    "\n",
    "print(\"First 10 values in y: \", y[:10])"
   ]
  },
  {
   "cell_type": "markdown",
   "metadata": {
    "id": "j1Vsh6cm1Kdv"
   },
   "source": [
    "### Split the data (training/test)"
   ]
  },
  {
   "cell_type": "code",
   "execution_count": 69,
   "metadata": {
    "id": "O341llJz1Kdw"
   },
   "outputs": [],
   "source": [
    "# insert code here\n",
    "X_train, X_test, y_train, y_test = train_test_split(\n",
    "    X, y,\n",
    "    test_size = 0.3,\n",
    "    random_state = 45)"
   ]
  },
  {
   "cell_type": "markdown",
   "metadata": {
    "id": "o4dJViJD1Kd0"
   },
   "source": [
    "### Create the model's architecture"
   ]
  },
  {
   "cell_type": "code",
   "execution_count": 50,
   "metadata": {
    "id": "Tkgf_BLl1Kd1"
   },
   "outputs": [],
   "source": [
    "# insert code here\n",
    "model = Sequential()"
   ]
  },
  {
   "cell_type": "code",
   "execution_count": 70,
   "metadata": {},
   "outputs": [],
   "source": [
    "# Add the first hidden layer\n",
    "model.add(Dense(15, activation = 'relu', input_shape = (n_cols, )))\n",
    "# Add the second hidden layer\n",
    "model.add(Dense(5, activation = 'relu'))\n",
    "# Add the output layer\n",
    "model.add(Dense(1, activation = 'linear'))"
   ]
  },
  {
   "cell_type": "code",
   "execution_count": 52,
   "metadata": {},
   "outputs": [
    {
     "name": "stdout",
     "output_type": "stream",
     "text": [
      "Model: \"sequential_1\"\n",
      "_________________________________________________________________\n",
      " Layer (type)                Output Shape              Param #   \n",
      "=================================================================\n",
      " dense_3 (Dense)             (None, 15)                165       \n",
      "                                                                 \n",
      " dense_4 (Dense)             (None, 5)                 80        \n",
      "                                                                 \n",
      " dense_5 (Dense)             (None, 1)                 6         \n",
      "                                                                 \n",
      "=================================================================\n",
      "Total params: 251\n",
      "Trainable params: 251\n",
      "Non-trainable params: 0\n",
      "_________________________________________________________________\n",
      "None\n"
     ]
    }
   ],
   "source": [
    "print(model.summary())"
   ]
  },
  {
   "cell_type": "code",
   "execution_count": null,
   "metadata": {},
   "outputs": [],
   "source": []
  },
  {
   "cell_type": "markdown",
   "metadata": {
    "id": "5hQTS42V1Kd4"
   },
   "source": [
    "### Compile the model"
   ]
  },
  {
   "cell_type": "code",
   "execution_count": 71,
   "metadata": {
    "id": "BvLsoanF1Kd5"
   },
   "outputs": [],
   "source": [
    "# insert code here\n",
    "# Compile the model\n",
    "model.compile(\n",
    "    loss = 'mse',\n",
    "    metrics = ['mse'])"
   ]
  },
  {
   "cell_type": "markdown",
   "metadata": {
    "id": "6KPQbnEj1Kd7"
   },
   "source": [
    "### Fit the training data"
   ]
  },
  {
   "cell_type": "code",
   "execution_count": 72,
   "metadata": {},
   "outputs": [],
   "source": [
    "# shuffle training data\n",
    "from sklearn.utils import shuffle\n",
    "X_train2, y_train2 = shuffle(X_train, y_train, random_state=42)"
   ]
  },
  {
   "cell_type": "code",
   "execution_count": 73,
   "metadata": {
    "id": "-oiuHjEj1Kd8"
   },
   "outputs": [
    {
     "name": "stdout",
     "output_type": "stream",
     "text": [
      "Epoch 1/200\n",
      "24/24 [==============================] - 2s 14ms/step - loss: 34699.5117 - mse: 34699.5117 - val_loss: 33264.8984 - val_mse: 33264.8984\n",
      "Epoch 2/200\n",
      "24/24 [==============================] - 0s 4ms/step - loss: 30513.8750 - mse: 30513.8750 - val_loss: 29666.8145 - val_mse: 29666.8145\n",
      "Epoch 3/200\n",
      "24/24 [==============================] - 0s 4ms/step - loss: 27129.1953 - mse: 27129.1953 - val_loss: 26113.6758 - val_mse: 26113.6758\n",
      "Epoch 4/200\n",
      "24/24 [==============================] - 0s 4ms/step - loss: 23627.3359 - mse: 23627.3359 - val_loss: 22441.7559 - val_mse: 22441.7559\n",
      "Epoch 5/200\n",
      "24/24 [==============================] - 0s 3ms/step - loss: 20101.0996 - mse: 20101.0996 - val_loss: 19162.4766 - val_mse: 19162.4766\n",
      "Epoch 6/200\n",
      "24/24 [==============================] - 0s 4ms/step - loss: 16842.8242 - mse: 16842.8242 - val_loss: 15788.7344 - val_mse: 15788.7344\n",
      "Epoch 7/200\n",
      "24/24 [==============================] - 0s 4ms/step - loss: 13572.6084 - mse: 13572.6084 - val_loss: 12366.5869 - val_mse: 12366.5869\n",
      "Epoch 8/200\n",
      "24/24 [==============================] - 0s 4ms/step - loss: 10669.5498 - mse: 10669.5498 - val_loss: 9969.3984 - val_mse: 9969.3984\n",
      "Epoch 9/200\n",
      "24/24 [==============================] - 0s 4ms/step - loss: 8445.5107 - mse: 8445.5107 - val_loss: 7711.8198 - val_mse: 7711.8198\n",
      "Epoch 10/200\n",
      "24/24 [==============================] - 0s 4ms/step - loss: 6483.9961 - mse: 6483.9961 - val_loss: 5767.1968 - val_mse: 5767.1968\n",
      "Epoch 11/200\n",
      "24/24 [==============================] - 0s 4ms/step - loss: 4809.9756 - mse: 4809.9756 - val_loss: 4310.6333 - val_mse: 4310.6333\n",
      "Epoch 12/200\n",
      "24/24 [==============================] - 0s 4ms/step - loss: 3889.8796 - mse: 3889.8799 - val_loss: 3439.7136 - val_mse: 3439.7136\n",
      "Epoch 13/200\n",
      "24/24 [==============================] - 0s 4ms/step - loss: 3382.8083 - mse: 3382.8081 - val_loss: 3116.8799 - val_mse: 3116.8799\n",
      "Epoch 14/200\n",
      "24/24 [==============================] - 0s 4ms/step - loss: 3254.7241 - mse: 3254.7241 - val_loss: 3005.8762 - val_mse: 3005.8762\n",
      "Epoch 15/200\n",
      "24/24 [==============================] - 0s 4ms/step - loss: 3221.5535 - mse: 3221.5540 - val_loss: 2948.6277 - val_mse: 2948.6277\n",
      "Epoch 16/200\n",
      "24/24 [==============================] - 0s 4ms/step - loss: 3205.7061 - mse: 3205.7061 - val_loss: 2915.3066 - val_mse: 2915.3066\n",
      "Epoch 17/200\n",
      "24/24 [==============================] - 0s 7ms/step - loss: 3205.4656 - mse: 3205.4656 - val_loss: 2921.6909 - val_mse: 2921.6909\n",
      "Epoch 18/200\n",
      "24/24 [==============================] - 0s 4ms/step - loss: 3214.9260 - mse: 3214.9260 - val_loss: 2951.9827 - val_mse: 2951.9827\n",
      "Epoch 19/200\n",
      "24/24 [==============================] - 0s 4ms/step - loss: 3201.0425 - mse: 3201.0425 - val_loss: 2912.0747 - val_mse: 2912.0747\n",
      "Epoch 20/200\n",
      "24/24 [==============================] - 0s 4ms/step - loss: 3217.4634 - mse: 3217.4634 - val_loss: 2929.1736 - val_mse: 2929.1736\n",
      "Epoch 21/200\n",
      "24/24 [==============================] - 0s 5ms/step - loss: 3204.9998 - mse: 3204.9998 - val_loss: 2928.8308 - val_mse: 2928.8308\n",
      "Epoch 22/200\n",
      "24/24 [==============================] - 0s 5ms/step - loss: 3200.2515 - mse: 3200.2515 - val_loss: 2984.9668 - val_mse: 2984.9670\n",
      "Epoch 23/200\n",
      "24/24 [==============================] - 0s 5ms/step - loss: 3207.1277 - mse: 3207.1277 - val_loss: 2915.7827 - val_mse: 2915.7827\n",
      "Epoch 24/200\n",
      "24/24 [==============================] - 0s 5ms/step - loss: 3201.2146 - mse: 3201.2146 - val_loss: 2912.0408 - val_mse: 2912.0408\n",
      "Epoch 25/200\n",
      "24/24 [==============================] - 0s 5ms/step - loss: 3200.0061 - mse: 3200.0059 - val_loss: 2912.4871 - val_mse: 2912.4871\n",
      "Epoch 26/200\n",
      "24/24 [==============================] - 0s 5ms/step - loss: 3198.9041 - mse: 3198.9041 - val_loss: 2945.7488 - val_mse: 2945.7488\n",
      "Epoch 27/200\n",
      "24/24 [==============================] - 0s 5ms/step - loss: 3204.4924 - mse: 3204.4924 - val_loss: 2915.9897 - val_mse: 2915.9897\n",
      "Epoch 28/200\n",
      "24/24 [==============================] - 0s 5ms/step - loss: 3200.9336 - mse: 3200.9336 - val_loss: 2929.0552 - val_mse: 2929.0552\n",
      "Epoch 29/200\n",
      "24/24 [==============================] - 0s 5ms/step - loss: 3200.8225 - mse: 3200.8225 - val_loss: 2939.1956 - val_mse: 2939.1956\n",
      "Epoch 30/200\n",
      "24/24 [==============================] - 0s 4ms/step - loss: 3193.7390 - mse: 3193.7390 - val_loss: 2914.8628 - val_mse: 2914.8628\n",
      "Epoch 31/200\n",
      "24/24 [==============================] - 0s 5ms/step - loss: 3196.8884 - mse: 3196.8884 - val_loss: 2958.7224 - val_mse: 2958.7224\n",
      "Epoch 32/200\n",
      "24/24 [==============================] - 0s 5ms/step - loss: 3194.5691 - mse: 3194.5691 - val_loss: 2933.3208 - val_mse: 2933.3208\n",
      "Epoch 33/200\n",
      "24/24 [==============================] - 0s 4ms/step - loss: 3196.1909 - mse: 3196.1909 - val_loss: 2925.1025 - val_mse: 2925.1025\n",
      "Epoch 34/200\n",
      "24/24 [==============================] - 0s 5ms/step - loss: 3197.1069 - mse: 3197.1069 - val_loss: 2934.6719 - val_mse: 2934.6719\n",
      "Epoch 35/200\n",
      "24/24 [==============================] - 0s 5ms/step - loss: 3200.0496 - mse: 3200.0496 - val_loss: 2938.4436 - val_mse: 2938.4436\n",
      "Epoch 36/200\n",
      "24/24 [==============================] - 0s 4ms/step - loss: 3199.5698 - mse: 3199.5698 - val_loss: 2948.9553 - val_mse: 2948.9553\n",
      "Epoch 37/200\n",
      "24/24 [==============================] - 0s 4ms/step - loss: 3194.8999 - mse: 3194.8999 - val_loss: 2916.9949 - val_mse: 2916.9949\n",
      "Epoch 38/200\n",
      "24/24 [==============================] - 0s 5ms/step - loss: 3197.3066 - mse: 3197.3066 - val_loss: 2911.6833 - val_mse: 2911.6833\n",
      "Epoch 39/200\n",
      "24/24 [==============================] - 0s 4ms/step - loss: 3182.4097 - mse: 3182.4097 - val_loss: 2978.3752 - val_mse: 2978.3748\n",
      "Epoch 40/200\n",
      "24/24 [==============================] - 0s 4ms/step - loss: 3199.5217 - mse: 3199.5217 - val_loss: 2963.3987 - val_mse: 2963.3987\n",
      "Epoch 41/200\n",
      "24/24 [==============================] - 0s 4ms/step - loss: 3191.0945 - mse: 3191.0945 - val_loss: 2936.9739 - val_mse: 2936.9739\n",
      "Epoch 42/200\n",
      "24/24 [==============================] - 0s 4ms/step - loss: 3193.7639 - mse: 3193.7639 - val_loss: 2935.5938 - val_mse: 2935.5938\n",
      "Epoch 43/200\n",
      "24/24 [==============================] - 0s 4ms/step - loss: 3193.5930 - mse: 3193.5930 - val_loss: 2923.8208 - val_mse: 2923.8208\n",
      "Epoch 44/200\n",
      "24/24 [==============================] - 0s 4ms/step - loss: 3194.8059 - mse: 3194.8059 - val_loss: 2920.3037 - val_mse: 2920.3037\n",
      "Epoch 45/200\n",
      "24/24 [==============================] - 0s 4ms/step - loss: 3190.8103 - mse: 3190.8103 - val_loss: 2924.2358 - val_mse: 2924.2358\n",
      "Epoch 46/200\n",
      "24/24 [==============================] - 0s 4ms/step - loss: 3191.1384 - mse: 3191.1384 - val_loss: 2918.0532 - val_mse: 2918.0532\n",
      "Epoch 47/200\n",
      "24/24 [==============================] - 0s 4ms/step - loss: 3183.2605 - mse: 3183.2605 - val_loss: 2957.9343 - val_mse: 2957.9343\n",
      "Epoch 48/200\n",
      "24/24 [==============================] - 0s 4ms/step - loss: 3201.3274 - mse: 3201.3274 - val_loss: 2985.4441 - val_mse: 2985.4441\n",
      "Epoch 49/200\n",
      "24/24 [==============================] - 0s 4ms/step - loss: 3187.1201 - mse: 3187.1201 - val_loss: 2938.0496 - val_mse: 2938.0496\n",
      "Epoch 50/200\n",
      "24/24 [==============================] - 0s 5ms/step - loss: 3196.8818 - mse: 3196.8818 - val_loss: 2958.9080 - val_mse: 2958.9080\n",
      "Epoch 51/200\n",
      "24/24 [==============================] - 0s 4ms/step - loss: 3188.2654 - mse: 3188.2654 - val_loss: 2940.0999 - val_mse: 2940.0999\n",
      "Epoch 52/200\n",
      "24/24 [==============================] - 0s 5ms/step - loss: 3182.6646 - mse: 3182.6646 - val_loss: 2922.2715 - val_mse: 2922.2715\n",
      "Epoch 53/200\n",
      "24/24 [==============================] - 0s 8ms/step - loss: 3185.1819 - mse: 3185.1819 - val_loss: 2937.1489 - val_mse: 2937.1489\n",
      "Epoch 54/200\n",
      "24/24 [==============================] - 0s 4ms/step - loss: 3181.8518 - mse: 3181.8518 - val_loss: 3004.4417 - val_mse: 3004.4417\n",
      "Epoch 55/200\n",
      "24/24 [==============================] - 0s 4ms/step - loss: 3195.4880 - mse: 3195.4880 - val_loss: 2993.7595 - val_mse: 2993.7595\n",
      "Epoch 56/200\n",
      "24/24 [==============================] - 0s 4ms/step - loss: 3195.8789 - mse: 3195.8789 - val_loss: 2942.1648 - val_mse: 2942.1648\n",
      "Epoch 57/200\n",
      "24/24 [==============================] - 0s 5ms/step - loss: 3184.2622 - mse: 3184.2622 - val_loss: 2913.2134 - val_mse: 2913.2134\n",
      "Epoch 58/200\n",
      "24/24 [==============================] - 0s 4ms/step - loss: 3187.9045 - mse: 3187.9045 - val_loss: 2912.8352 - val_mse: 2912.8352\n",
      "Epoch 59/200\n",
      "24/24 [==============================] - 0s 4ms/step - loss: 3187.7976 - mse: 3187.7976 - val_loss: 2941.4761 - val_mse: 2941.4761\n",
      "Epoch 60/200\n",
      "24/24 [==============================] - 0s 4ms/step - loss: 3192.8699 - mse: 3192.8699 - val_loss: 2962.8555 - val_mse: 2962.8555\n",
      "Epoch 61/200\n",
      "24/24 [==============================] - 0s 4ms/step - loss: 3190.2734 - mse: 3190.2734 - val_loss: 2991.9717 - val_mse: 2991.9717\n",
      "Epoch 62/200\n",
      "24/24 [==============================] - 0s 4ms/step - loss: 3195.6990 - mse: 3195.6990 - val_loss: 3003.9602 - val_mse: 3003.9602\n",
      "Epoch 63/200\n",
      "24/24 [==============================] - 0s 4ms/step - loss: 3193.1882 - mse: 3193.1882 - val_loss: 2992.9980 - val_mse: 2992.9980\n",
      "Epoch 64/200\n",
      "24/24 [==============================] - 0s 4ms/step - loss: 3195.6895 - mse: 3195.6895 - val_loss: 2997.9563 - val_mse: 2997.9563\n",
      "Epoch 65/200\n",
      "24/24 [==============================] - 0s 4ms/step - loss: 3192.7097 - mse: 3192.7097 - val_loss: 2990.1794 - val_mse: 2990.1794\n",
      "Epoch 66/200\n",
      "24/24 [==============================] - 0s 4ms/step - loss: 3192.1326 - mse: 3192.1326 - val_loss: 3033.7483 - val_mse: 3033.7483\n",
      "Epoch 67/200\n",
      "24/24 [==============================] - 0s 4ms/step - loss: 3189.7036 - mse: 3189.7036 - val_loss: 2943.6675 - val_mse: 2943.6675\n",
      "Epoch 68/200\n",
      "24/24 [==============================] - 0s 4ms/step - loss: 3184.8501 - mse: 3184.8501 - val_loss: 2940.6023 - val_mse: 2940.6023\n",
      "Epoch 69/200\n",
      "24/24 [==============================] - 0s 4ms/step - loss: 3189.5408 - mse: 3189.5408 - val_loss: 2921.1763 - val_mse: 2921.1763\n",
      "Epoch 70/200\n",
      "24/24 [==============================] - 0s 4ms/step - loss: 3189.6543 - mse: 3189.6543 - val_loss: 2967.5020 - val_mse: 2967.5020\n",
      "Epoch 71/200\n",
      "24/24 [==============================] - 0s 4ms/step - loss: 3186.6099 - mse: 3186.6099 - val_loss: 2942.6106 - val_mse: 2942.6106\n",
      "Epoch 72/200\n",
      "24/24 [==============================] - 0s 4ms/step - loss: 3195.6553 - mse: 3195.6553 - val_loss: 2957.3850 - val_mse: 2957.3850\n",
      "Epoch 73/200\n",
      "24/24 [==============================] - 0s 5ms/step - loss: 3182.1326 - mse: 3182.1326 - val_loss: 2938.8083 - val_mse: 2938.8083\n",
      "Epoch 74/200\n",
      "24/24 [==============================] - 0s 4ms/step - loss: 3183.6082 - mse: 3183.6082 - val_loss: 2940.1543 - val_mse: 2940.1543\n",
      "Epoch 75/200\n",
      "24/24 [==============================] - 0s 4ms/step - loss: 3184.8804 - mse: 3184.8804 - val_loss: 2973.8110 - val_mse: 2973.8110\n",
      "Epoch 76/200\n",
      "24/24 [==============================] - 0s 4ms/step - loss: 3185.2476 - mse: 3185.2476 - val_loss: 2944.2410 - val_mse: 2944.2410\n",
      "Epoch 77/200\n",
      "24/24 [==============================] - 0s 4ms/step - loss: 3186.7205 - mse: 3186.7205 - val_loss: 2959.4907 - val_mse: 2959.4907\n",
      "Epoch 78/200\n",
      "24/24 [==============================] - 0s 4ms/step - loss: 3190.4421 - mse: 3190.4421 - val_loss: 2922.7314 - val_mse: 2922.7314\n",
      "Epoch 79/200\n",
      "24/24 [==============================] - 0s 4ms/step - loss: 3193.1665 - mse: 3193.1665 - val_loss: 2914.1604 - val_mse: 2914.1604\n",
      "Epoch 80/200\n",
      "24/24 [==============================] - 0s 4ms/step - loss: 3190.4299 - mse: 3190.4297 - val_loss: 2914.2656 - val_mse: 2914.2656\n",
      "Epoch 81/200\n",
      "24/24 [==============================] - 0s 6ms/step - loss: 3188.6384 - mse: 3188.6384 - val_loss: 2926.1511 - val_mse: 2926.1511\n",
      "Epoch 82/200\n",
      "24/24 [==============================] - 0s 5ms/step - loss: 3185.2632 - mse: 3185.2634 - val_loss: 2971.8030 - val_mse: 2971.8030\n",
      "Epoch 83/200\n",
      "24/24 [==============================] - 0s 5ms/step - loss: 3184.1826 - mse: 3184.1826 - val_loss: 2960.6077 - val_mse: 2960.6077\n",
      "Epoch 84/200\n",
      "24/24 [==============================] - 0s 5ms/step - loss: 3179.9941 - mse: 3179.9941 - val_loss: 2922.9006 - val_mse: 2922.9006\n",
      "Epoch 85/200\n",
      "24/24 [==============================] - 0s 5ms/step - loss: 3186.7292 - mse: 3186.7292 - val_loss: 2926.7795 - val_mse: 2926.7795\n",
      "Epoch 86/200\n",
      "24/24 [==============================] - 0s 8ms/step - loss: 3185.2791 - mse: 3185.2791 - val_loss: 2942.2278 - val_mse: 2942.2278\n",
      "Epoch 87/200\n",
      "24/24 [==============================] - 0s 5ms/step - loss: 3180.0657 - mse: 3180.0657 - val_loss: 2937.1995 - val_mse: 2937.1995\n",
      "Epoch 88/200\n",
      "24/24 [==============================] - 0s 5ms/step - loss: 3185.2852 - mse: 3185.2852 - val_loss: 2941.5876 - val_mse: 2941.5876\n",
      "Epoch 89/200\n",
      "24/24 [==============================] - 0s 5ms/step - loss: 3184.7715 - mse: 3184.7717 - val_loss: 2914.6111 - val_mse: 2914.6111\n",
      "Epoch 90/200\n",
      "24/24 [==============================] - 0s 5ms/step - loss: 3190.0730 - mse: 3190.0730 - val_loss: 2956.2512 - val_mse: 2956.2512\n",
      "Epoch 91/200\n",
      "24/24 [==============================] - 0s 5ms/step - loss: 3189.3186 - mse: 3189.3186 - val_loss: 2972.4165 - val_mse: 2972.4165\n",
      "Epoch 92/200\n",
      "24/24 [==============================] - 0s 5ms/step - loss: 3186.4502 - mse: 3186.4502 - val_loss: 2967.2363 - val_mse: 2967.2363\n",
      "Epoch 93/200\n",
      "24/24 [==============================] - 0s 4ms/step - loss: 3185.8315 - mse: 3185.8315 - val_loss: 2970.8909 - val_mse: 2970.8909\n",
      "Epoch 94/200\n",
      "24/24 [==============================] - 0s 4ms/step - loss: 3181.1694 - mse: 3181.1694 - val_loss: 2963.8376 - val_mse: 2963.8376\n",
      "Epoch 95/200\n",
      "24/24 [==============================] - 0s 4ms/step - loss: 3188.0039 - mse: 3188.0039 - val_loss: 2919.8965 - val_mse: 2919.8965\n",
      "Epoch 96/200\n",
      "24/24 [==============================] - 0s 4ms/step - loss: 3181.0249 - mse: 3181.0249 - val_loss: 2921.0273 - val_mse: 2921.0273\n",
      "Epoch 97/200\n",
      "24/24 [==============================] - 0s 4ms/step - loss: 3181.7793 - mse: 3181.7793 - val_loss: 2910.4333 - val_mse: 2910.4333\n",
      "Epoch 98/200\n",
      "24/24 [==============================] - 0s 5ms/step - loss: 3192.0557 - mse: 3192.0557 - val_loss: 2915.9419 - val_mse: 2915.9419\n",
      "Epoch 99/200\n",
      "24/24 [==============================] - 0s 5ms/step - loss: 3188.8010 - mse: 3188.8010 - val_loss: 2913.5415 - val_mse: 2913.5415\n",
      "Epoch 100/200\n",
      "24/24 [==============================] - 0s 5ms/step - loss: 3188.3630 - mse: 3188.3630 - val_loss: 2922.5474 - val_mse: 2922.5474\n",
      "Epoch 101/200\n",
      "24/24 [==============================] - 0s 5ms/step - loss: 3187.0090 - mse: 3187.0090 - val_loss: 2956.8665 - val_mse: 2956.8665\n",
      "Epoch 102/200\n",
      "24/24 [==============================] - 0s 6ms/step - loss: 3186.7893 - mse: 3186.7893 - val_loss: 2928.9768 - val_mse: 2928.9768\n",
      "Epoch 103/200\n",
      "24/24 [==============================] - 0s 5ms/step - loss: 3185.8560 - mse: 3185.8560 - val_loss: 2916.3086 - val_mse: 2916.3086\n",
      "Epoch 104/200\n",
      "24/24 [==============================] - 0s 5ms/step - loss: 3183.0569 - mse: 3183.0569 - val_loss: 2909.5977 - val_mse: 2909.5977\n",
      "Epoch 105/200\n",
      "24/24 [==============================] - 0s 5ms/step - loss: 3192.2002 - mse: 3192.2002 - val_loss: 2944.0776 - val_mse: 2944.0774\n",
      "Epoch 106/200\n",
      "24/24 [==============================] - 0s 5ms/step - loss: 3181.2959 - mse: 3181.2959 - val_loss: 2942.1289 - val_mse: 2942.1289\n",
      "Epoch 107/200\n",
      "24/24 [==============================] - 0s 4ms/step - loss: 3187.0032 - mse: 3187.0029 - val_loss: 2948.9824 - val_mse: 2948.9824\n",
      "Epoch 108/200\n",
      "24/24 [==============================] - 0s 5ms/step - loss: 3183.8533 - mse: 3183.8533 - val_loss: 2944.5808 - val_mse: 2944.5808\n",
      "Epoch 109/200\n",
      "24/24 [==============================] - 0s 6ms/step - loss: 3186.0081 - mse: 3186.0081 - val_loss: 2956.8870 - val_mse: 2956.8870\n",
      "Epoch 110/200\n",
      "24/24 [==============================] - 0s 4ms/step - loss: 3183.8691 - mse: 3183.8691 - val_loss: 2928.0520 - val_mse: 2928.0520\n",
      "Epoch 111/200\n",
      "24/24 [==============================] - 0s 4ms/step - loss: 3169.3391 - mse: 3169.3391 - val_loss: 2930.7578 - val_mse: 2930.7578\n",
      "Epoch 112/200\n",
      "24/24 [==============================] - 0s 4ms/step - loss: 3169.3359 - mse: 3169.3359 - val_loss: 2984.4053 - val_mse: 2984.4053\n",
      "Epoch 113/200\n",
      "24/24 [==============================] - 0s 4ms/step - loss: 3184.4575 - mse: 3184.4575 - val_loss: 2956.3845 - val_mse: 2956.3845\n",
      "Epoch 114/200\n",
      "24/24 [==============================] - 0s 4ms/step - loss: 3189.9075 - mse: 3189.9075 - val_loss: 2985.6145 - val_mse: 2985.6145\n",
      "Epoch 115/200\n",
      "24/24 [==============================] - 0s 3ms/step - loss: 3183.6731 - mse: 3183.6731 - val_loss: 2956.1943 - val_mse: 2956.1943\n",
      "Epoch 116/200\n",
      "24/24 [==============================] - 0s 4ms/step - loss: 3180.7871 - mse: 3180.7871 - val_loss: 2997.9429 - val_mse: 2997.9429\n",
      "Epoch 117/200\n",
      "24/24 [==============================] - 0s 4ms/step - loss: 3182.2427 - mse: 3182.2427 - val_loss: 2925.8442 - val_mse: 2925.8442\n",
      "Epoch 118/200\n",
      "24/24 [==============================] - 0s 4ms/step - loss: 3177.5317 - mse: 3177.5317 - val_loss: 2941.4126 - val_mse: 2941.4126\n",
      "Epoch 119/200\n",
      "24/24 [==============================] - 0s 4ms/step - loss: 3177.3076 - mse: 3177.3076 - val_loss: 2995.4536 - val_mse: 2995.4536\n",
      "Epoch 120/200\n",
      "24/24 [==============================] - 0s 4ms/step - loss: 3189.9124 - mse: 3189.9124 - val_loss: 2970.3123 - val_mse: 2970.3123\n",
      "Epoch 121/200\n",
      "24/24 [==============================] - 0s 4ms/step - loss: 3189.1074 - mse: 3189.1074 - val_loss: 2977.5024 - val_mse: 2977.5024\n",
      "Epoch 122/200\n",
      "24/24 [==============================] - 0s 4ms/step - loss: 3192.0139 - mse: 3192.0139 - val_loss: 2947.4070 - val_mse: 2947.4070\n",
      "Epoch 123/200\n",
      "24/24 [==============================] - 0s 4ms/step - loss: 3188.1843 - mse: 3188.1843 - val_loss: 2932.5549 - val_mse: 2932.5549\n",
      "Epoch 124/200\n",
      "24/24 [==============================] - 0s 4ms/step - loss: 3184.8755 - mse: 3184.8755 - val_loss: 2931.0730 - val_mse: 2931.0730\n",
      "Epoch 125/200\n",
      "24/24 [==============================] - 0s 4ms/step - loss: 3183.8252 - mse: 3183.8252 - val_loss: 2939.9229 - val_mse: 2939.9229\n",
      "Epoch 126/200\n",
      "24/24 [==============================] - 0s 4ms/step - loss: 3179.8176 - mse: 3179.8176 - val_loss: 2924.8135 - val_mse: 2924.8135\n",
      "Epoch 127/200\n",
      "24/24 [==============================] - 0s 4ms/step - loss: 3193.6958 - mse: 3193.6958 - val_loss: 2925.3777 - val_mse: 2925.3777\n",
      "Epoch 128/200\n",
      "24/24 [==============================] - 0s 4ms/step - loss: 3173.3621 - mse: 3173.3621 - val_loss: 2984.7178 - val_mse: 2984.7178\n",
      "Epoch 129/200\n",
      "24/24 [==============================] - 0s 4ms/step - loss: 3183.0149 - mse: 3183.0149 - val_loss: 2964.6895 - val_mse: 2964.6895\n",
      "Epoch 130/200\n",
      "24/24 [==============================] - 0s 4ms/step - loss: 3180.5955 - mse: 3180.5955 - val_loss: 2977.9402 - val_mse: 2977.9402\n",
      "Epoch 131/200\n",
      "24/24 [==============================] - 0s 4ms/step - loss: 3186.2302 - mse: 3186.2302 - val_loss: 2918.2498 - val_mse: 2918.2498\n",
      "Epoch 132/200\n",
      "24/24 [==============================] - 0s 4ms/step - loss: 3177.5735 - mse: 3177.5735 - val_loss: 2955.3811 - val_mse: 2955.3811\n",
      "Epoch 133/200\n",
      "24/24 [==============================] - 0s 4ms/step - loss: 3180.2744 - mse: 3180.2744 - val_loss: 2942.1218 - val_mse: 2942.1221\n",
      "Epoch 134/200\n",
      "24/24 [==============================] - 0s 4ms/step - loss: 3179.0977 - mse: 3179.0977 - val_loss: 2950.4553 - val_mse: 2950.4553\n",
      "Epoch 135/200\n",
      "24/24 [==============================] - 0s 4ms/step - loss: 3183.3418 - mse: 3183.3418 - val_loss: 2927.2654 - val_mse: 2927.2654\n",
      "Epoch 136/200\n",
      "24/24 [==============================] - 0s 4ms/step - loss: 3179.3965 - mse: 3179.3960 - val_loss: 2910.7024 - val_mse: 2910.7024\n",
      "Epoch 137/200\n",
      "24/24 [==============================] - 0s 4ms/step - loss: 3183.9746 - mse: 3183.9746 - val_loss: 2924.1157 - val_mse: 2924.1157\n",
      "Epoch 138/200\n",
      "24/24 [==============================] - 0s 4ms/step - loss: 3182.1953 - mse: 3182.1953 - val_loss: 2923.7629 - val_mse: 2923.7629\n",
      "Epoch 139/200\n",
      "24/24 [==============================] - 0s 4ms/step - loss: 3187.0322 - mse: 3187.0322 - val_loss: 2920.9387 - val_mse: 2920.9387\n",
      "Epoch 140/200\n",
      "24/24 [==============================] - 0s 4ms/step - loss: 3183.0769 - mse: 3183.0769 - val_loss: 2959.5986 - val_mse: 2959.5986\n",
      "Epoch 141/200\n",
      "24/24 [==============================] - 0s 4ms/step - loss: 3183.9880 - mse: 3183.9880 - val_loss: 2952.9436 - val_mse: 2952.9436\n",
      "Epoch 142/200\n",
      "24/24 [==============================] - 0s 4ms/step - loss: 3183.3472 - mse: 3183.3472 - val_loss: 2954.3682 - val_mse: 2954.3682\n",
      "Epoch 143/200\n",
      "24/24 [==============================] - 0s 4ms/step - loss: 3186.4180 - mse: 3186.4180 - val_loss: 2940.7070 - val_mse: 2940.7070\n",
      "Epoch 144/200\n",
      "24/24 [==============================] - 0s 4ms/step - loss: 3181.2183 - mse: 3181.2183 - val_loss: 2920.9526 - val_mse: 2920.9526\n",
      "Epoch 145/200\n",
      "24/24 [==============================] - 0s 4ms/step - loss: 3181.6560 - mse: 3181.6560 - val_loss: 2956.7463 - val_mse: 2956.7463\n",
      "Epoch 146/200\n",
      "24/24 [==============================] - 0s 4ms/step - loss: 3188.5161 - mse: 3188.5161 - val_loss: 2943.9404 - val_mse: 2943.9404\n",
      "Epoch 147/200\n",
      "24/24 [==============================] - 0s 4ms/step - loss: 3182.8154 - mse: 3182.8154 - val_loss: 2912.3882 - val_mse: 2912.3882\n",
      "Epoch 148/200\n",
      "24/24 [==============================] - 0s 4ms/step - loss: 3179.9998 - mse: 3179.9998 - val_loss: 2911.9192 - val_mse: 2911.9192\n",
      "Epoch 149/200\n",
      "24/24 [==============================] - 0s 4ms/step - loss: 3184.6277 - mse: 3184.6277 - val_loss: 2945.2986 - val_mse: 2945.2986\n",
      "Epoch 150/200\n",
      "24/24 [==============================] - 0s 4ms/step - loss: 3171.5029 - mse: 3171.5029 - val_loss: 2913.3665 - val_mse: 2913.3665\n",
      "Epoch 151/200\n",
      "24/24 [==============================] - 0s 4ms/step - loss: 3184.9480 - mse: 3184.9480 - val_loss: 2909.8176 - val_mse: 2909.8176\n",
      "Epoch 152/200\n",
      "24/24 [==============================] - 0s 4ms/step - loss: 3185.1335 - mse: 3185.1335 - val_loss: 2953.3376 - val_mse: 2953.3376\n",
      "Epoch 153/200\n",
      "24/24 [==============================] - 0s 4ms/step - loss: 3179.9028 - mse: 3179.9028 - val_loss: 2914.0195 - val_mse: 2914.0195\n",
      "Epoch 154/200\n",
      "24/24 [==============================] - 0s 4ms/step - loss: 3189.5955 - mse: 3189.5955 - val_loss: 2910.7141 - val_mse: 2910.7141\n",
      "Epoch 155/200\n",
      "24/24 [==============================] - 0s 4ms/step - loss: 3192.7722 - mse: 3192.7722 - val_loss: 2939.0789 - val_mse: 2939.0789\n",
      "Epoch 156/200\n",
      "24/24 [==============================] - 0s 4ms/step - loss: 3173.1506 - mse: 3173.1506 - val_loss: 2906.6580 - val_mse: 2906.6580\n",
      "Epoch 157/200\n",
      "24/24 [==============================] - 0s 4ms/step - loss: 3186.3281 - mse: 3186.3281 - val_loss: 2950.1250 - val_mse: 2950.1250\n",
      "Epoch 158/200\n",
      "24/24 [==============================] - 0s 4ms/step - loss: 3185.1008 - mse: 3185.1008 - val_loss: 2960.9634 - val_mse: 2960.9634\n",
      "Epoch 159/200\n",
      "24/24 [==============================] - 0s 4ms/step - loss: 3186.0522 - mse: 3186.0522 - val_loss: 2987.3511 - val_mse: 2987.3511\n",
      "Epoch 160/200\n",
      "24/24 [==============================] - 0s 4ms/step - loss: 3185.8630 - mse: 3185.8630 - val_loss: 3015.2844 - val_mse: 3015.2844\n",
      "Epoch 161/200\n",
      "24/24 [==============================] - 0s 4ms/step - loss: 3181.6350 - mse: 3181.6350 - val_loss: 2960.5720 - val_mse: 2960.5720\n",
      "Epoch 162/200\n",
      "24/24 [==============================] - 0s 4ms/step - loss: 3186.0669 - mse: 3186.0669 - val_loss: 2965.1074 - val_mse: 2965.1074\n",
      "Epoch 163/200\n",
      "24/24 [==============================] - 0s 4ms/step - loss: 3181.8118 - mse: 3181.8118 - val_loss: 2984.6196 - val_mse: 2984.6196\n",
      "Epoch 164/200\n",
      "24/24 [==============================] - 0s 4ms/step - loss: 3183.1404 - mse: 3183.1404 - val_loss: 2958.1758 - val_mse: 2958.1758\n",
      "Epoch 165/200\n",
      "24/24 [==============================] - 0s 4ms/step - loss: 3193.7698 - mse: 3193.7698 - val_loss: 2933.7229 - val_mse: 2933.7227\n",
      "Epoch 166/200\n",
      "24/24 [==============================] - 0s 4ms/step - loss: 3181.7258 - mse: 3181.7258 - val_loss: 2961.5083 - val_mse: 2961.5083\n",
      "Epoch 167/200\n",
      "24/24 [==============================] - 0s 5ms/step - loss: 3178.6895 - mse: 3178.6895 - val_loss: 2953.0598 - val_mse: 2953.0598\n",
      "Epoch 168/200\n",
      "24/24 [==============================] - 0s 4ms/step - loss: 3181.8225 - mse: 3181.8225 - val_loss: 2977.5171 - val_mse: 2977.5171\n",
      "Epoch 169/200\n",
      "24/24 [==============================] - 0s 5ms/step - loss: 3179.4568 - mse: 3179.4568 - val_loss: 2926.2551 - val_mse: 2926.2551\n",
      "Epoch 170/200\n",
      "24/24 [==============================] - 0s 4ms/step - loss: 3182.2036 - mse: 3182.2036 - val_loss: 2943.9131 - val_mse: 2943.9131\n",
      "Epoch 171/200\n",
      "24/24 [==============================] - 0s 4ms/step - loss: 3179.9045 - mse: 3179.9045 - val_loss: 2912.2285 - val_mse: 2912.2285\n",
      "Epoch 172/200\n",
      "24/24 [==============================] - 0s 4ms/step - loss: 3174.8228 - mse: 3174.8228 - val_loss: 2928.2920 - val_mse: 2928.2920\n",
      "Epoch 173/200\n",
      "24/24 [==============================] - 0s 5ms/step - loss: 3180.0596 - mse: 3180.0596 - val_loss: 2908.9971 - val_mse: 2908.9971\n",
      "Epoch 174/200\n",
      "24/24 [==============================] - 0s 4ms/step - loss: 3189.8740 - mse: 3189.8743 - val_loss: 2906.7322 - val_mse: 2906.7317\n",
      "Epoch 175/200\n",
      "24/24 [==============================] - 0s 4ms/step - loss: 3182.7322 - mse: 3182.7322 - val_loss: 2938.2708 - val_mse: 2938.2708\n",
      "Epoch 176/200\n",
      "24/24 [==============================] - 0s 4ms/step - loss: 3190.7441 - mse: 3190.7441 - val_loss: 2929.3298 - val_mse: 2929.3298\n",
      "Epoch 177/200\n",
      "24/24 [==============================] - 0s 4ms/step - loss: 3186.9421 - mse: 3186.9421 - val_loss: 2971.1672 - val_mse: 2971.1672\n",
      "Epoch 178/200\n",
      "24/24 [==============================] - 0s 4ms/step - loss: 3181.2544 - mse: 3181.2544 - val_loss: 2957.2395 - val_mse: 2957.2395\n",
      "Epoch 179/200\n",
      "24/24 [==============================] - 0s 4ms/step - loss: 3179.8518 - mse: 3179.8518 - val_loss: 2924.3469 - val_mse: 2924.3469\n",
      "Epoch 180/200\n",
      "24/24 [==============================] - 0s 5ms/step - loss: 3176.7058 - mse: 3176.7058 - val_loss: 2956.5330 - val_mse: 2956.5330\n",
      "Epoch 181/200\n",
      "24/24 [==============================] - 0s 4ms/step - loss: 3177.9871 - mse: 3177.9871 - val_loss: 2935.3010 - val_mse: 2935.3010\n",
      "Epoch 182/200\n",
      "24/24 [==============================] - 0s 4ms/step - loss: 3177.9121 - mse: 3177.9121 - val_loss: 2945.0886 - val_mse: 2945.0886\n",
      "Epoch 183/200\n",
      "24/24 [==============================] - 0s 4ms/step - loss: 3184.9392 - mse: 3184.9392 - val_loss: 2931.5916 - val_mse: 2931.5916\n",
      "Epoch 184/200\n",
      "24/24 [==============================] - 0s 5ms/step - loss: 3177.8547 - mse: 3177.8547 - val_loss: 2920.8645 - val_mse: 2920.8645\n",
      "Epoch 185/200\n",
      "24/24 [==============================] - 0s 5ms/step - loss: 3185.9893 - mse: 3185.9893 - val_loss: 2922.6589 - val_mse: 2922.6589\n",
      "Epoch 186/200\n",
      "24/24 [==============================] - 0s 4ms/step - loss: 3179.4990 - mse: 3179.4990 - val_loss: 2938.4111 - val_mse: 2938.4111\n",
      "Epoch 187/200\n",
      "24/24 [==============================] - 0s 5ms/step - loss: 3181.0918 - mse: 3181.0918 - val_loss: 2959.0078 - val_mse: 2959.0078\n",
      "Epoch 188/200\n",
      "24/24 [==============================] - 0s 5ms/step - loss: 3186.6406 - mse: 3186.6406 - val_loss: 2983.1155 - val_mse: 2983.1155\n",
      "Epoch 189/200\n",
      "24/24 [==============================] - 0s 4ms/step - loss: 3181.8259 - mse: 3181.8259 - val_loss: 2951.2424 - val_mse: 2951.2424\n",
      "Epoch 190/200\n",
      "24/24 [==============================] - 0s 4ms/step - loss: 3176.9695 - mse: 3176.9695 - val_loss: 2972.9692 - val_mse: 2972.9692\n",
      "Epoch 191/200\n",
      "24/24 [==============================] - 0s 4ms/step - loss: 3179.6819 - mse: 3179.6819 - val_loss: 2977.2048 - val_mse: 2977.2048\n",
      "Epoch 192/200\n",
      "24/24 [==============================] - 0s 4ms/step - loss: 3186.8931 - mse: 3186.8931 - val_loss: 2970.1479 - val_mse: 2970.1479\n",
      "Epoch 193/200\n",
      "24/24 [==============================] - 0s 4ms/step - loss: 3180.7529 - mse: 3180.7529 - val_loss: 2926.0173 - val_mse: 2926.0171\n",
      "Epoch 194/200\n",
      "24/24 [==============================] - 0s 5ms/step - loss: 3176.4370 - mse: 3176.4370 - val_loss: 2964.6113 - val_mse: 2964.6111\n",
      "Epoch 195/200\n",
      "24/24 [==============================] - 0s 5ms/step - loss: 3185.1196 - mse: 3185.1196 - val_loss: 2915.2649 - val_mse: 2915.2649\n",
      "Epoch 196/200\n",
      "24/24 [==============================] - 0s 5ms/step - loss: 3174.9329 - mse: 3174.9329 - val_loss: 2920.0974 - val_mse: 2920.0974\n",
      "Epoch 197/200\n",
      "24/24 [==============================] - 0s 4ms/step - loss: 3177.8230 - mse: 3177.8230 - val_loss: 2972.7710 - val_mse: 2972.7710\n",
      "Epoch 198/200\n",
      "24/24 [==============================] - 0s 5ms/step - loss: 3184.7114 - mse: 3184.7114 - val_loss: 2973.8293 - val_mse: 2973.8293\n",
      "Epoch 199/200\n",
      "24/24 [==============================] - 0s 5ms/step - loss: 3185.3503 - mse: 3185.3501 - val_loss: 2953.7705 - val_mse: 2953.7705\n",
      "Epoch 200/200\n",
      "24/24 [==============================] - 0s 5ms/step - loss: 3176.4504 - mse: 3176.4504 - val_loss: 2920.0300 - val_mse: 2920.0300\n",
      "CPU times: total: 1min 39s\n",
      "Wall time: 24.2 s\n"
     ]
    }
   ],
   "source": [
    "%%time\n",
    "# insert code here\n",
    "# Fit the model\n",
    "history = model.fit(\n",
    "    X_train2,\n",
    "    y_train2,\n",
    "    validation_split = 0.25,\n",
    "    batch_size = 10,\n",
    "    epochs = 200,\n",
    "    verbose = 1)"
   ]
  },
  {
   "cell_type": "markdown",
   "metadata": {
    "id": "CR-kCu3c1Kd-"
   },
   "source": [
    "### Create predictions"
   ]
  },
  {
   "cell_type": "code",
   "execution_count": 74,
   "metadata": {
    "id": "wkywKqPg1Kd-"
   },
   "outputs": [
    {
     "name": "stdout",
     "output_type": "stream",
     "text": [
      "5/5 [==============================] - 0s 3ms/step\n"
     ]
    }
   ],
   "source": [
    "# insert code here\n",
    "predictions = model.predict(X_test)"
   ]
  },
  {
   "cell_type": "code",
   "execution_count": 75,
   "metadata": {},
   "outputs": [
    {
     "data": {
      "text/plain": [
       "array([[215.86232 ],\n",
       "       [155.92923 ],\n",
       "       [ 84.55562 ],\n",
       "       [190.2153  ],\n",
       "       [165.74007 ],\n",
       "       [145.67067 ],\n",
       "       [125.71499 ],\n",
       "       [ 98.44989 ],\n",
       "       [101.25846 ],\n",
       "       [182.55194 ],\n",
       "       [247.25351 ],\n",
       "       [128.35504 ],\n",
       "       [196.39561 ],\n",
       "       [ 61.92411 ],\n",
       "       [178.82619 ],\n",
       "       [124.33279 ],\n",
       "       [122.65883 ],\n",
       "       [134.29855 ],\n",
       "       [166.07188 ],\n",
       "       [156.58034 ],\n",
       "       [131.18813 ],\n",
       "       [129.2321  ],\n",
       "       [ 73.57239 ],\n",
       "       [233.08739 ],\n",
       "       [246.12347 ],\n",
       "       [131.12573 ],\n",
       "       [180.0664  ],\n",
       "       [198.61005 ],\n",
       "       [179.24167 ],\n",
       "       [ 80.05767 ],\n",
       "       [238.7294  ],\n",
       "       [ 69.13889 ],\n",
       "       [155.21484 ],\n",
       "       [113.18276 ],\n",
       "       [232.47037 ],\n",
       "       [174.02493 ],\n",
       "       [129.64699 ],\n",
       "       [174.79814 ],\n",
       "       [221.07254 ],\n",
       "       [224.72383 ],\n",
       "       [121.87104 ],\n",
       "       [181.64111 ],\n",
       "       [161.98532 ],\n",
       "       [177.76753 ],\n",
       "       [109.350975],\n",
       "       [242.80281 ],\n",
       "       [127.1187  ],\n",
       "       [ 54.361214],\n",
       "       [176.82877 ],\n",
       "       [138.16734 ],\n",
       "       [281.60693 ],\n",
       "       [119.665276],\n",
       "       [119.91986 ],\n",
       "       [142.53177 ],\n",
       "       [109.23395 ],\n",
       "       [164.6234  ],\n",
       "       [224.91733 ],\n",
       "       [184.73424 ],\n",
       "       [152.70935 ],\n",
       "       [112.746994],\n",
       "       [ 83.80629 ],\n",
       "       [127.21442 ],\n",
       "       [163.10999 ],\n",
       "       [ 98.874695],\n",
       "       [307.17645 ],\n",
       "       [149.19238 ],\n",
       "       [168.6068  ],\n",
       "       [152.65099 ],\n",
       "       [228.00273 ],\n",
       "       [111.136505],\n",
       "       [ 89.91046 ],\n",
       "       [185.68513 ],\n",
       "       [ 86.298294],\n",
       "       [162.51816 ],\n",
       "       [237.43886 ],\n",
       "       [142.72362 ],\n",
       "       [170.21521 ],\n",
       "       [198.71388 ],\n",
       "       [121.68716 ],\n",
       "       [122.70147 ],\n",
       "       [ 97.438934],\n",
       "       [ 56.558132],\n",
       "       [109.08597 ],\n",
       "       [238.13936 ],\n",
       "       [141.1915  ],\n",
       "       [107.57534 ],\n",
       "       [156.58737 ],\n",
       "       [174.44058 ],\n",
       "       [ 87.7159  ],\n",
       "       [151.57649 ],\n",
       "       [ 90.81678 ],\n",
       "       [118.41736 ],\n",
       "       [111.4839  ],\n",
       "       [254.79861 ],\n",
       "       [203.33073 ],\n",
       "       [175.62871 ],\n",
       "       [ 85.04689 ],\n",
       "       [116.41018 ],\n",
       "       [110.60983 ],\n",
       "       [194.2042  ],\n",
       "       [183.3605  ],\n",
       "       [196.01117 ],\n",
       "       [108.63202 ],\n",
       "       [159.71632 ],\n",
       "       [130.52414 ],\n",
       "       [134.08286 ],\n",
       "       [114.80786 ],\n",
       "       [149.9993  ],\n",
       "       [166.44806 ],\n",
       "       [ 78.517494],\n",
       "       [192.08249 ],\n",
       "       [153.59016 ],\n",
       "       [211.1775  ],\n",
       "       [142.2147  ],\n",
       "       [284.21988 ],\n",
       "       [214.57436 ],\n",
       "       [130.08377 ],\n",
       "       [145.75325 ],\n",
       "       [132.77585 ],\n",
       "       [234.01756 ],\n",
       "       [213.75427 ],\n",
       "       [178.91765 ],\n",
       "       [167.09724 ],\n",
       "       [163.09062 ],\n",
       "       [117.4026  ],\n",
       "       [132.36102 ],\n",
       "       [129.94406 ],\n",
       "       [121.24159 ],\n",
       "       [260.1819  ],\n",
       "       [150.65019 ],\n",
       "       [191.8958  ],\n",
       "       [243.58109 ],\n",
       "       [219.24985 ]], dtype=float32)"
      ]
     },
     "execution_count": 75,
     "metadata": {},
     "output_type": "execute_result"
    }
   ],
   "source": [
    "predictions"
   ]
  },
  {
   "cell_type": "markdown",
   "metadata": {
    "id": "-unEmrGo1KeA"
   },
   "source": [
    "### Evaluate the model"
   ]
  },
  {
   "cell_type": "code",
   "execution_count": 76,
   "metadata": {
    "id": "QCIVpVrG1KeB"
   },
   "outputs": [
    {
     "name": "stdout",
     "output_type": "stream",
     "text": [
      "5/5 [==============================] - 0s 3ms/step - loss: 2522.4438 - mse: 2522.4438\n",
      "\n",
      "Test loss: 2522.443848\n"
     ]
    }
   ],
   "source": [
    "# insert code here\n",
    "# Calculate test MSE\n",
    "score = model.evaluate(X_test, y_test)\n",
    "print('\\nTest loss: %.6f' % score[0])"
   ]
  },
  {
   "cell_type": "code",
   "execution_count": 77,
   "metadata": {},
   "outputs": [
    {
     "data": {
      "text/plain": [
       "[2522.44384765625, 2522.44384765625]"
      ]
     },
     "execution_count": 77,
     "metadata": {},
     "output_type": "execute_result"
    }
   ],
   "source": [
    "score"
   ]
  },
  {
   "cell_type": "code",
   "execution_count": 78,
   "metadata": {},
   "outputs": [
    {
     "data": {
      "text/plain": [
       "50.22393699876832"
      ]
     },
     "execution_count": 78,
     "metadata": {},
     "output_type": "execute_result"
    }
   ],
   "source": [
    "# Find RMSE\n",
    "score[0] ** (1/2)"
   ]
  },
  {
   "cell_type": "markdown",
   "metadata": {
    "id": "sSlqjs7e1KeD"
   },
   "source": [
    "### Visualisation of cost"
   ]
  },
  {
   "cell_type": "code",
   "execution_count": 79,
   "metadata": {},
   "outputs": [
    {
     "data": {
      "image/png": "[encoded data removed]",
      "text/plain": [
       "<Figure size 1800x600 with 2 Axes>"
      ]
     },
     "metadata": {},
     "output_type": "display_data"
    }
   ],
   "source": [
    "fig, ax = plt.subplots(1, 2, figsize = (18, 6))\n",
    "fig.subplots_adjust(left = 0.02, right = 0.98, wspace = 0.2)\n",
    "\n",
    "plt.rcParams.update({'font.size': 14})\n",
    "\n",
    "# Plot training & validation accuracy values\n",
    "ax[0].plot(history.history['mse'], label = 'Training')\n",
    "ax[0].plot(history.history['val_mse'], label = 'Validation')\n",
    "ax[0].set_title('Model MSE')\n",
    "ax[0].set_ylabel('MSE')\n",
    "ax[0].set_xlabel('Epoch')\n",
    "ax[0].legend()\n",
    "\n",
    "# Plot training & validation loss values\n",
    "ax[1].plot(history.history['loss'], label = 'Training')\n",
    "ax[1].plot(history.history['val_loss'], label = 'Validation')\n",
    "ax[1].set_title('Model loss')\n",
    "ax[1].set_ylabel('Loss')\n",
    "ax[1].set_xlabel('Epoch')\n",
    "ax[1].legend()\n",
    "\n",
    "plt.show()"
   ]
  },
  {
   "cell_type": "markdown",
   "metadata": {
    "id": "vQLzMZTM1KeG"
   },
   "source": [
    "### Visualisation of residuals"
   ]
  },
  {
   "cell_type": "code",
   "execution_count": 81,
   "metadata": {
    "id": "1F6hYpNh1KeE",
    "scrolled": true
   },
   "outputs": [],
   "source": [
    "# insert code here\n",
    "# Calculate R2 and adjusted R2\n",
    "r2 = r2_score(y_test, predictions)\n",
    "n, p = X.shape # sample size, number of explanatory variables\n",
    "adjusted_r2 = 1 - (1 - r2) * ((n - 1) / (n - p - 1))"
   ]
  },
  {
   "cell_type": "code",
   "execution_count": 82,
   "metadata": {
    "id": "opIulVSw1KeH"
   },
   "outputs": [
    {
     "data": {
      "image/png": "[encoded data removed]",
      "text/plain": [
       "<Figure size 1500x600 with 1 Axes>"
      ]
     },
     "metadata": {},
     "output_type": "display_data"
    }
   ],
   "source": [
    "# insert code here\n",
    "difference = predictions.flatten() - y_test\n",
    "d_mean = difference.mean()\n",
    "d_std = difference.std()\n",
    "n_pred = len(predictions)\n",
    "plt.figure(figsize = (15, 6))\n",
    "plt.scatter(range(n_pred), difference, s = 15)\n",
    "plt.hlines(d_mean + d_std, 0, n_pred, 'r', lw = 1, label = '$\\pm \\: std$')\n",
    "plt.hlines(d_mean, 0, n_pred, label = '$mean$')\n",
    "plt.hlines(d_mean - d_std, 0, n_pred, 'r', lw = 1)\n",
    "plt.xlabel('Prediction')\n",
    "plt.ylabel('$\\hat y - y$')\n",
    "plt.legend()\n",
    "plt.text(0, difference.max() * 0.95,\n",
    "         '$R^2: %.2f, \\: Adjusted \\: R^2: %.2f$' % (r2, adjusted_r2),\n",
    "         fontsize = 12)\n",
    "plt.show()"
   ]
  },
  {
   "cell_type": "markdown",
   "metadata": {
    "id": "RERADKgNFq9T"
   },
   "source": [
    "\n",
    "\n",
    "---\n",
    "\n",
    "\n",
    "\n",
    "---\n",
    "\n",
    "\n",
    "\n",
    "> > > > > > > > > © 2024 Institute of Data\n",
    "\n",
    "\n",
    "---\n",
    "\n",
    "\n",
    "\n",
    "---\n",
    "\n",
    "\n",
    "\n"
   ]
  }
 ],
 "metadata": {
  "colab": {
   "provenance": []
  },
  "kernelspec": {
   "display_name": "Python 3 (ipykernel)",
   "language": "python",
   "name": "python3"
  },
  "language_info": {
   "codemirror_mode": {
    "name": "ipython",
    "version": 3
   },
   "file_extension": ".py",
   "mimetype": "text/x-python",
   "name": "python",
   "nbconvert_exporter": "python",
   "pygments_lexer": "ipython3",
   "version": "3.9.18"
  }
 },
 "nbformat": 4,
 "nbformat_minor": 4
}
